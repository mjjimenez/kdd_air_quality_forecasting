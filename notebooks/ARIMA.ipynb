{
 "cells": [
  {
   "cell_type": "code",
   "execution_count": 1,
   "metadata": {},
   "outputs": [],
   "source": [
    "import pandas as pd\n",
    "import numpy as np\n",
    "import matplotlib.pyplot as plt\n",
    "import statsmodels.api as sm\n",
    "from pandas.plotting import lag_plot, autocorrelation_plot\n",
    "from statsmodels.graphics.tsaplots import plot_acf, plot_pacf\n",
    "from statsmodels.tsa.stattools import adfuller\n",
    "from statsmodels.tsa.arima_model import ARIMA\n",
    "import math\n",
    "import warnings\n",
    "\n",
    "%load_ext autoreload\n",
    "%autoreload 2\n",
    "%matplotlib inline"
   ]
  },
  {
   "cell_type": "code",
   "execution_count": 2,
   "metadata": {},
   "outputs": [],
   "source": [
    "# TODO: Use python PathLib to use \n",
    "DATA_PATH = '../data/'"
   ]
  },
  {
   "cell_type": "code",
   "execution_count": 3,
   "metadata": {},
   "outputs": [],
   "source": [
    "def rmse(x,y): return math.sqrt(((x-y)**2).mean())"
   ]
  },
  {
   "cell_type": "code",
   "execution_count": 4,
   "metadata": {},
   "outputs": [],
   "source": [
    "def test_stationarity(timeseries, cutoff = 0.01):\n",
    "    \n",
    "    print('Results of Dickey-Fuller Test:')\n",
    "#     dftest = adfuller(timeseries, autolag='AIC', maxlag = 20 )\n",
    "    dftest = adfuller(timeseries)\n",
    "    dfoutput = pd.Series(dftest[0:4], index=['Test Statistic','p-value','#Lags Used','Number of Observations Used'])\n",
    "    for key,value in dftest[4].items():\n",
    "        dfoutput['Critical Value (%s)'%key] = value\n",
    "    pvalue = dftest[1]\n",
    "    if pvalue < cutoff:\n",
    "        print('p-value = %f. The series is likely stationary.' % pvalue)\n",
    "    else:\n",
    "        print('p-value = %f. The series is likely non-stationary.' % pvalue)\n",
    "    \n",
    "    print(dfoutput)\n",
    "\n",
    "    \n",
    "# evaluate an ARIMA model for a given order (p,d,q)\n",
    "def evaluate_arima_model(X, arima_order):\n",
    "  # prepare training dataset\n",
    "  train_size = int(len(X) * 0.66)\n",
    "  train, test = X[0:train_size], X[train_size:]\n",
    "  history = [x for x in train]\n",
    "  # make predictions\n",
    "  predictions = list()\n",
    "  for t in range(len(test)):\n",
    "    model = ARIMA(history, order=arima_order)\n",
    "    model_fit = model.fit(disp=0)\n",
    "    yhat = model_fit.forecast()[0]\n",
    "    predictions.append(yhat)\n",
    "    history.append(test[t])\n",
    "  # calculate out of sample error\n",
    "  rmse = sqrt(mean_squared_error(test, predictions))\n",
    "  return rmse\n",
    "\n",
    "\n",
    "def evaluate_models(dataset, p_values, d_values, q_values): \n",
    "    dataset = dataset.astype('float32')\n",
    "    best_score, best_cfg = float(\"inf\"), None\n",
    "    for p in p_values:\n",
    "        for d in d_values:\n",
    "         for q in q_values:\n",
    "           order = (p,d,q)\n",
    "           try:\n",
    "             rmse = evaluate_arima_model(dataset, order)\n",
    "             if rmse < best_score:\n",
    "                best_score, best_cfg = rmse, order \n",
    "                print('ARIMA%s RMSE=%.3f' % (order,rmse))\n",
    "           except:\n",
    "             continue\n",
    "    print('Best ARIMA%s RMSE=%.3f' % (best_cfg, best_score))\n"
   ]
  },
  {
   "cell_type": "code",
   "execution_count": 5,
   "metadata": {},
   "outputs": [],
   "source": [
    "y_train_pm25 = pd.read_feather(DATA_PATH + 'processed/donggaocun/pm25_train_test/y_train_pm25.feather')\n",
    "\n",
    "y_train_pm25 = y_train_pm25.set_index('utc_datetime')\n",
    "y_train_pm25[y_train_pm25['PM2.5'] == -1] = np.nan # It was set to -1 so it could work with XGBoost"
   ]
  },
  {
   "cell_type": "markdown",
   "metadata": {},
   "source": [
    "## Test stationarity"
   ]
  },
  {
   "cell_type": "code",
   "execution_count": 6,
   "metadata": {},
   "outputs": [
    {
     "name": "stdout",
     "output_type": "stream",
     "text": [
      "Results of Dickey-Fuller Test:\n",
      "p-value = 0.000000. The series is likely stationary.\n",
      "Test Statistic                -1.144424e+01\n",
      "p-value                        6.073249e-21\n",
      "#Lags Used                     1.500000e+01\n",
      "Number of Observations Used    6.680000e+03\n",
      "Critical Value (1%)           -3.431329e+00\n",
      "Critical Value (5%)           -2.861973e+00\n",
      "Critical Value (10%)          -2.567000e+00\n",
      "dtype: float64\n"
     ]
    }
   ],
   "source": [
    "test_stationarity(y_train_pm25['PM2.5'][y_train_pm25['PM2.5'].notnull()], 0.05)"
   ]
  },
  {
   "cell_type": "markdown",
   "metadata": {},
   "source": [
    "## Check correlation with lagged versions of PM2.5"
   ]
  },
  {
   "cell_type": "code",
   "execution_count": 7,
   "metadata": {
    "scrolled": true
   },
   "outputs": [
    {
     "data": {
      "text/plain": [
       "<matplotlib.axes._subplots.AxesSubplot at 0x123782940>"
      ]
     },
     "execution_count": 7,
     "metadata": {},
     "output_type": "execute_result"
    },
    {
     "data": {
      "image/png": "[encoded data removed]",
      "text/plain": [
       "<Figure size 432x288 with 1 Axes>"
      ]
     },
     "metadata": {
      "needs_background": "light"
     },
     "output_type": "display_data"
    }
   ],
   "source": [
    "lag_plot(y_train_pm25['PM2.5'])"
   ]
  },
  {
   "cell_type": "code",
   "execution_count": 8,
   "metadata": {},
   "outputs": [
    {
     "data": {
      "text/plain": [
       "<matplotlib.axes._subplots.AxesSubplot at 0x1265e5588>"
      ]
     },
     "execution_count": 8,
     "metadata": {},
     "output_type": "execute_result"
    },
    {
     "data": {
      "image/png": "[encoded data removed]",
      "text/plain": [
       "<Figure size 432x288 with 1 Axes>"
      ]
     },
     "metadata": {
      "needs_background": "light"
     },
     "output_type": "display_data"
    }
   ],
   "source": [
    "autocorrelation_plot(y_train_pm25['PM2.5'][y_train_pm25['PM2.5'].notnull()])"
   ]
  },
  {
   "cell_type": "code",
   "execution_count": 9,
   "metadata": {},
   "outputs": [
    {
     "data": {
      "image/png": "[encoded data removed]",
      "text/plain": [
       "<Figure size 432x288 with 1 Axes>"
      ]
     },
     "execution_count": 9,
     "metadata": {},
     "output_type": "execute_result"
    },
    {
     "data": {
      "image/png": "[encoded data removed]",
      "text/plain": [
       "<Figure size 432x288 with 1 Axes>"
      ]
     },
     "metadata": {
      "needs_background": "light"
     },
     "output_type": "display_data"
    }
   ],
   "source": [
    "plot_acf(y_train_pm25['PM2.5'][y_train_pm25['PM2.5'].notnull()])"
   ]
  },
  {
   "cell_type": "code",
   "execution_count": 10,
   "metadata": {},
   "outputs": [
    {
     "data": {
      "image/png": "[encoded data removed]",
      "text/plain": [
       "<Figure size 432x288 with 1 Axes>"
      ]
     },
     "metadata": {
      "needs_background": "light"
     },
     "output_type": "display_data"
    }
   ],
   "source": [
    "x = plot_pacf(y_train_pm25['PM2.5'][y_train_pm25['PM2.5'].notnull()])"
   ]
  },
  {
   "cell_type": "markdown",
   "metadata": {},
   "source": [
    "## ARIMA"
   ]
  },
  {
   "cell_type": "code",
   "execution_count": 50,
   "metadata": {},
   "outputs": [],
   "source": [
    "# Use AR(3) as parameters based on acf and pacf"
   ]
  },
  {
   "cell_type": "code",
   "execution_count": 11,
   "metadata": {},
   "outputs": [
    {
     "name": "stderr",
     "output_type": "stream",
     "text": [
      "/Users/mjjim2003/Documents/Eskwelabs/Capstone_Project/Air_Quality/KDD_Air_Quality/kdd_air_quality/env/lib/python3.6/site-packages/statsmodels/tsa/base/tsa_model.py:219: ValueWarning: A date index has been provided, but it has no associated frequency information and so will be ignored when e.g. forecasting.\n",
      "  ' ignored when e.g. forecasting.', ValueWarning)\n"
     ]
    },
    {
     "name": "stdout",
     "output_type": "stream",
     "text": [
      "                              ARMA Model Results                              \n",
      "==============================================================================\n",
      "Dep. Variable:                  PM2.5   No. Observations:                 6696\n",
      "Model:                     ARMA(3, 0)   Log Likelihood              -29225.805\n",
      "Method:                       css-mle   S.D. of innovations             19.021\n",
      "Date:                Sat, 05 Oct 2019   AIC                          58461.609\n",
      "Time:                        10:44:53   BIC                          58495.655\n",
      "Sample:                             0   HQIC                         58473.367\n",
      "                                                                              \n",
      "===============================================================================\n",
      "                  coef    std err          z      P>|z|      [0.025      0.975]\n",
      "-------------------------------------------------------------------------------\n",
      "const          54.0049      3.784     14.271      0.000      46.588      61.422\n",
      "ar.L1.PM2.5     1.0856      0.012     88.855      0.000       1.062       1.110\n",
      "ar.L2.PM2.5    -0.1147      0.018     -6.380      0.000      -0.150      -0.079\n",
      "ar.L3.PM2.5    -0.0322      0.012     -2.635      0.008      -0.056      -0.008\n",
      "                                    Roots                                    \n",
      "=============================================================================\n",
      "                  Real          Imaginary           Modulus         Frequency\n",
      "-----------------------------------------------------------------------------\n",
      "AR.1            1.0826           +0.0000j            1.0826            0.0000\n",
      "AR.2            3.5152           +0.0000j            3.5152            0.0000\n",
      "AR.3           -8.1621           +0.0000j            8.1621            0.5000\n",
      "-----------------------------------------------------------------------------\n",
      "                 0\n",
      "count  6696.000000\n",
      "mean     -0.000061\n",
      "std      19.022878\n",
      "min    -859.997596\n",
      "25%      -5.192553\n",
      "50%      -0.462968\n",
      "75%       4.931070\n",
      "max     704.840549\n"
     ]
    },
    {
     "data": {
      "image/png": "[encoded data removed]",
      "text/plain": [
       "<Figure size 432x288 with 1 Axes>"
      ]
     },
     "metadata": {
      "needs_background": "light"
     },
     "output_type": "display_data"
    }
   ],
   "source": [
    "nonnull_pm25_y_train = y_train_pm25['PM2.5'][y_train_pm25['PM2.5'].notnull()]\n",
    "model = ARIMA(nonnull_pm25_y_train, order=(3,0,0))\n",
    "model_fit = model.fit(disp=0)\n",
    "# summary of fit model\n",
    "print(model_fit.summary())\n",
    "# line plot of residuals\n",
    "residuals = pd.DataFrame(model_fit.resid) \n",
    "residuals.plot()\n",
    "# density plot of residuals residuals.plot(kind='kde') pyplot.show()\n",
    "# summary stats of residuals\n",
    "print(residuals.describe())"
   ]
  },
  {
   "cell_type": "code",
   "execution_count": 12,
   "metadata": {},
   "outputs": [
    {
     "data": {
      "text/plain": [
       "(2016, 1)"
      ]
     },
     "execution_count": 12,
     "metadata": {},
     "output_type": "execute_result"
    }
   ],
   "source": [
    "y_valid_pm25 = pd.read_feather(DATA_PATH + 'processed/donggaocun/pm25_train_test/y_valid_pm25.feather')\n",
    "y_valid_pm25 = y_valid_pm25.set_index('utc_datetime')\n",
    "y_valid_pm25.shape"
   ]
  },
  {
   "cell_type": "code",
   "execution_count": 13,
   "metadata": {},
   "outputs": [],
   "source": [
    "forecast_result = model_fit.forecast(steps=2016)"
   ]
  },
  {
   "cell_type": "code",
   "execution_count": 14,
   "metadata": {},
   "outputs": [
    {
     "data": {
      "text/plain": [
       "64.65844776110765"
      ]
     },
     "execution_count": 14,
     "metadata": {},
     "output_type": "execute_result"
    }
   ],
   "source": [
    "nonnull_values = y_valid_pm25['PM2.5'].notnull()\n",
    "y = y_valid_pm25['PM2.5'][nonnull_values]\n",
    "predictions = forecast_result[0]\n",
    "predictions = predictions[nonnull_values]\n",
    "rmse(predictions, y)"
   ]
  },
  {
   "cell_type": "markdown",
   "metadata": {},
   "source": [
    "## ARIMA with imputation"
   ]
  },
  {
   "cell_type": "code",
   "execution_count": 16,
   "metadata": {},
   "outputs": [
    {
     "data": {
      "text/plain": [
       "(8062, 1)"
      ]
     },
     "execution_count": 16,
     "metadata": {},
     "output_type": "execute_result"
    }
   ],
   "source": [
    "y_train_pm25.shape"
   ]
  },
  {
   "cell_type": "code",
   "execution_count": null,
   "metadata": {},
   "outputs": [
    {
     "name": "stdout",
     "output_type": "stream",
     "text": [
      "Imputing row 1/8062 with 0 missing, elapsed time: 5.362\n",
      "Imputing row 101/8062 with 0 missing, elapsed time: 5.362\n",
      "Imputing row 201/8062 with 1 missing, elapsed time: 5.363\n",
      "Imputing row 301/8062 with 0 missing, elapsed time: 5.363\n",
      "Imputing row 401/8062 with 0 missing, elapsed time: 5.364\n",
      "Imputing row 501/8062 with 1 missing, elapsed time: 5.364\n",
      "Imputing row 601/8062 with 1 missing, elapsed time: 5.364\n",
      "Imputing row 701/8062 with 0 missing, elapsed time: 5.365\n",
      "Imputing row 801/8062 with 0 missing, elapsed time: 5.365\n",
      "Imputing row 901/8062 with 1 missing, elapsed time: 5.366\n",
      "Imputing row 1001/8062 with 0 missing, elapsed time: 5.368\n",
      "Imputing row 1101/8062 with 0 missing, elapsed time: 5.369\n",
      "Imputing row 1201/8062 with 0 missing, elapsed time: 5.369\n",
      "Imputing row 1301/8062 with 0 missing, elapsed time: 5.369\n",
      "Imputing row 1401/8062 with 0 missing, elapsed time: 5.370\n",
      "Imputing row 1501/8062 with 0 missing, elapsed time: 5.370\n",
      "Imputing row 1601/8062 with 0 missing, elapsed time: 5.370\n",
      "Imputing row 1701/8062 with 0 missing, elapsed time: 5.371\n",
      "Imputing row 1801/8062 with 0 missing, elapsed time: 5.371\n",
      "Imputing row 1901/8062 with 0 missing, elapsed time: 5.371\n",
      "Imputing row 2001/8062 with 0 missing, elapsed time: 5.372\n",
      "Imputing row 2101/8062 with 0 missing, elapsed time: 5.373\n",
      "Imputing row 2201/8062 with 0 missing, elapsed time: 5.374\n",
      "Imputing row 2301/8062 with 0 missing, elapsed time: 5.374\n",
      "Imputing row 2401/8062 with 0 missing, elapsed time: 5.374\n",
      "Imputing row 2501/8062 with 0 missing, elapsed time: 5.374\n",
      "Imputing row 2601/8062 with 1 missing, elapsed time: 5.375\n",
      "Imputing row 2701/8062 with 1 missing, elapsed time: 5.377\n",
      "Imputing row 2801/8062 with 1 missing, elapsed time: 5.379\n",
      "Imputing row 2901/8062 with 0 missing, elapsed time: 5.380\n",
      "Imputing row 3001/8062 with 0 missing, elapsed time: 5.381\n",
      "Imputing row 3101/8062 with 0 missing, elapsed time: 5.381\n",
      "Imputing row 3201/8062 with 0 missing, elapsed time: 5.382\n",
      "Imputing row 3301/8062 with 0 missing, elapsed time: 5.382\n",
      "Imputing row 3401/8062 with 0 missing, elapsed time: 5.382\n",
      "Imputing row 3501/8062 with 0 missing, elapsed time: 5.382\n",
      "Imputing row 3601/8062 with 0 missing, elapsed time: 5.383\n",
      "Imputing row 3701/8062 with 1 missing, elapsed time: 5.384\n",
      "Imputing row 3801/8062 with 0 missing, elapsed time: 5.386\n",
      "Imputing row 3901/8062 with 0 missing, elapsed time: 5.387\n",
      "Imputing row 4001/8062 with 0 missing, elapsed time: 5.387\n",
      "Imputing row 4101/8062 with 0 missing, elapsed time: 5.388\n",
      "Imputing row 4201/8062 with 0 missing, elapsed time: 5.388\n",
      "Imputing row 4301/8062 with 0 missing, elapsed time: 5.388\n",
      "Imputing row 4401/8062 with 0 missing, elapsed time: 5.388\n",
      "Imputing row 4501/8062 with 0 missing, elapsed time: 5.389\n",
      "Imputing row 4601/8062 with 0 missing, elapsed time: 5.389\n",
      "Imputing row 4701/8062 with 1 missing, elapsed time: 5.389\n",
      "Imputing row 4801/8062 with 1 missing, elapsed time: 5.390\n",
      "Imputing row 4901/8062 with 1 missing, elapsed time: 5.391\n",
      "Imputing row 5001/8062 with 0 missing, elapsed time: 5.392\n",
      "Imputing row 5101/8062 with 0 missing, elapsed time: 5.393\n",
      "Imputing row 5201/8062 with 1 missing, elapsed time: 5.393\n",
      "Imputing row 5301/8062 with 0 missing, elapsed time: 5.394\n",
      "Imputing row 5401/8062 with 0 missing, elapsed time: 5.394\n",
      "Imputing row 5501/8062 with 1 missing, elapsed time: 5.395\n",
      "Imputing row 5601/8062 with 0 missing, elapsed time: 5.396\n",
      "Imputing row 5701/8062 with 0 missing, elapsed time: 5.396\n",
      "Imputing row 5801/8062 with 0 missing, elapsed time: 5.397\n",
      "Imputing row 5901/8062 with 1 missing, elapsed time: 5.397\n",
      "Imputing row 6001/8062 with 0 missing, elapsed time: 5.398\n",
      "Imputing row 6101/8062 with 0 missing, elapsed time: 5.398\n",
      "Imputing row 6201/8062 with 0 missing, elapsed time: 5.398\n",
      "Imputing row 6301/8062 with 0 missing, elapsed time: 5.398\n",
      "Imputing row 6401/8062 with 0 missing, elapsed time: 5.399\n",
      "Imputing row 6501/8062 with 0 missing, elapsed time: 5.399\n",
      "Imputing row 6601/8062 with 0 missing, elapsed time: 5.399\n",
      "Imputing row 6701/8062 with 0 missing, elapsed time: 5.400\n",
      "Imputing row 6801/8062 with 0 missing, elapsed time: 5.401\n",
      "Imputing row 6901/8062 with 0 missing, elapsed time: 5.403\n",
      "Imputing row 7001/8062 with 0 missing, elapsed time: 5.403\n",
      "Imputing row 7101/8062 with 0 missing, elapsed time: 5.404\n",
      "Imputing row 7201/8062 with 0 missing, elapsed time: 5.404\n",
      "Imputing row 7301/8062 with 0 missing, elapsed time: 5.404\n",
      "Imputing row 7401/8062 with 0 missing, elapsed time: 5.405\n",
      "Imputing row 7501/8062 with 0 missing, elapsed time: 5.405\n",
      "Imputing row 7601/8062 with 0 missing, elapsed time: 5.405\n",
      "Imputing row 7701/8062 with 1 missing, elapsed time: 5.406\n",
      "Imputing row 7801/8062 with 0 missing, elapsed time: 5.406\n",
      "Imputing row 7901/8062 with 1 missing, elapsed time: 5.406\n",
      "Imputing row 8001/8062 with 0 missing, elapsed time: 5.407\n",
      "[KNN] Warning: 1366/8062 still missing after imputation, replacing with 0\n"
     ]
    }
   ],
   "source": [
    "from fancyimpute import SoftImpute\n",
    "\n",
    "imputed_pm25_train = SoftImpute(k=3).fit_transform(y_train_pm25)\n",
    "model_imputed = ARIMA(imputed_pm25_train, order=(3,0,0))\n",
    "model_fit_imputed = model_imputed.fit(disp=0)\n",
    "\n",
    "forecast_result_imputed = model_fit_imputed.forecast(steps=2016)\n",
    "\n",
    "nonnull_values = y_valid_pm25['PM2.5'].notnull()\n",
    "y = y_valid_pm25['PM2.5'][nonnull_values]\n",
    "predictions = forecast_result_imputed[0]\n",
    "predictions = predictions[nonnull_values]\n",
    "rmse(predictions, y)"
   ]
  },
  {
   "cell_type": "markdown",
   "metadata": {},
   "source": [
    "## Grid Search ARIMA"
   ]
  },
  {
   "cell_type": "code",
   "execution_count": null,
   "metadata": {},
   "outputs": [],
   "source": [
    "# evaluate parameters\n",
    "# p_values = [0, 1, 2]\n",
    "# d_values = range(0, 3)\n",
    "# q_values = range(0, 3)\n",
    "# warnings.filterwarnings(\"ignore\")\n",
    "# evaluate_models(nonnull_pm25_y_train, p_values, d_values, q_values)"
   ]
  },
  {
   "cell_type": "code",
   "execution_count": null,
   "metadata": {},
   "outputs": [],
   "source": []
  }
 ],
 "metadata": {
  "kernelspec": {
   "display_name": "Python 3",
   "language": "python",
   "name": "python3"
  },
  "language_info": {
   "codemirror_mode": {
    "name": "ipython",
    "version": 3
   },
   "file_extension": ".py",
   "mimetype": "text/x-python",
   "name": "python",
   "nbconvert_exporter": "python",
   "pygments_lexer": "ipython3",
   "version": "3.6.5"
  }
 },
 "nbformat": 4,
 "nbformat_minor": 2
}
