{
 "cells": [
  {
   "cell_type": "code",
   "execution_count": 1,
   "metadata": {},
   "outputs": [],
   "source": [
    "import pandas as pd\n",
    "import numpy as np\n",
    "import matplotlib.pyplot as plt\n",
    "import statsmodels.api as sm\n",
    "from pandas.plotting import lag_plot, autocorrelation_plot\n",
    "from statsmodels.graphics.tsaplots import plot_acf, plot_pacf\n",
    "from statsmodels.tsa.stattools import adfuller\n",
    "from statsmodels.tsa.arima_model import ARIMA\n",
    "import math\n",
    "import warnings\n",
    "\n",
    "%load_ext autoreload\n",
    "%autoreload 2\n",
    "%matplotlib inline"
   ]
  },
  {
   "cell_type": "code",
   "execution_count": 2,
   "metadata": {},
   "outputs": [],
   "source": [
    "# TODO: Use python PathLib to use \n",
    "DATA_PATH = '../data/'"
   ]
  },
  {
   "cell_type": "code",
   "execution_count": 3,
   "metadata": {},
   "outputs": [],
   "source": [
    "def rmse(x,y): return math.sqrt(((x-y)**2).mean())"
   ]
  },
  {
   "cell_type": "code",
   "execution_count": 4,
   "metadata": {},
   "outputs": [],
   "source": [
    "def test_stationarity(timeseries, cutoff = 0.01):\n",
    "    \n",
    "    print('Results of Dickey-Fuller Test:')\n",
    "#     dftest = adfuller(timeseries, autolag='AIC', maxlag = 20 )\n",
    "    dftest = adfuller(timeseries)\n",
    "    dfoutput = pd.Series(dftest[0:4], index=['Test Statistic','p-value','#Lags Used','Number of Observations Used'])\n",
    "    for key,value in dftest[4].items():\n",
    "        dfoutput['Critical Value (%s)'%key] = value\n",
    "    pvalue = dftest[1]\n",
    "    if pvalue < cutoff:\n",
    "        print('p-value = %f. The series is likely stationary.' % pvalue)\n",
    "    else:\n",
    "        print('p-value = %f. The series is likely non-stationary.' % pvalue)\n",
    "    \n",
    "    print(dfoutput)\n",
    "\n",
    "    \n",
    "# evaluate an ARIMA model for a given order (p,d,q)\n",
    "def evaluate_arima_model(X, arima_order):\n",
    "  # prepare training dataset\n",
    "  train_size = int(len(X) * 0.66)\n",
    "  train, test = X[0:train_size], X[train_size:]\n",
    "  history = [x for x in train]\n",
    "  # make predictions\n",
    "  predictions = list()\n",
    "  for t in range(len(test)):\n",
    "    model = ARIMA(history, order=arima_order)\n",
    "    model_fit = model.fit(disp=0)\n",
    "    yhat = model_fit.forecast()[0]\n",
    "    predictions.append(yhat)\n",
    "    history.append(test[t])\n",
    "  # calculate out of sample error\n",
    "  rmse = sqrt(mean_squared_error(test, predictions))\n",
    "  return rmse\n",
    "\n",
    "\n",
    "def evaluate_models(dataset, p_values, d_values, q_values): \n",
    "    dataset = dataset.astype('float32')\n",
    "    best_score, best_cfg = float(\"inf\"), None\n",
    "    for p in p_values:\n",
    "        for d in d_values:\n",
    "         for q in q_values:\n",
    "           order = (p,d,q)\n",
    "           try:\n",
    "             rmse = evaluate_arima_model(dataset, order)\n",
    "             if rmse < best_score:\n",
    "                best_score, best_cfg = rmse, order \n",
    "                print('ARIMA%s RMSE=%.3f' % (order,rmse))\n",
    "           except:\n",
    "             continue\n",
    "    print('Best ARIMA%s RMSE=%.3f' % (best_cfg, best_score))\n"
   ]
  },
  {
   "cell_type": "code",
   "execution_count": 25,
   "metadata": {},
   "outputs": [],
   "source": [
    "y_train_pm25 = pd.read_feather(DATA_PATH + 'processed/donggaocun/pm25_train_test/y_train_pm25.feather')\n",
    "y_train_pm10 = pd.read_feather(DATA_PATH + 'processed/donggaocun/pm10_train_test/y_train_pm10.feather')\n",
    "\n",
    "\n",
    "y_train_pm25 = y_train_pm25.set_index('utc_datetime')\n",
    "y_train_pm25[y_train_pm25['PM2.5'] == -1] = np.nan # It was set to -1 so it could work with XGBoost\n",
    "\n",
    "y_train_pm10 = y_train_pm10.set_index('utc_datetime')\n",
    "y_train_pm10[y_train_pm10['PM10'] == -1] = np.nan # It was set to -1 so it could work with XGBoost"
   ]
  },
  {
   "cell_type": "markdown",
   "metadata": {},
   "source": [
    "## Test stationarity"
   ]
  },
  {
   "cell_type": "code",
   "execution_count": 6,
   "metadata": {},
   "outputs": [
    {
     "name": "stdout",
     "output_type": "stream",
     "text": [
      "Results of Dickey-Fuller Test:\n",
      "p-value = 0.000000. The series is likely stationary.\n",
      "Test Statistic                -1.144424e+01\n",
      "p-value                        6.073249e-21\n",
      "#Lags Used                     1.500000e+01\n",
      "Number of Observations Used    6.680000e+03\n",
      "Critical Value (1%)           -3.431329e+00\n",
      "Critical Value (5%)           -2.861973e+00\n",
      "Critical Value (10%)          -2.567000e+00\n",
      "dtype: float64\n"
     ]
    }
   ],
   "source": [
    "test_stationarity(y_train_pm25['PM2.5'][y_train_pm25['PM2.5'].notnull()], 0.05)"
   ]
  },
  {
   "cell_type": "code",
   "execution_count": 26,
   "metadata": {},
   "outputs": [
    {
     "name": "stdout",
     "output_type": "stream",
     "text": [
      "Results of Dickey-Fuller Test:\n",
      "p-value = 0.000000. The series is likely stationary.\n",
      "Test Statistic                -8.194530e+00\n",
      "p-value                        7.511278e-13\n",
      "#Lags Used                     2.900000e+01\n",
      "Number of Observations Used    3.893000e+03\n",
      "Critical Value (1%)           -3.432031e+00\n",
      "Critical Value (5%)           -2.862283e+00\n",
      "Critical Value (10%)          -2.567165e+00\n",
      "dtype: float64\n"
     ]
    }
   ],
   "source": [
    "test_stationarity(y_train_pm10['PM10'][y_train_pm10['PM10'].notnull()], 0.05)"
   ]
  },
  {
   "cell_type": "markdown",
   "metadata": {},
   "source": [
    "## Check correlation with lagged versions of PM2.5"
   ]
  },
  {
   "cell_type": "code",
   "execution_count": 7,
   "metadata": {
    "scrolled": false
   },
   "outputs": [
    {
     "data": {
      "text/plain": [
       "<matplotlib.axes._subplots.AxesSubplot at 0x123782940>"
      ]
     },
     "execution_count": 7,
     "metadata": {},
     "output_type": "execute_result"
    },
    {
     "data": {
      "image/png": "[encoded data removed]",
      "text/plain": [
       "<Figure size 432x288 with 1 Axes>"
      ]
     },
     "metadata": {
      "needs_background": "light"
     },
     "output_type": "display_data"
    }
   ],
   "source": [
    "lag_plot(y_train_pm25['PM2.5'])"
   ]
  },
  {
   "cell_type": "code",
   "execution_count": 28,
   "metadata": {},
   "outputs": [
    {
     "data": {
      "text/plain": [
       "<matplotlib.axes._subplots.AxesSubplot at 0x13bbcc128>"
      ]
     },
     "execution_count": 28,
     "metadata": {},
     "output_type": "execute_result"
    },
    {
     "data": {
      "image/png": "[encoded data removed]",
      "text/plain": [
       "<Figure size 432x288 with 1 Axes>"
      ]
     },
     "metadata": {
      "needs_background": "light"
     },
     "output_type": "display_data"
    }
   ],
   "source": [
    "lag_plot(y_train_pm10['PM10'])"
   ]
  },
  {
   "cell_type": "code",
   "execution_count": 8,
   "metadata": {
    "scrolled": true
   },
   "outputs": [
    {
     "data": {
      "text/plain": [
       "<matplotlib.axes._subplots.AxesSubplot at 0x1265e5588>"
      ]
     },
     "execution_count": 8,
     "metadata": {},
     "output_type": "execute_result"
    },
    {
     "data": {
      "image/png": "[encoded data removed]",
      "text/plain": [
       "<Figure size 432x288 with 1 Axes>"
      ]
     },
     "metadata": {
      "needs_background": "light"
     },
     "output_type": "display_data"
    }
   ],
   "source": [
    "autocorrelation_plot(y_train_pm25['PM2.5'][y_train_pm25['PM2.5'].notnull()])"
   ]
  },
  {
   "cell_type": "code",
   "execution_count": 29,
   "metadata": {},
   "outputs": [
    {
     "data": {
      "text/plain": [
       "<matplotlib.axes._subplots.AxesSubplot at 0x13dec9d30>"
      ]
     },
     "execution_count": 29,
     "metadata": {},
     "output_type": "execute_result"
    },
    {
     "data": {
      "image/png": "[encoded data removed]",
      "text/plain": [
       "<Figure size 432x288 with 1 Axes>"
      ]
     },
     "metadata": {
      "needs_background": "light"
     },
     "output_type": "display_data"
    }
   ],
   "source": [
    "autocorrelation_plot(y_train_pm10['PM10'][y_train_pm10['PM10'].notnull()])"
   ]
  },
  {
   "cell_type": "code",
   "execution_count": 30,
   "metadata": {
    "scrolled": true
   },
   "outputs": [
    {
     "data": {
      "image/png": "[encoded data removed]",
      "text/plain": [
       "<Figure size 432x288 with 1 Axes>"
      ]
     },
     "metadata": {
      "needs_background": "light"
     },
     "output_type": "display_data"
    }
   ],
   "source": [
    "x = plot_acf(y_train_pm25['PM2.5'][y_train_pm25['PM2.5'].notnull()])"
   ]
  },
  {
   "cell_type": "code",
   "execution_count": 32,
   "metadata": {},
   "outputs": [
    {
     "data": {
      "image/png": "[encoded data removed]",
      "text/plain": [
       "<Figure size 432x288 with 1 Axes>"
      ]
     },
     "metadata": {
      "needs_background": "light"
     },
     "output_type": "display_data"
    }
   ],
   "source": [
    "x = plot_acf(y_train_pm10['PM10'][y_train_pm10['PM10'].notnull()])"
   ]
  },
  {
   "cell_type": "code",
   "execution_count": 10,
   "metadata": {},
   "outputs": [
    {
     "data": {
      "image/png": "[encoded data removed]",
      "text/plain": [
       "<Figure size 432x288 with 1 Axes>"
      ]
     },
     "metadata": {
      "needs_background": "light"
     },
     "output_type": "display_data"
    }
   ],
   "source": [
    "x = plot_pacf(y_train_pm25['PM2.5'][y_train_pm25['PM2.5'].notnull()])"
   ]
  },
  {
   "cell_type": "code",
   "execution_count": 34,
   "metadata": {},
   "outputs": [
    {
     "data": {
      "image/png": "[encoded data removed]",
      "text/plain": [
       "<Figure size 432x288 with 1 Axes>"
      ]
     },
     "metadata": {
      "needs_background": "light"
     },
     "output_type": "display_data"
    }
   ],
   "source": [
    "x = plot_pacf(y_train_pm10['PM10'][y_train_pm10['PM10'].notnull()])"
   ]
  },
  {
   "cell_type": "markdown",
   "metadata": {},
   "source": [
    "## ARIMA"
   ]
  },
  {
   "cell_type": "markdown",
   "metadata": {},
   "source": [
    "### ARIMA PM2.5"
   ]
  },
  {
   "cell_type": "code",
   "execution_count": 50,
   "metadata": {},
   "outputs": [],
   "source": [
    "# Use AR(3) as parameters based on acf and pacf"
   ]
  },
  {
   "cell_type": "code",
   "execution_count": 41,
   "metadata": {},
   "outputs": [
    {
     "name": "stderr",
     "output_type": "stream",
     "text": [
      "/Users/mjjim2003/Documents/Eskwelabs/Capstone_Project/Air_Quality/KDD_Air_Quality/kdd_air_quality/env/lib/python3.6/site-packages/statsmodels/tsa/base/tsa_model.py:219: ValueWarning: A date index has been provided, but it has no associated frequency information and so will be ignored when e.g. forecasting.\n",
      "  ' ignored when e.g. forecasting.', ValueWarning)\n"
     ]
    },
    {
     "name": "stdout",
     "output_type": "stream",
     "text": [
      "                              ARMA Model Results                              \n",
      "==============================================================================\n",
      "Dep. Variable:                  PM2.5   No. Observations:                 6696\n",
      "Model:                     ARMA(3, 0)   Log Likelihood              -29225.805\n",
      "Method:                       css-mle   S.D. of innovations             19.021\n",
      "Date:                Sat, 05 Oct 2019   AIC                          58461.609\n",
      "Time:                        11:54:33   BIC                          58495.655\n",
      "Sample:                             0   HQIC                         58473.367\n",
      "                                                                              \n",
      "===============================================================================\n",
      "                  coef    std err          z      P>|z|      [0.025      0.975]\n",
      "-------------------------------------------------------------------------------\n",
      "const          54.0049      3.784     14.271      0.000      46.588      61.422\n",
      "ar.L1.PM2.5     1.0856      0.012     88.855      0.000       1.062       1.110\n",
      "ar.L2.PM2.5    -0.1147      0.018     -6.380      0.000      -0.150      -0.079\n",
      "ar.L3.PM2.5    -0.0322      0.012     -2.635      0.008      -0.056      -0.008\n",
      "                                    Roots                                    \n",
      "=============================================================================\n",
      "                  Real          Imaginary           Modulus         Frequency\n",
      "-----------------------------------------------------------------------------\n",
      "AR.1            1.0826           +0.0000j            1.0826            0.0000\n",
      "AR.2            3.5152           +0.0000j            3.5152            0.0000\n",
      "AR.3           -8.1621           +0.0000j            8.1621            0.5000\n",
      "-----------------------------------------------------------------------------\n",
      "                 0\n",
      "count  6696.000000\n",
      "mean     -0.000061\n",
      "std      19.022878\n",
      "min    -859.997596\n",
      "25%      -5.192553\n",
      "50%      -0.462968\n",
      "75%       4.931070\n",
      "max     704.840549\n"
     ]
    },
    {
     "data": {
      "image/png": "[encoded data removed]",
      "text/plain": [
       "<Figure size 432x288 with 1 Axes>"
      ]
     },
     "metadata": {
      "needs_background": "light"
     },
     "output_type": "display_data"
    }
   ],
   "source": [
    "nonnull_pm25_y_train = y_train_pm25['PM2.5'][y_train_pm25['PM2.5'].notnull()]\n",
    "pm25_model = ARIMA(nonnull_pm25_y_train, order=(3,0,0))\n",
    "model_fit_pm25 = pm25_model.fit(disp=0)\n",
    "# summary of fit model\n",
    "print(model_fit.summary())\n",
    "# line plot of residuals\n",
    "residuals_pm25 = pd.DataFrame(model_fit_pm25.resid) \n",
    "residuals_pm25.plot()\n",
    "# density plot of residuals residuals.plot(kind='kde') pyplot.show()\n",
    "# summary stats of residuals\n",
    "print(residuals_pm25.describe())"
   ]
  },
  {
   "cell_type": "code",
   "execution_count": 37,
   "metadata": {},
   "outputs": [
    {
     "data": {
      "text/plain": [
       "(2016, 1)"
      ]
     },
     "execution_count": 37,
     "metadata": {},
     "output_type": "execute_result"
    }
   ],
   "source": [
    "y_valid_pm25 = pd.read_feather(DATA_PATH + 'processed/donggaocun/pm25_train_test/y_valid_pm25.feather')\n",
    "y_valid_pm25 = y_valid_pm25.set_index('utc_datetime')\n",
    "y_valid_pm25.shape"
   ]
  },
  {
   "cell_type": "code",
   "execution_count": 36,
   "metadata": {},
   "outputs": [],
   "source": [
    "forecast_result = model_fit_pm25.forecast(steps=2016)"
   ]
  },
  {
   "cell_type": "code",
   "execution_count": 38,
   "metadata": {},
   "outputs": [
    {
     "data": {
      "text/plain": [
       "64.65844776110765"
      ]
     },
     "execution_count": 38,
     "metadata": {},
     "output_type": "execute_result"
    }
   ],
   "source": [
    "nonnull_values = y_valid_pm25['PM2.5'].notnull()\n",
    "y = y_valid_pm25['PM2.5'][nonnull_values]\n",
    "predictions = forecast_result[0]\n",
    "predictions = predictions[nonnull_values]\n",
    "rmse(predictions, y)"
   ]
  },
  {
   "cell_type": "markdown",
   "metadata": {},
   "source": [
    "### ARIMA PM10"
   ]
  },
  {
   "cell_type": "code",
   "execution_count": 42,
   "metadata": {},
   "outputs": [
    {
     "name": "stderr",
     "output_type": "stream",
     "text": [
      "/Users/mjjim2003/Documents/Eskwelabs/Capstone_Project/Air_Quality/KDD_Air_Quality/kdd_air_quality/env/lib/python3.6/site-packages/statsmodels/tsa/base/tsa_model.py:219: ValueWarning: A date index has been provided, but it has no associated frequency information and so will be ignored when e.g. forecasting.\n",
      "  ' ignored when e.g. forecasting.', ValueWarning)\n"
     ]
    },
    {
     "name": "stdout",
     "output_type": "stream",
     "text": [
      "                              ARMA Model Results                              \n",
      "==============================================================================\n",
      "Dep. Variable:                   PM10   No. Observations:                 3923\n",
      "Model:                     ARMA(2, 0)   Log Likelihood              -18085.699\n",
      "Method:                       css-mle   S.D. of innovations             24.311\n",
      "Date:                Sat, 05 Oct 2019   AIC                          36179.397\n",
      "Time:                        11:55:23   BIC                          36204.496\n",
      "Sample:                             0   HQIC                         36188.303\n",
      "                                                                              \n",
      "==============================================================================\n",
      "                 coef    std err          z      P>|z|      [0.025      0.975]\n",
      "------------------------------------------------------------------------------\n",
      "const         62.2634      8.499      7.326      0.000      45.605      78.922\n",
      "ar.L1.PM10     0.9839      0.016     61.663      0.000       0.953       1.015\n",
      "ar.L2.PM10    -0.0293      0.016     -1.835      0.067      -0.061       0.002\n",
      "                                    Roots                                    \n",
      "=============================================================================\n",
      "                  Real          Imaginary           Modulus         Frequency\n",
      "-----------------------------------------------------------------------------\n",
      "AR.1            1.0492           +0.0000j            1.0492            0.0000\n",
      "AR.2           32.5485           +0.0000j           32.5485            0.0000\n",
      "-----------------------------------------------------------------------------\n",
      "                 0\n",
      "count  3923.000000\n",
      "mean      0.007718\n",
      "std      24.319170\n",
      "min    -380.906504\n",
      "25%      -7.329501\n",
      "50%      -0.719227\n",
      "75%       7.516349\n",
      "max     466.227266\n"
     ]
    },
    {
     "data": {
      "image/png": "[encoded data removed]",
      "text/plain": [
       "<Figure size 432x288 with 1 Axes>"
      ]
     },
     "metadata": {
      "needs_background": "light"
     },
     "output_type": "display_data"
    }
   ],
   "source": [
    "nonnull_pm10_y_train = y_train_pm10['PM10'][y_train_pm10['PM10'].notnull()]\n",
    "pm10_model = ARIMA(nonnull_pm10_y_train, order=(2,0,0))\n",
    "model_fit_pm10 = pm10_model.fit(disp=0)\n",
    "# summary of fit model\n",
    "print(model_fit_pm10.summary())\n",
    "# line plot of residuals\n",
    "residuals_pm10 = pd.DataFrame(model_fit_pm10.resid) \n",
    "residuals_pm10.plot()\n",
    "# density plot of residuals residuals.plot(kind='kde') pyplot.show()\n",
    "# summary stats of residuals\n",
    "print(residuals_pm10.describe())"
   ]
  },
  {
   "cell_type": "code",
   "execution_count": 43,
   "metadata": {},
   "outputs": [
    {
     "data": {
      "text/plain": [
       "(2016, 1)"
      ]
     },
     "execution_count": 43,
     "metadata": {},
     "output_type": "execute_result"
    }
   ],
   "source": [
    "y_valid_pm10 = pd.read_feather(DATA_PATH + 'processed/donggaocun/pm10_train_test/y_valid_pm10.feather')\n",
    "y_valid_pm10 = y_valid_pm10.set_index('utc_datetime')\n",
    "y_valid_pm10.shape"
   ]
  },
  {
   "cell_type": "code",
   "execution_count": 44,
   "metadata": {},
   "outputs": [],
   "source": [
    "forecast_result_pm10 = model_fit_pm10.forecast(steps=2016)"
   ]
  },
  {
   "cell_type": "code",
   "execution_count": 45,
   "metadata": {},
   "outputs": [
    {
     "data": {
      "text/plain": [
       "49.9582197077799"
      ]
     },
     "execution_count": 45,
     "metadata": {},
     "output_type": "execute_result"
    }
   ],
   "source": [
    "nonnull_values_pm10 = y_valid_pm10['PM10'].notnull()\n",
    "y_pm10 = y_valid_pm10['PM10'][nonnull_values_pm10]\n",
    "predictions_pm10 = forecast_result[0]\n",
    "predictions_pm10 = predictions[nonnull_values]\n",
    "rmse(predictions_pm10, y_pm10)"
   ]
  },
  {
   "cell_type": "markdown",
   "metadata": {},
   "source": [
    "## ARIMA with imputation"
   ]
  },
  {
   "cell_type": "code",
   "execution_count": 16,
   "metadata": {},
   "outputs": [
    {
     "data": {
      "text/plain": [
       "(8062, 1)"
      ]
     },
     "execution_count": 16,
     "metadata": {},
     "output_type": "execute_result"
    }
   ],
   "source": [
    "y_train_pm25.shape"
   ]
  },
  {
   "cell_type": "code",
   "execution_count": 47,
   "metadata": {},
   "outputs": [
    {
     "name": "stdout",
     "output_type": "stream",
     "text": [
      "[SoftImpute] Max Singular Value of X_init = 6654.296356\n",
      "[SoftImpute] Iter 1: observed MAE=1.082157 rank=1\n",
      "[SoftImpute] Iter 2: observed MAE=1.082157 rank=1\n",
      "[SoftImpute] Iter 3: observed MAE=1.082157 rank=1\n",
      "[SoftImpute] Iter 4: observed MAE=1.082157 rank=1\n",
      "[SoftImpute] Iter 5: observed MAE=1.082157 rank=1\n",
      "[SoftImpute] Iter 6: observed MAE=1.082157 rank=1\n",
      "[SoftImpute] Iter 7: observed MAE=1.082157 rank=1\n",
      "[SoftImpute] Iter 8: observed MAE=1.082157 rank=1\n",
      "[SoftImpute] Iter 9: observed MAE=1.082157 rank=1\n",
      "[SoftImpute] Iter 10: observed MAE=1.082157 rank=1\n",
      "[SoftImpute] Iter 11: observed MAE=1.082157 rank=1\n",
      "[SoftImpute] Iter 12: observed MAE=1.082157 rank=1\n",
      "[SoftImpute] Iter 13: observed MAE=1.082157 rank=1\n",
      "[SoftImpute] Iter 14: observed MAE=1.082157 rank=1\n",
      "[SoftImpute] Iter 15: observed MAE=1.082157 rank=1\n",
      "[SoftImpute] Iter 16: observed MAE=1.082157 rank=1\n",
      "[SoftImpute] Iter 17: observed MAE=1.082157 rank=1\n",
      "[SoftImpute] Iter 18: observed MAE=1.082157 rank=1\n",
      "[SoftImpute] Iter 19: observed MAE=1.082157 rank=1\n",
      "[SoftImpute] Iter 20: observed MAE=1.082157 rank=1\n",
      "[SoftImpute] Iter 21: observed MAE=1.082157 rank=1\n",
      "[SoftImpute] Iter 22: observed MAE=1.082157 rank=1\n",
      "[SoftImpute] Iter 23: observed MAE=1.082157 rank=1\n",
      "[SoftImpute] Iter 24: observed MAE=1.082157 rank=1\n",
      "[SoftImpute] Iter 25: observed MAE=1.082157 rank=1\n",
      "[SoftImpute] Iter 26: observed MAE=1.082157 rank=1\n",
      "[SoftImpute] Iter 27: observed MAE=1.082157 rank=1\n",
      "[SoftImpute] Iter 28: observed MAE=1.082157 rank=1\n",
      "[SoftImpute] Iter 29: observed MAE=1.082157 rank=1\n",
      "[SoftImpute] Iter 30: observed MAE=1.082157 rank=1\n",
      "[SoftImpute] Iter 31: observed MAE=1.082157 rank=1\n",
      "[SoftImpute] Iter 32: observed MAE=1.082157 rank=1\n",
      "[SoftImpute] Iter 33: observed MAE=1.082157 rank=1\n",
      "[SoftImpute] Iter 34: observed MAE=1.082157 rank=1\n",
      "[SoftImpute] Iter 35: observed MAE=1.082157 rank=1\n",
      "[SoftImpute] Iter 36: observed MAE=1.082157 rank=1\n",
      "[SoftImpute] Iter 37: observed MAE=1.082157 rank=1\n",
      "[SoftImpute] Iter 38: observed MAE=1.082157 rank=1\n",
      "[SoftImpute] Iter 39: observed MAE=1.082157 rank=1\n",
      "[SoftImpute] Iter 40: observed MAE=1.082157 rank=1\n",
      "[SoftImpute] Iter 41: observed MAE=1.082157 rank=1\n",
      "[SoftImpute] Iter 42: observed MAE=1.082157 rank=1\n",
      "[SoftImpute] Iter 43: observed MAE=1.082157 rank=1\n",
      "[SoftImpute] Iter 44: observed MAE=1.082157 rank=1\n",
      "[SoftImpute] Iter 45: observed MAE=1.082157 rank=1\n",
      "[SoftImpute] Iter 46: observed MAE=1.082157 rank=1\n",
      "[SoftImpute] Iter 47: observed MAE=1.082157 rank=1\n",
      "[SoftImpute] Iter 48: observed MAE=1.082157 rank=1\n",
      "[SoftImpute] Iter 49: observed MAE=1.082157 rank=1\n",
      "[SoftImpute] Iter 50: observed MAE=1.082157 rank=1\n",
      "[SoftImpute] Iter 51: observed MAE=1.082157 rank=1\n",
      "[SoftImpute] Iter 52: observed MAE=1.082157 rank=1\n",
      "[SoftImpute] Iter 53: observed MAE=1.082157 rank=1\n",
      "[SoftImpute] Iter 54: observed MAE=1.082157 rank=1\n",
      "[SoftImpute] Iter 55: observed MAE=1.082157 rank=1\n",
      "[SoftImpute] Iter 56: observed MAE=1.082157 rank=1\n",
      "[SoftImpute] Iter 57: observed MAE=1.082157 rank=1\n",
      "[SoftImpute] Iter 58: observed MAE=1.082157 rank=1\n",
      "[SoftImpute] Iter 59: observed MAE=1.082157 rank=1\n",
      "[SoftImpute] Iter 60: observed MAE=1.082157 rank=1\n",
      "[SoftImpute] Iter 61: observed MAE=1.082157 rank=1\n",
      "[SoftImpute] Iter 62: observed MAE=1.082157 rank=1\n",
      "[SoftImpute] Iter 63: observed MAE=1.082157 rank=1\n",
      "[SoftImpute] Iter 64: observed MAE=1.082157 rank=1\n",
      "[SoftImpute] Iter 65: observed MAE=1.082157 rank=1\n",
      "[SoftImpute] Iter 66: observed MAE=1.082157 rank=1\n",
      "[SoftImpute] Iter 67: observed MAE=1.082157 rank=1\n",
      "[SoftImpute] Iter 68: observed MAE=1.082157 rank=1\n",
      "[SoftImpute] Iter 69: observed MAE=1.082157 rank=1\n",
      "[SoftImpute] Iter 70: observed MAE=1.082157 rank=1\n",
      "[SoftImpute] Iter 71: observed MAE=1.082157 rank=1\n",
      "[SoftImpute] Iter 72: observed MAE=1.082157 rank=1\n",
      "[SoftImpute] Iter 73: observed MAE=1.082157 rank=1\n",
      "[SoftImpute] Iter 74: observed MAE=1.082157 rank=1\n",
      "[SoftImpute] Iter 75: observed MAE=1.082157 rank=1\n",
      "[SoftImpute] Iter 76: observed MAE=1.082157 rank=1\n",
      "[SoftImpute] Iter 77: observed MAE=1.082157 rank=1\n",
      "[SoftImpute] Iter 78: observed MAE=1.082157 rank=1\n",
      "[SoftImpute] Iter 79: observed MAE=1.082157 rank=1\n",
      "[SoftImpute] Iter 80: observed MAE=1.082157 rank=1\n",
      "[SoftImpute] Iter 81: observed MAE=1.082157 rank=1\n",
      "[SoftImpute] Iter 82: observed MAE=1.082157 rank=1\n",
      "[SoftImpute] Iter 83: observed MAE=1.082157 rank=1\n",
      "[SoftImpute] Iter 84: observed MAE=1.082157 rank=1\n",
      "[SoftImpute] Iter 85: observed MAE=1.082157 rank=1\n",
      "[SoftImpute] Iter 86: observed MAE=1.082157 rank=1\n",
      "[SoftImpute] Iter 87: observed MAE=1.082157 rank=1\n",
      "[SoftImpute] Iter 88: observed MAE=1.082157 rank=1\n",
      "[SoftImpute] Iter 89: observed MAE=1.082157 rank=1\n",
      "[SoftImpute] Iter 90: observed MAE=1.082157 rank=1\n",
      "[SoftImpute] Iter 91: observed MAE=1.082157 rank=1\n",
      "[SoftImpute] Iter 92: observed MAE=1.082157 rank=1\n",
      "[SoftImpute] Iter 93: observed MAE=1.082157 rank=1\n",
      "[SoftImpute] Iter 94: observed MAE=1.082157 rank=1\n",
      "[SoftImpute] Iter 95: observed MAE=1.082157 rank=1\n",
      "[SoftImpute] Iter 96: observed MAE=1.082157 rank=1\n",
      "[SoftImpute] Iter 97: observed MAE=1.082157 rank=1\n",
      "[SoftImpute] Iter 98: observed MAE=1.082157 rank=1\n",
      "[SoftImpute] Iter 99: observed MAE=1.082157 rank=1\n",
      "[SoftImpute] Iter 100: observed MAE=1.082157 rank=1\n",
      "[SoftImpute] Stopped after iteration 100 for lambda=133.085927\n"
     ]
    },
    {
     "data": {
      "text/plain": [
       "66.10281489329252"
      ]
     },
     "execution_count": 47,
     "metadata": {},
     "output_type": "execute_result"
    }
   ],
   "source": [
    "from fancyimpute import SoftImpute, KNN, BiScaler\n",
    "\n",
    "imputed_pm25_train = SoftImpute().fit_transform(y_train_pm25)\n",
    "model_imputed = ARIMA(imputed_pm25_train, order=(3,0,0))\n",
    "model_fit_imputed = model_imputed.fit(disp=0)\n",
    "\n",
    "forecast_result_imputed = model_fit_imputed.forecast(steps=2016)\n",
    "\n",
    "nonnull_values = y_valid_pm25['PM2.5'].notnull()\n",
    "y = y_valid_pm25['PM2.5'][nonnull_values]\n",
    "predictions = forecast_result_imputed[0]\n",
    "predictions = predictions[nonnull_values]\n",
    "rmse(predictions, y)"
   ]
  },
  {
   "cell_type": "code",
   "execution_count": 49,
   "metadata": {},
   "outputs": [
    {
     "name": "stdout",
     "output_type": "stream",
     "text": [
      "[SoftImpute] Max Singular Value of X_init = 6502.824079\n",
      "[SoftImpute] Iter 1: observed MAE=1.248264 rank=1\n",
      "[SoftImpute] Iter 2: observed MAE=1.248264 rank=1\n",
      "[SoftImpute] Iter 3: observed MAE=1.248264 rank=1\n",
      "[SoftImpute] Iter 4: observed MAE=1.248264 rank=1\n",
      "[SoftImpute] Iter 5: observed MAE=1.248264 rank=1\n",
      "[SoftImpute] Iter 6: observed MAE=1.248264 rank=1\n",
      "[SoftImpute] Iter 7: observed MAE=1.248264 rank=1\n",
      "[SoftImpute] Iter 8: observed MAE=1.248264 rank=1\n",
      "[SoftImpute] Iter 9: observed MAE=1.248264 rank=1\n",
      "[SoftImpute] Iter 10: observed MAE=1.248264 rank=1\n",
      "[SoftImpute] Iter 11: observed MAE=1.248264 rank=1\n",
      "[SoftImpute] Iter 12: observed MAE=1.248264 rank=1\n",
      "[SoftImpute] Iter 13: observed MAE=1.248264 rank=1\n",
      "[SoftImpute] Iter 14: observed MAE=1.248264 rank=1\n",
      "[SoftImpute] Iter 15: observed MAE=1.248264 rank=1\n",
      "[SoftImpute] Iter 16: observed MAE=1.248264 rank=1\n",
      "[SoftImpute] Iter 17: observed MAE=1.248264 rank=1\n",
      "[SoftImpute] Iter 18: observed MAE=1.248264 rank=1\n",
      "[SoftImpute] Iter 19: observed MAE=1.248264 rank=1\n",
      "[SoftImpute] Iter 20: observed MAE=1.248264 rank=1\n",
      "[SoftImpute] Iter 21: observed MAE=1.248264 rank=1\n",
      "[SoftImpute] Iter 22: observed MAE=1.248264 rank=1\n",
      "[SoftImpute] Iter 23: observed MAE=1.248264 rank=1\n",
      "[SoftImpute] Iter 24: observed MAE=1.248264 rank=1\n",
      "[SoftImpute] Iter 25: observed MAE=1.248264 rank=1\n",
      "[SoftImpute] Iter 26: observed MAE=1.248264 rank=1\n",
      "[SoftImpute] Iter 27: observed MAE=1.248264 rank=1\n",
      "[SoftImpute] Iter 28: observed MAE=1.248264 rank=1\n",
      "[SoftImpute] Iter 29: observed MAE=1.248264 rank=1\n",
      "[SoftImpute] Iter 30: observed MAE=1.248264 rank=1\n",
      "[SoftImpute] Iter 31: observed MAE=1.248264 rank=1\n",
      "[SoftImpute] Iter 32: observed MAE=1.248264 rank=1\n",
      "[SoftImpute] Iter 33: observed MAE=1.248264 rank=1\n",
      "[SoftImpute] Iter 34: observed MAE=1.248264 rank=1\n",
      "[SoftImpute] Iter 35: observed MAE=1.248264 rank=1\n",
      "[SoftImpute] Iter 36: observed MAE=1.248264 rank=1\n",
      "[SoftImpute] Iter 37: observed MAE=1.248264 rank=1\n",
      "[SoftImpute] Iter 38: observed MAE=1.248264 rank=1\n",
      "[SoftImpute] Iter 39: observed MAE=1.248264 rank=1\n",
      "[SoftImpute] Iter 40: observed MAE=1.248264 rank=1\n",
      "[SoftImpute] Iter 41: observed MAE=1.248264 rank=1\n",
      "[SoftImpute] Iter 42: observed MAE=1.248264 rank=1\n",
      "[SoftImpute] Iter 43: observed MAE=1.248264 rank=1\n",
      "[SoftImpute] Iter 44: observed MAE=1.248264 rank=1\n",
      "[SoftImpute] Iter 45: observed MAE=1.248264 rank=1\n",
      "[SoftImpute] Iter 46: observed MAE=1.248264 rank=1\n",
      "[SoftImpute] Iter 47: observed MAE=1.248264 rank=1\n",
      "[SoftImpute] Iter 48: observed MAE=1.248264 rank=1\n",
      "[SoftImpute] Iter 49: observed MAE=1.248264 rank=1\n",
      "[SoftImpute] Iter 50: observed MAE=1.248264 rank=1\n",
      "[SoftImpute] Iter 51: observed MAE=1.248264 rank=1\n",
      "[SoftImpute] Iter 52: observed MAE=1.248264 rank=1\n",
      "[SoftImpute] Iter 53: observed MAE=1.248264 rank=1\n",
      "[SoftImpute] Iter 54: observed MAE=1.248264 rank=1\n",
      "[SoftImpute] Iter 55: observed MAE=1.248264 rank=1\n",
      "[SoftImpute] Iter 56: observed MAE=1.248264 rank=1\n",
      "[SoftImpute] Iter 57: observed MAE=1.248264 rank=1\n",
      "[SoftImpute] Iter 58: observed MAE=1.248264 rank=1\n",
      "[SoftImpute] Iter 59: observed MAE=1.248264 rank=1\n",
      "[SoftImpute] Iter 60: observed MAE=1.248264 rank=1\n",
      "[SoftImpute] Iter 61: observed MAE=1.248264 rank=1\n",
      "[SoftImpute] Iter 62: observed MAE=1.248264 rank=1\n",
      "[SoftImpute] Iter 63: observed MAE=1.248264 rank=1\n",
      "[SoftImpute] Iter 64: observed MAE=1.248264 rank=1\n",
      "[SoftImpute] Iter 65: observed MAE=1.248264 rank=1\n",
      "[SoftImpute] Iter 66: observed MAE=1.248264 rank=1\n",
      "[SoftImpute] Iter 67: observed MAE=1.248264 rank=1\n",
      "[SoftImpute] Iter 68: observed MAE=1.248264 rank=1\n",
      "[SoftImpute] Iter 69: observed MAE=1.248264 rank=1\n",
      "[SoftImpute] Iter 70: observed MAE=1.248264 rank=1\n",
      "[SoftImpute] Iter 71: observed MAE=1.248264 rank=1\n",
      "[SoftImpute] Iter 72: observed MAE=1.248264 rank=1\n",
      "[SoftImpute] Iter 73: observed MAE=1.248264 rank=1\n",
      "[SoftImpute] Iter 74: observed MAE=1.248264 rank=1\n",
      "[SoftImpute] Iter 75: observed MAE=1.248264 rank=1\n",
      "[SoftImpute] Iter 76: observed MAE=1.248264 rank=1\n",
      "[SoftImpute] Iter 77: observed MAE=1.248264 rank=1\n",
      "[SoftImpute] Iter 78: observed MAE=1.248264 rank=1\n",
      "[SoftImpute] Iter 79: observed MAE=1.248264 rank=1\n",
      "[SoftImpute] Iter 80: observed MAE=1.248264 rank=1\n",
      "[SoftImpute] Iter 81: observed MAE=1.248264 rank=1\n",
      "[SoftImpute] Iter 82: observed MAE=1.248264 rank=1\n",
      "[SoftImpute] Iter 83: observed MAE=1.248264 rank=1\n",
      "[SoftImpute] Iter 84: observed MAE=1.248264 rank=1\n",
      "[SoftImpute] Iter 85: observed MAE=1.248264 rank=1\n",
      "[SoftImpute] Iter 86: observed MAE=1.248264 rank=1\n",
      "[SoftImpute] Iter 87: observed MAE=1.248264 rank=1\n",
      "[SoftImpute] Iter 88: observed MAE=1.248264 rank=1\n",
      "[SoftImpute] Iter 89: observed MAE=1.248264 rank=1\n",
      "[SoftImpute] Iter 90: observed MAE=1.248264 rank=1\n",
      "[SoftImpute] Iter 91: observed MAE=1.248264 rank=1\n",
      "[SoftImpute] Iter 92: observed MAE=1.248264 rank=1\n",
      "[SoftImpute] Iter 93: observed MAE=1.248264 rank=1\n",
      "[SoftImpute] Iter 94: observed MAE=1.248264 rank=1\n",
      "[SoftImpute] Iter 95: observed MAE=1.248264 rank=1\n",
      "[SoftImpute] Iter 96: observed MAE=1.248264 rank=1\n",
      "[SoftImpute] Iter 97: observed MAE=1.248264 rank=1\n",
      "[SoftImpute] Iter 98: observed MAE=1.248264 rank=1\n",
      "[SoftImpute] Iter 99: observed MAE=1.248264 rank=1\n",
      "[SoftImpute] Iter 100: observed MAE=1.248264 rank=1\n",
      "[SoftImpute] Stopped after iteration 100 for lambda=130.056482\n"
     ]
    },
    {
     "data": {
      "text/plain": [
       "44.34044138822746"
      ]
     },
     "execution_count": 49,
     "metadata": {},
     "output_type": "execute_result"
    }
   ],
   "source": [
    "imputed_pm10_train = SoftImpute().fit_transform(y_train_pm10)\n",
    "model_imputed_pm10 = ARIMA(imputed_pm10_train, order=(2,0,0))\n",
    "model_fit_imputed_pm10 = model_imputed_pm10.fit(disp=0)\n",
    "\n",
    "forecast_result_imputed_pm10 = model_fit_imputed_pm10.forecast(steps=2016)\n",
    "\n",
    "nonnull_values_pm10 = y_valid_pm10['PM10'].notnull()\n",
    "y = y_valid_pm10['PM10'][nonnull_values_pm10]\n",
    "predictions_pm10 = forecast_result_imputed_pm10[0]\n",
    "predictions_pm10 = predictions_pm10[nonnull_values]\n",
    "rmse(predictions_pm10, y)"
   ]
  },
  {
   "cell_type": "markdown",
   "metadata": {},
   "source": [
    "## Grid Search ARIMA"
   ]
  },
  {
   "cell_type": "code",
   "execution_count": null,
   "metadata": {},
   "outputs": [],
   "source": [
    "# evaluate parameters\n",
    "# p_values = [0, 1, 2]\n",
    "# d_values = range(0, 3)\n",
    "# q_values = range(0, 3)\n",
    "# warnings.filterwarnings(\"ignore\")\n",
    "# evaluate_models(nonnull_pm25_y_train, p_values, d_values, q_values)"
   ]
  },
  {
   "cell_type": "code",
   "execution_count": null,
   "metadata": {},
   "outputs": [],
   "source": []
  }
 ],
 "metadata": {
  "kernelspec": {
   "display_name": "Python 3",
   "language": "python",
   "name": "python3"
  },
  "language_info": {
   "codemirror_mode": {
    "name": "ipython",
    "version": 3
   },
   "file_extension": ".py",
   "mimetype": "text/x-python",
   "name": "python",
   "nbconvert_exporter": "python",
   "pygments_lexer": "ipython3",
   "version": "3.6.5"
  }
 },
 "nbformat": 4,
 "nbformat_minor": 2
}
