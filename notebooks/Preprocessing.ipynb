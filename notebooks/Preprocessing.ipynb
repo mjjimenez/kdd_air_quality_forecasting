{
 "cells": [
  {
   "cell_type": "code",
   "execution_count": 2,
   "metadata": {},
   "outputs": [],
   "source": [
    "import pandas as pd\n",
    "import numpy as np\n",
    "\n",
    "%matplotlib inline\n",
    "\n",
    "%load_ext autoreload\n",
    "%autoreload 2"
   ]
  },
  {
   "cell_type": "code",
   "execution_count": 3,
   "metadata": {},
   "outputs": [],
   "source": [
    "# TODO: Use python PathLib to use \n",
    "DATA_PATH = '../data/'"
   ]
  },
  {
   "cell_type": "markdown",
   "metadata": {},
   "source": [
    "## Load Beijing Air Quality"
   ]
  },
  {
   "cell_type": "code",
   "execution_count": 3,
   "metadata": {},
   "outputs": [],
   "source": [
    "beijing_17_18_aq = pd.read_csv(DATA_PATH + 'raw/Beijing/beijing_17_18_aq.csv', parse_dates=['utc_time'])\n",
    "beijing_802_803_aq = pd.read_csv(DATA_PATH + 'raw/Beijing/beijing_201802_201803_aq.csv', parse_dates=['utc_time'])"
   ]
  },
  {
   "cell_type": "code",
   "execution_count": 4,
   "metadata": {
    "scrolled": false
   },
   "outputs": [
    {
     "data": {
      "text/html": [
       "<div>\n",
       "<style scoped>\n",
       "    .dataframe tbody tr th:only-of-type {\n",
       "        vertical-align: middle;\n",
       "    }\n",
       "\n",
       "    .dataframe tbody tr th {\n",
       "        vertical-align: top;\n",
       "    }\n",
       "\n",
       "    .dataframe thead th {\n",
       "        text-align: right;\n",
       "    }\n",
       "</style>\n",
       "<table border=\"1\" class=\"dataframe\">\n",
       "  <thead>\n",
       "    <tr style=\"text-align: right;\">\n",
       "      <th></th>\n",
       "      <th>stationId</th>\n",
       "      <th>utc_time</th>\n",
       "      <th>PM2.5</th>\n",
       "      <th>PM10</th>\n",
       "      <th>NO2</th>\n",
       "      <th>CO</th>\n",
       "      <th>O3</th>\n",
       "      <th>SO2</th>\n",
       "    </tr>\n",
       "  </thead>\n",
       "  <tbody>\n",
       "    <tr>\n",
       "      <td>0</td>\n",
       "      <td>aotizhongxin_aq</td>\n",
       "      <td>2017-01-01 14:00:00</td>\n",
       "      <td>453.0</td>\n",
       "      <td>467.0</td>\n",
       "      <td>156.0</td>\n",
       "      <td>7.2</td>\n",
       "      <td>3.0</td>\n",
       "      <td>9.0</td>\n",
       "    </tr>\n",
       "    <tr>\n",
       "      <td>1</td>\n",
       "      <td>aotizhongxin_aq</td>\n",
       "      <td>2017-01-01 15:00:00</td>\n",
       "      <td>417.0</td>\n",
       "      <td>443.0</td>\n",
       "      <td>143.0</td>\n",
       "      <td>6.8</td>\n",
       "      <td>2.0</td>\n",
       "      <td>8.0</td>\n",
       "    </tr>\n",
       "    <tr>\n",
       "      <td>2</td>\n",
       "      <td>aotizhongxin_aq</td>\n",
       "      <td>2017-01-01 16:00:00</td>\n",
       "      <td>395.0</td>\n",
       "      <td>467.0</td>\n",
       "      <td>141.0</td>\n",
       "      <td>6.9</td>\n",
       "      <td>3.0</td>\n",
       "      <td>8.0</td>\n",
       "    </tr>\n",
       "    <tr>\n",
       "      <td>3</td>\n",
       "      <td>aotizhongxin_aq</td>\n",
       "      <td>2017-01-01 17:00:00</td>\n",
       "      <td>420.0</td>\n",
       "      <td>484.0</td>\n",
       "      <td>139.0</td>\n",
       "      <td>7.4</td>\n",
       "      <td>3.0</td>\n",
       "      <td>9.0</td>\n",
       "    </tr>\n",
       "    <tr>\n",
       "      <td>4</td>\n",
       "      <td>aotizhongxin_aq</td>\n",
       "      <td>2017-01-01 18:00:00</td>\n",
       "      <td>453.0</td>\n",
       "      <td>520.0</td>\n",
       "      <td>157.0</td>\n",
       "      <td>7.6</td>\n",
       "      <td>4.0</td>\n",
       "      <td>9.0</td>\n",
       "    </tr>\n",
       "  </tbody>\n",
       "</table>\n",
       "</div>"
      ],
      "text/plain": [
       "         stationId            utc_time  PM2.5   PM10    NO2   CO   O3  SO2\n",
       "0  aotizhongxin_aq 2017-01-01 14:00:00  453.0  467.0  156.0  7.2  3.0  9.0\n",
       "1  aotizhongxin_aq 2017-01-01 15:00:00  417.0  443.0  143.0  6.8  2.0  8.0\n",
       "2  aotizhongxin_aq 2017-01-01 16:00:00  395.0  467.0  141.0  6.9  3.0  8.0\n",
       "3  aotizhongxin_aq 2017-01-01 17:00:00  420.0  484.0  139.0  7.4  3.0  9.0\n",
       "4  aotizhongxin_aq 2017-01-01 18:00:00  453.0  520.0  157.0  7.6  4.0  9.0"
      ]
     },
     "execution_count": 4,
     "metadata": {},
     "output_type": "execute_result"
    }
   ],
   "source": [
    "beijing_17_18_aq.head()"
   ]
  },
  {
   "cell_type": "code",
   "execution_count": 5,
   "metadata": {
    "scrolled": true
   },
   "outputs": [
    {
     "data": {
      "text/plain": [
       "(Timestamp('2017-01-01 14:00:00'), Timestamp('2018-01-31 15:00:00'))"
      ]
     },
     "execution_count": 5,
     "metadata": {},
     "output_type": "execute_result"
    }
   ],
   "source": [
    "beijing_17_18_aq.utc_time.min(), beijing_17_18_aq.utc_time.max()"
   ]
  },
  {
   "cell_type": "code",
   "execution_count": 6,
   "metadata": {
    "scrolled": true
   },
   "outputs": [
    {
     "data": {
      "text/html": [
       "<div>\n",
       "<style scoped>\n",
       "    .dataframe tbody tr th:only-of-type {\n",
       "        vertical-align: middle;\n",
       "    }\n",
       "\n",
       "    .dataframe tbody tr th {\n",
       "        vertical-align: top;\n",
       "    }\n",
       "\n",
       "    .dataframe thead th {\n",
       "        text-align: right;\n",
       "    }\n",
       "</style>\n",
       "<table border=\"1\" class=\"dataframe\">\n",
       "  <thead>\n",
       "    <tr style=\"text-align: right;\">\n",
       "      <th></th>\n",
       "      <th>stationId</th>\n",
       "      <th>utc_time</th>\n",
       "      <th>PM2.5</th>\n",
       "      <th>PM10</th>\n",
       "      <th>NO2</th>\n",
       "      <th>CO</th>\n",
       "      <th>O3</th>\n",
       "      <th>SO2</th>\n",
       "    </tr>\n",
       "  </thead>\n",
       "  <tbody>\n",
       "    <tr>\n",
       "      <td>0</td>\n",
       "      <td>aotizhongxin_aq</td>\n",
       "      <td>2018-01-31 16:00:00</td>\n",
       "      <td>49.0</td>\n",
       "      <td>82.0</td>\n",
       "      <td>90.0</td>\n",
       "      <td>0.9</td>\n",
       "      <td>6.0</td>\n",
       "      <td>10.0</td>\n",
       "    </tr>\n",
       "    <tr>\n",
       "      <td>1</td>\n",
       "      <td>aotizhongxin_aq</td>\n",
       "      <td>2018-01-31 17:00:00</td>\n",
       "      <td>47.0</td>\n",
       "      <td>80.0</td>\n",
       "      <td>90.0</td>\n",
       "      <td>0.9</td>\n",
       "      <td>5.0</td>\n",
       "      <td>10.0</td>\n",
       "    </tr>\n",
       "    <tr>\n",
       "      <td>2</td>\n",
       "      <td>aotizhongxin_aq</td>\n",
       "      <td>2018-01-31 18:00:00</td>\n",
       "      <td>46.0</td>\n",
       "      <td>91.0</td>\n",
       "      <td>91.0</td>\n",
       "      <td>1.3</td>\n",
       "      <td>5.0</td>\n",
       "      <td>28.0</td>\n",
       "    </tr>\n",
       "    <tr>\n",
       "      <td>3</td>\n",
       "      <td>aotizhongxin_aq</td>\n",
       "      <td>2018-01-31 19:00:00</td>\n",
       "      <td>60.0</td>\n",
       "      <td>95.0</td>\n",
       "      <td>85.0</td>\n",
       "      <td>2.0</td>\n",
       "      <td>6.0</td>\n",
       "      <td>38.0</td>\n",
       "    </tr>\n",
       "    <tr>\n",
       "      <td>4</td>\n",
       "      <td>aotizhongxin_aq</td>\n",
       "      <td>2018-01-31 20:00:00</td>\n",
       "      <td>52.0</td>\n",
       "      <td>91.0</td>\n",
       "      <td>81.0</td>\n",
       "      <td>1.9</td>\n",
       "      <td>5.0</td>\n",
       "      <td>30.0</td>\n",
       "    </tr>\n",
       "  </tbody>\n",
       "</table>\n",
       "</div>"
      ],
      "text/plain": [
       "         stationId            utc_time  PM2.5  PM10   NO2   CO   O3   SO2\n",
       "0  aotizhongxin_aq 2018-01-31 16:00:00   49.0  82.0  90.0  0.9  6.0  10.0\n",
       "1  aotizhongxin_aq 2018-01-31 17:00:00   47.0  80.0  90.0  0.9  5.0  10.0\n",
       "2  aotizhongxin_aq 2018-01-31 18:00:00   46.0  91.0  91.0  1.3  5.0  28.0\n",
       "3  aotizhongxin_aq 2018-01-31 19:00:00   60.0  95.0  85.0  2.0  6.0  38.0\n",
       "4  aotizhongxin_aq 2018-01-31 20:00:00   52.0  91.0  81.0  1.9  5.0  30.0"
      ]
     },
     "execution_count": 6,
     "metadata": {},
     "output_type": "execute_result"
    }
   ],
   "source": [
    "beijing_802_803_aq.head()"
   ]
  },
  {
   "cell_type": "code",
   "execution_count": 7,
   "metadata": {
    "scrolled": true
   },
   "outputs": [
    {
     "data": {
      "text/plain": [
       "(Timestamp('2018-01-31 16:00:00'), Timestamp('2018-03-31 15:00:00'))"
      ]
     },
     "execution_count": 7,
     "metadata": {},
     "output_type": "execute_result"
    }
   ],
   "source": [
    "beijing_802_803_aq.utc_time.min(), beijing_802_803_aq.utc_time.max()"
   ]
  },
  {
   "cell_type": "markdown",
   "metadata": {},
   "source": [
    "## Union Beijing Air Quality Data"
   ]
  },
  {
   "cell_type": "code",
   "execution_count": 8,
   "metadata": {},
   "outputs": [],
   "source": [
    "def rename_aq_df(df):\n",
    "    return df.rename(columns={'stationId': 'station_id', 'utc_time': 'utc_datetime'})"
   ]
  },
  {
   "cell_type": "markdown",
   "metadata": {},
   "source": [
    "Rename and concatenate both airquality data tables"
   ]
  },
  {
   "cell_type": "code",
   "execution_count": 9,
   "metadata": {},
   "outputs": [
    {
     "data": {
      "text/plain": [
       "(360430, 8)"
      ]
     },
     "execution_count": 9,
     "metadata": {},
     "output_type": "execute_result"
    }
   ],
   "source": [
    "beijing_17_18_aq = rename_aq_df(beijing_17_18_aq)\n",
    "beijing_802_803_aq = rename_aq_df(beijing_802_803_aq)\n",
    "\n",
    "beijing_aq_data = pd.concat([beijing_17_18_aq, beijing_802_803_aq], ignore_index=True)\n",
    "beijing_aq_data.shape"
   ]
  },
  {
   "cell_type": "markdown",
   "metadata": {},
   "source": [
    "### Drop duplicated rows"
   ]
  },
  {
   "cell_type": "code",
   "execution_count": 10,
   "metadata": {
    "scrolled": false
   },
   "outputs": [
    {
     "data": {
      "text/plain": [
       "(353955, 8)"
      ]
     },
     "execution_count": 10,
     "metadata": {},
     "output_type": "execute_result"
    }
   ],
   "source": [
    "beijing_aq_data = beijing_aq_data.drop_duplicates()\n",
    "beijing_aq_data.shape"
   ]
  },
  {
   "cell_type": "markdown",
   "metadata": {},
   "source": [
    "### Save as interim feather file"
   ]
  },
  {
   "cell_type": "code",
   "execution_count": 11,
   "metadata": {
    "scrolled": true
   },
   "outputs": [],
   "source": [
    "# `to_feather` won't accept the index after `drop_duplicates`. Had to `reset_index()` and drop the current index.\n",
    "\n",
    "beijing_aq_data.reset_index().drop('index', axis=1).to_feather(DATA_PATH + 'interim/beijing_aq_union.feather')"
   ]
  },
  {
   "cell_type": "code",
   "execution_count": 4,
   "metadata": {},
   "outputs": [],
   "source": [
    "beijing_aq_data = pd.read_feather(DATA_PATH + 'interim/beijing_aq_union.feather')"
   ]
  },
  {
   "cell_type": "code",
   "execution_count": 5,
   "metadata": {},
   "outputs": [
    {
     "data": {
      "text/html": [
       "<div>\n",
       "<style scoped>\n",
       "    .dataframe tbody tr th:only-of-type {\n",
       "        vertical-align: middle;\n",
       "    }\n",
       "\n",
       "    .dataframe tbody tr th {\n",
       "        vertical-align: top;\n",
       "    }\n",
       "\n",
       "    .dataframe thead th {\n",
       "        text-align: right;\n",
       "    }\n",
       "</style>\n",
       "<table border=\"1\" class=\"dataframe\">\n",
       "  <thead>\n",
       "    <tr style=\"text-align: right;\">\n",
       "      <th></th>\n",
       "      <th>station_id</th>\n",
       "      <th>utc_datetime</th>\n",
       "      <th>PM2.5</th>\n",
       "      <th>PM10</th>\n",
       "      <th>NO2</th>\n",
       "      <th>CO</th>\n",
       "      <th>O3</th>\n",
       "      <th>SO2</th>\n",
       "    </tr>\n",
       "  </thead>\n",
       "  <tbody>\n",
       "    <tr>\n",
       "      <td>0</td>\n",
       "      <td>aotizhongxin_aq</td>\n",
       "      <td>2017-01-01 14:00:00</td>\n",
       "      <td>453.0</td>\n",
       "      <td>467.0</td>\n",
       "      <td>156.0</td>\n",
       "      <td>7.2</td>\n",
       "      <td>3.0</td>\n",
       "      <td>9.0</td>\n",
       "    </tr>\n",
       "    <tr>\n",
       "      <td>1</td>\n",
       "      <td>aotizhongxin_aq</td>\n",
       "      <td>2017-01-01 15:00:00</td>\n",
       "      <td>417.0</td>\n",
       "      <td>443.0</td>\n",
       "      <td>143.0</td>\n",
       "      <td>6.8</td>\n",
       "      <td>2.0</td>\n",
       "      <td>8.0</td>\n",
       "    </tr>\n",
       "    <tr>\n",
       "      <td>2</td>\n",
       "      <td>aotizhongxin_aq</td>\n",
       "      <td>2017-01-01 16:00:00</td>\n",
       "      <td>395.0</td>\n",
       "      <td>467.0</td>\n",
       "      <td>141.0</td>\n",
       "      <td>6.9</td>\n",
       "      <td>3.0</td>\n",
       "      <td>8.0</td>\n",
       "    </tr>\n",
       "    <tr>\n",
       "      <td>3</td>\n",
       "      <td>aotizhongxin_aq</td>\n",
       "      <td>2017-01-01 17:00:00</td>\n",
       "      <td>420.0</td>\n",
       "      <td>484.0</td>\n",
       "      <td>139.0</td>\n",
       "      <td>7.4</td>\n",
       "      <td>3.0</td>\n",
       "      <td>9.0</td>\n",
       "    </tr>\n",
       "    <tr>\n",
       "      <td>4</td>\n",
       "      <td>aotizhongxin_aq</td>\n",
       "      <td>2017-01-01 18:00:00</td>\n",
       "      <td>453.0</td>\n",
       "      <td>520.0</td>\n",
       "      <td>157.0</td>\n",
       "      <td>7.6</td>\n",
       "      <td>4.0</td>\n",
       "      <td>9.0</td>\n",
       "    </tr>\n",
       "  </tbody>\n",
       "</table>\n",
       "</div>"
      ],
      "text/plain": [
       "        station_id        utc_datetime  PM2.5   PM10    NO2   CO   O3  SO2\n",
       "0  aotizhongxin_aq 2017-01-01 14:00:00  453.0  467.0  156.0  7.2  3.0  9.0\n",
       "1  aotizhongxin_aq 2017-01-01 15:00:00  417.0  443.0  143.0  6.8  2.0  8.0\n",
       "2  aotizhongxin_aq 2017-01-01 16:00:00  395.0  467.0  141.0  6.9  3.0  8.0\n",
       "3  aotizhongxin_aq 2017-01-01 17:00:00  420.0  484.0  139.0  7.4  3.0  9.0\n",
       "4  aotizhongxin_aq 2017-01-01 18:00:00  453.0  520.0  157.0  7.6  4.0  9.0"
      ]
     },
     "execution_count": 5,
     "metadata": {},
     "output_type": "execute_result"
    }
   ],
   "source": [
    "beijing_aq_data.head()"
   ]
  },
  {
   "cell_type": "code",
   "execution_count": 14,
   "metadata": {},
   "outputs": [
    {
     "data": {
      "text/plain": [
       "(Timestamp('2017-01-01 14:00:00'), Timestamp('2018-03-31 15:00:00'))"
      ]
     },
     "execution_count": 14,
     "metadata": {},
     "output_type": "execute_result"
    }
   ],
   "source": [
    "beijing_aq_data.utc_datetime.min(), beijing_aq_data.utc_datetime.max()"
   ]
  },
  {
   "cell_type": "markdown",
   "metadata": {},
   "source": [
    "## Loading Grid Weather Data"
   ]
  },
  {
   "cell_type": "code",
   "execution_count": 15,
   "metadata": {},
   "outputs": [],
   "source": [
    "beijing_meo_grid = pd.read_csv(DATA_PATH + 'raw/Beijing/Beijing_historical_meo_grid.csv', parse_dates=['utc_time'])"
   ]
  },
  {
   "cell_type": "code",
   "execution_count": 16,
   "metadata": {
    "scrolled": false
   },
   "outputs": [
    {
     "data": {
      "text/html": [
       "<div>\n",
       "<style scoped>\n",
       "    .dataframe tbody tr th:only-of-type {\n",
       "        vertical-align: middle;\n",
       "    }\n",
       "\n",
       "    .dataframe tbody tr th {\n",
       "        vertical-align: top;\n",
       "    }\n",
       "\n",
       "    .dataframe thead th {\n",
       "        text-align: right;\n",
       "    }\n",
       "</style>\n",
       "<table border=\"1\" class=\"dataframe\">\n",
       "  <thead>\n",
       "    <tr style=\"text-align: right;\">\n",
       "      <th></th>\n",
       "      <th>stationName</th>\n",
       "      <th>longitude</th>\n",
       "      <th>latitude</th>\n",
       "      <th>utc_time</th>\n",
       "      <th>temperature</th>\n",
       "      <th>pressure</th>\n",
       "      <th>humidity</th>\n",
       "      <th>wind_direction</th>\n",
       "      <th>wind_speed/kph</th>\n",
       "    </tr>\n",
       "  </thead>\n",
       "  <tbody>\n",
       "    <tr>\n",
       "      <td>0</td>\n",
       "      <td>beijing_grid_000</td>\n",
       "      <td>115.0</td>\n",
       "      <td>39.0</td>\n",
       "      <td>2017-01-01</td>\n",
       "      <td>-5.47</td>\n",
       "      <td>984.73</td>\n",
       "      <td>76.60</td>\n",
       "      <td>53.71</td>\n",
       "      <td>3.53</td>\n",
       "    </tr>\n",
       "    <tr>\n",
       "      <td>1</td>\n",
       "      <td>beijing_grid_001</td>\n",
       "      <td>115.0</td>\n",
       "      <td>39.1</td>\n",
       "      <td>2017-01-01</td>\n",
       "      <td>-5.53</td>\n",
       "      <td>979.33</td>\n",
       "      <td>75.40</td>\n",
       "      <td>43.59</td>\n",
       "      <td>3.11</td>\n",
       "    </tr>\n",
       "    <tr>\n",
       "      <td>2</td>\n",
       "      <td>beijing_grid_002</td>\n",
       "      <td>115.0</td>\n",
       "      <td>39.2</td>\n",
       "      <td>2017-01-01</td>\n",
       "      <td>-5.70</td>\n",
       "      <td>963.14</td>\n",
       "      <td>71.80</td>\n",
       "      <td>0.97</td>\n",
       "      <td>2.75</td>\n",
       "    </tr>\n",
       "    <tr>\n",
       "      <td>3</td>\n",
       "      <td>beijing_grid_003</td>\n",
       "      <td>115.0</td>\n",
       "      <td>39.3</td>\n",
       "      <td>2017-01-01</td>\n",
       "      <td>-5.88</td>\n",
       "      <td>946.94</td>\n",
       "      <td>68.20</td>\n",
       "      <td>327.65</td>\n",
       "      <td>3.84</td>\n",
       "    </tr>\n",
       "    <tr>\n",
       "      <td>4</td>\n",
       "      <td>beijing_grid_004</td>\n",
       "      <td>115.0</td>\n",
       "      <td>39.4</td>\n",
       "      <td>2017-01-01</td>\n",
       "      <td>-5.34</td>\n",
       "      <td>928.80</td>\n",
       "      <td>58.81</td>\n",
       "      <td>317.85</td>\n",
       "      <td>6.14</td>\n",
       "    </tr>\n",
       "  </tbody>\n",
       "</table>\n",
       "</div>"
      ],
      "text/plain": [
       "        stationName  longitude  latitude   utc_time  temperature  pressure  \\\n",
       "0  beijing_grid_000      115.0      39.0 2017-01-01        -5.47    984.73   \n",
       "1  beijing_grid_001      115.0      39.1 2017-01-01        -5.53    979.33   \n",
       "2  beijing_grid_002      115.0      39.2 2017-01-01        -5.70    963.14   \n",
       "3  beijing_grid_003      115.0      39.3 2017-01-01        -5.88    946.94   \n",
       "4  beijing_grid_004      115.0      39.4 2017-01-01        -5.34    928.80   \n",
       "\n",
       "   humidity  wind_direction  wind_speed/kph  \n",
       "0     76.60           53.71            3.53  \n",
       "1     75.40           43.59            3.11  \n",
       "2     71.80            0.97            2.75  \n",
       "3     68.20          327.65            3.84  \n",
       "4     58.81          317.85            6.14  "
      ]
     },
     "execution_count": 16,
     "metadata": {},
     "output_type": "execute_result"
    }
   ],
   "source": [
    "beijing_meo_grid.head()"
   ]
  },
  {
   "cell_type": "code",
   "execution_count": 17,
   "metadata": {},
   "outputs": [
    {
     "data": {
      "text/plain": [
       "(Timestamp('2017-01-01 00:00:00'), Timestamp('2018-03-27 05:00:00'))"
      ]
     },
     "execution_count": 17,
     "metadata": {},
     "output_type": "execute_result"
    }
   ],
   "source": [
    "beijing_meo_grid.utc_time.min(), beijing_meo_grid.utc_time.max()"
   ]
  },
  {
   "cell_type": "markdown",
   "metadata": {},
   "source": [
    "### Rename Grid Weather Data"
   ]
  },
  {
   "cell_type": "code",
   "execution_count": 18,
   "metadata": {},
   "outputs": [],
   "source": [
    "def rename_weather_data(df):\n",
    "    return df.rename(columns={'stationName': 'station_id', 'utc_time': 'utc_datetime', 'wind_speed/kph': 'wind_speed'})"
   ]
  },
  {
   "cell_type": "code",
   "execution_count": 19,
   "metadata": {},
   "outputs": [],
   "source": [
    "beijing_meo_grid = rename_weather_data(beijing_meo_grid)\n",
    "beijing_meo_grid = beijing_meo_grid.drop_duplicates()"
   ]
  },
  {
   "cell_type": "code",
   "execution_count": 20,
   "metadata": {},
   "outputs": [
    {
     "data": {
      "text/html": [
       "<div>\n",
       "<style scoped>\n",
       "    .dataframe tbody tr th:only-of-type {\n",
       "        vertical-align: middle;\n",
       "    }\n",
       "\n",
       "    .dataframe tbody tr th {\n",
       "        vertical-align: top;\n",
       "    }\n",
       "\n",
       "    .dataframe thead th {\n",
       "        text-align: right;\n",
       "    }\n",
       "</style>\n",
       "<table border=\"1\" class=\"dataframe\">\n",
       "  <thead>\n",
       "    <tr style=\"text-align: right;\">\n",
       "      <th></th>\n",
       "      <th>station_id</th>\n",
       "      <th>longitude</th>\n",
       "      <th>latitude</th>\n",
       "      <th>utc_datetime</th>\n",
       "      <th>temperature</th>\n",
       "      <th>pressure</th>\n",
       "      <th>humidity</th>\n",
       "      <th>wind_direction</th>\n",
       "      <th>wind_speed</th>\n",
       "    </tr>\n",
       "  </thead>\n",
       "  <tbody>\n",
       "    <tr>\n",
       "      <td>0</td>\n",
       "      <td>beijing_grid_000</td>\n",
       "      <td>115.0</td>\n",
       "      <td>39.0</td>\n",
       "      <td>2017-01-01</td>\n",
       "      <td>-5.47</td>\n",
       "      <td>984.73</td>\n",
       "      <td>76.60</td>\n",
       "      <td>53.71</td>\n",
       "      <td>3.53</td>\n",
       "    </tr>\n",
       "    <tr>\n",
       "      <td>1</td>\n",
       "      <td>beijing_grid_001</td>\n",
       "      <td>115.0</td>\n",
       "      <td>39.1</td>\n",
       "      <td>2017-01-01</td>\n",
       "      <td>-5.53</td>\n",
       "      <td>979.33</td>\n",
       "      <td>75.40</td>\n",
       "      <td>43.59</td>\n",
       "      <td>3.11</td>\n",
       "    </tr>\n",
       "    <tr>\n",
       "      <td>2</td>\n",
       "      <td>beijing_grid_002</td>\n",
       "      <td>115.0</td>\n",
       "      <td>39.2</td>\n",
       "      <td>2017-01-01</td>\n",
       "      <td>-5.70</td>\n",
       "      <td>963.14</td>\n",
       "      <td>71.80</td>\n",
       "      <td>0.97</td>\n",
       "      <td>2.75</td>\n",
       "    </tr>\n",
       "    <tr>\n",
       "      <td>3</td>\n",
       "      <td>beijing_grid_003</td>\n",
       "      <td>115.0</td>\n",
       "      <td>39.3</td>\n",
       "      <td>2017-01-01</td>\n",
       "      <td>-5.88</td>\n",
       "      <td>946.94</td>\n",
       "      <td>68.20</td>\n",
       "      <td>327.65</td>\n",
       "      <td>3.84</td>\n",
       "    </tr>\n",
       "    <tr>\n",
       "      <td>4</td>\n",
       "      <td>beijing_grid_004</td>\n",
       "      <td>115.0</td>\n",
       "      <td>39.4</td>\n",
       "      <td>2017-01-01</td>\n",
       "      <td>-5.34</td>\n",
       "      <td>928.80</td>\n",
       "      <td>58.81</td>\n",
       "      <td>317.85</td>\n",
       "      <td>6.14</td>\n",
       "    </tr>\n",
       "  </tbody>\n",
       "</table>\n",
       "</div>"
      ],
      "text/plain": [
       "         station_id  longitude  latitude utc_datetime  temperature  pressure  \\\n",
       "0  beijing_grid_000      115.0      39.0   2017-01-01        -5.47    984.73   \n",
       "1  beijing_grid_001      115.0      39.1   2017-01-01        -5.53    979.33   \n",
       "2  beijing_grid_002      115.0      39.2   2017-01-01        -5.70    963.14   \n",
       "3  beijing_grid_003      115.0      39.3   2017-01-01        -5.88    946.94   \n",
       "4  beijing_grid_004      115.0      39.4   2017-01-01        -5.34    928.80   \n",
       "\n",
       "   humidity  wind_direction  wind_speed  \n",
       "0     76.60           53.71        3.53  \n",
       "1     75.40           43.59        3.11  \n",
       "2     71.80            0.97        2.75  \n",
       "3     68.20          327.65        3.84  \n",
       "4     58.81          317.85        6.14  "
      ]
     },
     "execution_count": 20,
     "metadata": {},
     "output_type": "execute_result"
    }
   ],
   "source": [
    "beijing_meo_grid.head()"
   ]
  },
  {
   "cell_type": "markdown",
   "metadata": {},
   "source": [
    "### Save as interim feather file"
   ]
  },
  {
   "cell_type": "code",
   "execution_count": 21,
   "metadata": {},
   "outputs": [],
   "source": [
    "# `to_feather` won't accept the index after `drop_duplicates`. Had to `reset_index()` and drop the current index.\n",
    "\n",
    "beijing_meo_grid.reset_index().drop('index', axis=1).to_feather(DATA_PATH + 'interim/beijing_meo_grid.feather')"
   ]
  },
  {
   "cell_type": "code",
   "execution_count": 6,
   "metadata": {},
   "outputs": [],
   "source": [
    "beijing_meo_grid = pd.read_feather(DATA_PATH + 'interim/beijing_meo_grid.feather')"
   ]
  },
  {
   "cell_type": "markdown",
   "metadata": {},
   "source": [
    "## Loading Observed Weather Data"
   ]
  },
  {
   "cell_type": "code",
   "execution_count": 23,
   "metadata": {},
   "outputs": [],
   "source": [
    "beijing_meo_observed_17_18 = pd.read_csv(DATA_PATH + 'raw/Beijing/beijing_17_18_meo.csv', parse_dates=['utc_time'])\n",
    "beijing_meo_observed_802_803 = pd.read_csv(DATA_PATH + 'raw/Beijing/beijing_201802_201803_me.csv', parse_dates=['utc_time'])"
   ]
  },
  {
   "cell_type": "code",
   "execution_count": 24,
   "metadata": {
    "scrolled": false
   },
   "outputs": [
    {
     "data": {
      "text/html": [
       "<div>\n",
       "<style scoped>\n",
       "    .dataframe tbody tr th:only-of-type {\n",
       "        vertical-align: middle;\n",
       "    }\n",
       "\n",
       "    .dataframe tbody tr th {\n",
       "        vertical-align: top;\n",
       "    }\n",
       "\n",
       "    .dataframe thead th {\n",
       "        text-align: right;\n",
       "    }\n",
       "</style>\n",
       "<table border=\"1\" class=\"dataframe\">\n",
       "  <thead>\n",
       "    <tr style=\"text-align: right;\">\n",
       "      <th></th>\n",
       "      <th>station_id</th>\n",
       "      <th>longitude</th>\n",
       "      <th>latitude</th>\n",
       "      <th>utc_time</th>\n",
       "      <th>temperature</th>\n",
       "      <th>pressure</th>\n",
       "      <th>humidity</th>\n",
       "      <th>wind_direction</th>\n",
       "      <th>wind_speed</th>\n",
       "      <th>weather</th>\n",
       "    </tr>\n",
       "  </thead>\n",
       "  <tbody>\n",
       "    <tr>\n",
       "      <td>0</td>\n",
       "      <td>shunyi_meo</td>\n",
       "      <td>116.615278</td>\n",
       "      <td>40.126667</td>\n",
       "      <td>2017-01-30 16:00:00</td>\n",
       "      <td>-1.7</td>\n",
       "      <td>1028.7</td>\n",
       "      <td>15</td>\n",
       "      <td>215.0</td>\n",
       "      <td>1.6</td>\n",
       "      <td>Sunny/clear</td>\n",
       "    </tr>\n",
       "    <tr>\n",
       "      <td>1</td>\n",
       "      <td>shunyi_meo</td>\n",
       "      <td>116.615278</td>\n",
       "      <td>40.126667</td>\n",
       "      <td>2017-01-30 17:00:00</td>\n",
       "      <td>-3.5</td>\n",
       "      <td>1028.4</td>\n",
       "      <td>24</td>\n",
       "      <td>16.0</td>\n",
       "      <td>1.0</td>\n",
       "      <td>Haze</td>\n",
       "    </tr>\n",
       "    <tr>\n",
       "      <td>2</td>\n",
       "      <td>shunyi_meo</td>\n",
       "      <td>116.615278</td>\n",
       "      <td>40.126667</td>\n",
       "      <td>2017-01-30 18:00:00</td>\n",
       "      <td>-3.7</td>\n",
       "      <td>1028.1</td>\n",
       "      <td>27</td>\n",
       "      <td>32.0</td>\n",
       "      <td>1.1</td>\n",
       "      <td>Haze</td>\n",
       "    </tr>\n",
       "    <tr>\n",
       "      <td>3</td>\n",
       "      <td>shunyi_meo</td>\n",
       "      <td>116.615278</td>\n",
       "      <td>40.126667</td>\n",
       "      <td>2017-01-30 19:00:00</td>\n",
       "      <td>-3.9</td>\n",
       "      <td>1027.6</td>\n",
       "      <td>27</td>\n",
       "      <td>21.0</td>\n",
       "      <td>0.9</td>\n",
       "      <td>Haze</td>\n",
       "    </tr>\n",
       "    <tr>\n",
       "      <td>4</td>\n",
       "      <td>shunyi_meo</td>\n",
       "      <td>116.615278</td>\n",
       "      <td>40.126667</td>\n",
       "      <td>2017-01-30 20:00:00</td>\n",
       "      <td>-4.1</td>\n",
       "      <td>1026.7</td>\n",
       "      <td>26</td>\n",
       "      <td>17.0</td>\n",
       "      <td>1.1</td>\n",
       "      <td>Haze</td>\n",
       "    </tr>\n",
       "  </tbody>\n",
       "</table>\n",
       "</div>"
      ],
      "text/plain": [
       "   station_id   longitude   latitude            utc_time  temperature  \\\n",
       "0  shunyi_meo  116.615278  40.126667 2017-01-30 16:00:00         -1.7   \n",
       "1  shunyi_meo  116.615278  40.126667 2017-01-30 17:00:00         -3.5   \n",
       "2  shunyi_meo  116.615278  40.126667 2017-01-30 18:00:00         -3.7   \n",
       "3  shunyi_meo  116.615278  40.126667 2017-01-30 19:00:00         -3.9   \n",
       "4  shunyi_meo  116.615278  40.126667 2017-01-30 20:00:00         -4.1   \n",
       "\n",
       "   pressure  humidity  wind_direction  wind_speed      weather  \n",
       "0    1028.7        15           215.0         1.6  Sunny/clear  \n",
       "1    1028.4        24            16.0         1.0         Haze  \n",
       "2    1028.1        27            32.0         1.1         Haze  \n",
       "3    1027.6        27            21.0         0.9         Haze  \n",
       "4    1026.7        26            17.0         1.1         Haze  "
      ]
     },
     "execution_count": 24,
     "metadata": {},
     "output_type": "execute_result"
    }
   ],
   "source": [
    "beijing_meo_observed_17_18.head()"
   ]
  },
  {
   "cell_type": "code",
   "execution_count": 25,
   "metadata": {
    "scrolled": true
   },
   "outputs": [
    {
     "data": {
      "text/plain": [
       "array(['shunyi_meo', 'hadian_meo', 'yanqing_meo', 'miyun_meo',\n",
       "       'huairou_meo', 'shangdianzi_meo', 'pinggu_meo', 'tongzhou_meo',\n",
       "       'chaoyang_meo', 'pingchang_meo', 'zhaitang_meo', 'mentougou_meo',\n",
       "       'beijing_meo', 'shijingshan_meo', 'fengtai_meo', 'daxing_meo',\n",
       "       'fangshan_meo', 'xiayunling_meo'], dtype=object)"
      ]
     },
     "execution_count": 25,
     "metadata": {},
     "output_type": "execute_result"
    }
   ],
   "source": [
    "beijing_meo_observed_17_18.station_id.unique()"
   ]
  },
  {
   "cell_type": "code",
   "execution_count": 26,
   "metadata": {
    "scrolled": false
   },
   "outputs": [
    {
     "data": {
      "text/plain": [
       "(Timestamp('2017-01-30 16:00:00'), Timestamp('2018-01-31 15:00:00'))"
      ]
     },
     "execution_count": 26,
     "metadata": {},
     "output_type": "execute_result"
    }
   ],
   "source": [
    "beijing_meo_observed_17_18.utc_time.min(), beijing_meo_observed_17_18.utc_time.max()"
   ]
  },
  {
   "cell_type": "code",
   "execution_count": 27,
   "metadata": {
    "scrolled": true
   },
   "outputs": [
    {
     "data": {
      "text/html": [
       "<div>\n",
       "<style scoped>\n",
       "    .dataframe tbody tr th:only-of-type {\n",
       "        vertical-align: middle;\n",
       "    }\n",
       "\n",
       "    .dataframe tbody tr th {\n",
       "        vertical-align: top;\n",
       "    }\n",
       "\n",
       "    .dataframe thead th {\n",
       "        text-align: right;\n",
       "    }\n",
       "</style>\n",
       "<table border=\"1\" class=\"dataframe\">\n",
       "  <thead>\n",
       "    <tr style=\"text-align: right;\">\n",
       "      <th></th>\n",
       "      <th>station_id</th>\n",
       "      <th>utc_time</th>\n",
       "      <th>weather</th>\n",
       "      <th>temperature</th>\n",
       "      <th>pressure</th>\n",
       "      <th>humidity</th>\n",
       "      <th>wind_speed</th>\n",
       "      <th>wind_direction</th>\n",
       "    </tr>\n",
       "  </thead>\n",
       "  <tbody>\n",
       "    <tr>\n",
       "      <td>0</td>\n",
       "      <td>beijing_meo</td>\n",
       "      <td>2018-01-31 16:00:00</td>\n",
       "      <td>Sunny/clear</td>\n",
       "      <td>-4.8</td>\n",
       "      <td>1023.9</td>\n",
       "      <td>39</td>\n",
       "      <td>0.9</td>\n",
       "      <td>59</td>\n",
       "    </tr>\n",
       "    <tr>\n",
       "      <td>1</td>\n",
       "      <td>beijing_meo</td>\n",
       "      <td>2018-01-31 17:00:00</td>\n",
       "      <td>Sunny/clear</td>\n",
       "      <td>-6.1</td>\n",
       "      <td>1023.4</td>\n",
       "      <td>42</td>\n",
       "      <td>0.0</td>\n",
       "      <td>999017</td>\n",
       "    </tr>\n",
       "    <tr>\n",
       "      <td>2</td>\n",
       "      <td>beijing_meo</td>\n",
       "      <td>2018-01-31 18:00:00</td>\n",
       "      <td>Sunny/clear</td>\n",
       "      <td>-7.0</td>\n",
       "      <td>1023.1</td>\n",
       "      <td>45</td>\n",
       "      <td>0.5</td>\n",
       "      <td>178</td>\n",
       "    </tr>\n",
       "    <tr>\n",
       "      <td>3</td>\n",
       "      <td>beijing_meo</td>\n",
       "      <td>2018-01-31 19:00:00</td>\n",
       "      <td>Haze</td>\n",
       "      <td>-7.7</td>\n",
       "      <td>1022.8</td>\n",
       "      <td>47</td>\n",
       "      <td>0.0</td>\n",
       "      <td>999017</td>\n",
       "    </tr>\n",
       "    <tr>\n",
       "      <td>4</td>\n",
       "      <td>beijing_meo</td>\n",
       "      <td>2018-01-31 20:00:00</td>\n",
       "      <td>Sunny/clear</td>\n",
       "      <td>-6.3</td>\n",
       "      <td>1022.4</td>\n",
       "      <td>44</td>\n",
       "      <td>2.0</td>\n",
       "      <td>71</td>\n",
       "    </tr>\n",
       "  </tbody>\n",
       "</table>\n",
       "</div>"
      ],
      "text/plain": [
       "    station_id            utc_time      weather  temperature  pressure  \\\n",
       "0  beijing_meo 2018-01-31 16:00:00  Sunny/clear         -4.8    1023.9   \n",
       "1  beijing_meo 2018-01-31 17:00:00  Sunny/clear         -6.1    1023.4   \n",
       "2  beijing_meo 2018-01-31 18:00:00  Sunny/clear         -7.0    1023.1   \n",
       "3  beijing_meo 2018-01-31 19:00:00         Haze         -7.7    1022.8   \n",
       "4  beijing_meo 2018-01-31 20:00:00  Sunny/clear         -6.3    1022.4   \n",
       "\n",
       "   humidity  wind_speed  wind_direction  \n",
       "0        39         0.9              59  \n",
       "1        42         0.0          999017  \n",
       "2        45         0.5             178  \n",
       "3        47         0.0          999017  \n",
       "4        44         2.0              71  "
      ]
     },
     "execution_count": 27,
     "metadata": {},
     "output_type": "execute_result"
    }
   ],
   "source": [
    "beijing_meo_observed_802_803.head()"
   ]
  },
  {
   "cell_type": "code",
   "execution_count": 28,
   "metadata": {
    "scrolled": true
   },
   "outputs": [
    {
     "data": {
      "text/plain": [
       "(Timestamp('2018-01-31 16:00:00'), Timestamp('2018-04-01 00:00:00'))"
      ]
     },
     "execution_count": 28,
     "metadata": {},
     "output_type": "execute_result"
    }
   ],
   "source": [
    "beijing_meo_observed_802_803.utc_time.min(), beijing_meo_observed_802_803.utc_time.max()"
   ]
  },
  {
   "cell_type": "code",
   "execution_count": 29,
   "metadata": {},
   "outputs": [
    {
     "data": {
      "text/plain": [
       "array(['beijing_meo', 'chaoyang_meo', 'daxing_meo', 'fangshan_meo',\n",
       "       'fengtai_meo', 'hadian_meo', 'huairou_meo', 'mentougou_meo',\n",
       "       'miyun_meo', 'pingchang_meo', 'pinggu_meo', 'shangdianzi_meo',\n",
       "       'shijingshan_meo', 'shunyi_meo', 'tongzhou_meo', 'xiayunling_meo',\n",
       "       'yanqing_meo', 'zhaitang_meo'], dtype=object)"
      ]
     },
     "execution_count": 29,
     "metadata": {},
     "output_type": "execute_result"
    }
   ],
   "source": [
    "beijing_meo_observed_802_803.station_id.unique()"
   ]
  },
  {
   "cell_type": "markdown",
   "metadata": {},
   "source": [
    "### Union observed weather data "
   ]
  },
  {
   "cell_type": "code",
   "execution_count": 30,
   "metadata": {},
   "outputs": [],
   "source": [
    "beijing_meo_observed_17_18 = rename_weather_data(beijing_meo_observed_17_18)\n",
    "beijing_meo_observed_802_803 = rename_weather_data(beijing_meo_observed_802_803)"
   ]
  },
  {
   "cell_type": "code",
   "execution_count": 31,
   "metadata": {},
   "outputs": [
    {
     "data": {
      "text/html": [
       "<div>\n",
       "<style scoped>\n",
       "    .dataframe tbody tr th:only-of-type {\n",
       "        vertical-align: middle;\n",
       "    }\n",
       "\n",
       "    .dataframe tbody tr th {\n",
       "        vertical-align: top;\n",
       "    }\n",
       "\n",
       "    .dataframe thead th {\n",
       "        text-align: right;\n",
       "    }\n",
       "</style>\n",
       "<table border=\"1\" class=\"dataframe\">\n",
       "  <thead>\n",
       "    <tr style=\"text-align: right;\">\n",
       "      <th></th>\n",
       "      <th>station_id</th>\n",
       "      <th>longitude</th>\n",
       "      <th>latitude</th>\n",
       "      <th>utc_datetime</th>\n",
       "      <th>temperature</th>\n",
       "      <th>pressure</th>\n",
       "      <th>humidity</th>\n",
       "      <th>wind_direction</th>\n",
       "      <th>wind_speed</th>\n",
       "      <th>weather</th>\n",
       "    </tr>\n",
       "  </thead>\n",
       "  <tbody>\n",
       "    <tr>\n",
       "      <td>0</td>\n",
       "      <td>shunyi_meo</td>\n",
       "      <td>116.615278</td>\n",
       "      <td>40.126667</td>\n",
       "      <td>2017-01-30 16:00:00</td>\n",
       "      <td>-1.7</td>\n",
       "      <td>1028.7</td>\n",
       "      <td>15</td>\n",
       "      <td>215.0</td>\n",
       "      <td>1.6</td>\n",
       "      <td>Sunny/clear</td>\n",
       "    </tr>\n",
       "    <tr>\n",
       "      <td>1</td>\n",
       "      <td>shunyi_meo</td>\n",
       "      <td>116.615278</td>\n",
       "      <td>40.126667</td>\n",
       "      <td>2017-01-30 17:00:00</td>\n",
       "      <td>-3.5</td>\n",
       "      <td>1028.4</td>\n",
       "      <td>24</td>\n",
       "      <td>16.0</td>\n",
       "      <td>1.0</td>\n",
       "      <td>Haze</td>\n",
       "    </tr>\n",
       "    <tr>\n",
       "      <td>2</td>\n",
       "      <td>shunyi_meo</td>\n",
       "      <td>116.615278</td>\n",
       "      <td>40.126667</td>\n",
       "      <td>2017-01-30 18:00:00</td>\n",
       "      <td>-3.7</td>\n",
       "      <td>1028.1</td>\n",
       "      <td>27</td>\n",
       "      <td>32.0</td>\n",
       "      <td>1.1</td>\n",
       "      <td>Haze</td>\n",
       "    </tr>\n",
       "    <tr>\n",
       "      <td>3</td>\n",
       "      <td>shunyi_meo</td>\n",
       "      <td>116.615278</td>\n",
       "      <td>40.126667</td>\n",
       "      <td>2017-01-30 19:00:00</td>\n",
       "      <td>-3.9</td>\n",
       "      <td>1027.6</td>\n",
       "      <td>27</td>\n",
       "      <td>21.0</td>\n",
       "      <td>0.9</td>\n",
       "      <td>Haze</td>\n",
       "    </tr>\n",
       "    <tr>\n",
       "      <td>4</td>\n",
       "      <td>shunyi_meo</td>\n",
       "      <td>116.615278</td>\n",
       "      <td>40.126667</td>\n",
       "      <td>2017-01-30 20:00:00</td>\n",
       "      <td>-4.1</td>\n",
       "      <td>1026.7</td>\n",
       "      <td>26</td>\n",
       "      <td>17.0</td>\n",
       "      <td>1.1</td>\n",
       "      <td>Haze</td>\n",
       "    </tr>\n",
       "  </tbody>\n",
       "</table>\n",
       "</div>"
      ],
      "text/plain": [
       "   station_id   longitude   latitude        utc_datetime  temperature  \\\n",
       "0  shunyi_meo  116.615278  40.126667 2017-01-30 16:00:00         -1.7   \n",
       "1  shunyi_meo  116.615278  40.126667 2017-01-30 17:00:00         -3.5   \n",
       "2  shunyi_meo  116.615278  40.126667 2017-01-30 18:00:00         -3.7   \n",
       "3  shunyi_meo  116.615278  40.126667 2017-01-30 19:00:00         -3.9   \n",
       "4  shunyi_meo  116.615278  40.126667 2017-01-30 20:00:00         -4.1   \n",
       "\n",
       "   pressure  humidity  wind_direction  wind_speed      weather  \n",
       "0    1028.7        15           215.0         1.6  Sunny/clear  \n",
       "1    1028.4        24            16.0         1.0         Haze  \n",
       "2    1028.1        27            32.0         1.1         Haze  \n",
       "3    1027.6        27            21.0         0.9         Haze  \n",
       "4    1026.7        26            17.0         1.1         Haze  "
      ]
     },
     "execution_count": 31,
     "metadata": {},
     "output_type": "execute_result"
    }
   ],
   "source": [
    "beijing_observed_meo_union = pd.concat([beijing_meo_observed_17_18, beijing_meo_observed_802_803], sort=False)\n",
    "beijing_observed_meo_union = beijing_observed_meo_union.drop_duplicates()\n",
    "beijing_observed_meo_union.head()"
   ]
  },
  {
   "cell_type": "markdown",
   "metadata": {},
   "source": [
    "### Save as interim feather file"
   ]
  },
  {
   "cell_type": "code",
   "execution_count": 32,
   "metadata": {},
   "outputs": [],
   "source": [
    "beijing_observed_meo_union.reset_index().drop('index', axis=1).to_feather(DATA_PATH + 'interim/beijing_meo_observed_union.feather')"
   ]
  },
  {
   "cell_type": "code",
   "execution_count": 7,
   "metadata": {},
   "outputs": [
    {
     "data": {
      "text/html": [
       "<div>\n",
       "<style scoped>\n",
       "    .dataframe tbody tr th:only-of-type {\n",
       "        vertical-align: middle;\n",
       "    }\n",
       "\n",
       "    .dataframe tbody tr th {\n",
       "        vertical-align: top;\n",
       "    }\n",
       "\n",
       "    .dataframe thead th {\n",
       "        text-align: right;\n",
       "    }\n",
       "</style>\n",
       "<table border=\"1\" class=\"dataframe\">\n",
       "  <thead>\n",
       "    <tr style=\"text-align: right;\">\n",
       "      <th></th>\n",
       "      <th>station_id</th>\n",
       "      <th>longitude</th>\n",
       "      <th>latitude</th>\n",
       "      <th>utc_datetime</th>\n",
       "      <th>temperature</th>\n",
       "      <th>pressure</th>\n",
       "      <th>humidity</th>\n",
       "      <th>wind_direction</th>\n",
       "      <th>wind_speed</th>\n",
       "      <th>weather</th>\n",
       "    </tr>\n",
       "  </thead>\n",
       "  <tbody>\n",
       "    <tr>\n",
       "      <td>0</td>\n",
       "      <td>shunyi_meo</td>\n",
       "      <td>116.615278</td>\n",
       "      <td>40.126667</td>\n",
       "      <td>2017-01-30 16:00:00</td>\n",
       "      <td>-1.7</td>\n",
       "      <td>1028.7</td>\n",
       "      <td>15</td>\n",
       "      <td>215.0</td>\n",
       "      <td>1.6</td>\n",
       "      <td>Sunny/clear</td>\n",
       "    </tr>\n",
       "    <tr>\n",
       "      <td>1</td>\n",
       "      <td>shunyi_meo</td>\n",
       "      <td>116.615278</td>\n",
       "      <td>40.126667</td>\n",
       "      <td>2017-01-30 17:00:00</td>\n",
       "      <td>-3.5</td>\n",
       "      <td>1028.4</td>\n",
       "      <td>24</td>\n",
       "      <td>16.0</td>\n",
       "      <td>1.0</td>\n",
       "      <td>Haze</td>\n",
       "    </tr>\n",
       "    <tr>\n",
       "      <td>2</td>\n",
       "      <td>shunyi_meo</td>\n",
       "      <td>116.615278</td>\n",
       "      <td>40.126667</td>\n",
       "      <td>2017-01-30 18:00:00</td>\n",
       "      <td>-3.7</td>\n",
       "      <td>1028.1</td>\n",
       "      <td>27</td>\n",
       "      <td>32.0</td>\n",
       "      <td>1.1</td>\n",
       "      <td>Haze</td>\n",
       "    </tr>\n",
       "    <tr>\n",
       "      <td>3</td>\n",
       "      <td>shunyi_meo</td>\n",
       "      <td>116.615278</td>\n",
       "      <td>40.126667</td>\n",
       "      <td>2017-01-30 19:00:00</td>\n",
       "      <td>-3.9</td>\n",
       "      <td>1027.6</td>\n",
       "      <td>27</td>\n",
       "      <td>21.0</td>\n",
       "      <td>0.9</td>\n",
       "      <td>Haze</td>\n",
       "    </tr>\n",
       "    <tr>\n",
       "      <td>4</td>\n",
       "      <td>shunyi_meo</td>\n",
       "      <td>116.615278</td>\n",
       "      <td>40.126667</td>\n",
       "      <td>2017-01-30 20:00:00</td>\n",
       "      <td>-4.1</td>\n",
       "      <td>1026.7</td>\n",
       "      <td>26</td>\n",
       "      <td>17.0</td>\n",
       "      <td>1.1</td>\n",
       "      <td>Haze</td>\n",
       "    </tr>\n",
       "  </tbody>\n",
       "</table>\n",
       "</div>"
      ],
      "text/plain": [
       "   station_id   longitude   latitude        utc_datetime  temperature  \\\n",
       "0  shunyi_meo  116.615278  40.126667 2017-01-30 16:00:00         -1.7   \n",
       "1  shunyi_meo  116.615278  40.126667 2017-01-30 17:00:00         -3.5   \n",
       "2  shunyi_meo  116.615278  40.126667 2017-01-30 18:00:00         -3.7   \n",
       "3  shunyi_meo  116.615278  40.126667 2017-01-30 19:00:00         -3.9   \n",
       "4  shunyi_meo  116.615278  40.126667 2017-01-30 20:00:00         -4.1   \n",
       "\n",
       "   pressure  humidity  wind_direction  wind_speed      weather  \n",
       "0    1028.7        15           215.0         1.6  Sunny/clear  \n",
       "1    1028.4        24            16.0         1.0         Haze  \n",
       "2    1028.1        27            32.0         1.1         Haze  \n",
       "3    1027.6        27            21.0         0.9         Haze  \n",
       "4    1026.7        26            17.0         1.1         Haze  "
      ]
     },
     "execution_count": 7,
     "metadata": {},
     "output_type": "execute_result"
    }
   ],
   "source": [
    "beijing_observed_meo_union = pd.read_feather(DATA_PATH + 'interim/beijing_meo_observed_union.feather')\n",
    "beijing_observed_meo_union.head()"
   ]
  },
  {
   "cell_type": "markdown",
   "metadata": {},
   "source": [
    "## Remove/correct outliers"
   ]
  },
  {
   "cell_type": "markdown",
   "metadata": {},
   "source": [
    "### Weather outliers"
   ]
  },
  {
   "cell_type": "code",
   "execution_count": 34,
   "metadata": {
    "scrolled": false
   },
   "outputs": [
    {
     "data": {
      "text/html": [
       "<div>\n",
       "<style scoped>\n",
       "    .dataframe tbody tr th:only-of-type {\n",
       "        vertical-align: middle;\n",
       "    }\n",
       "\n",
       "    .dataframe tbody tr th {\n",
       "        vertical-align: top;\n",
       "    }\n",
       "\n",
       "    .dataframe thead th {\n",
       "        text-align: right;\n",
       "    }\n",
       "</style>\n",
       "<table border=\"1\" class=\"dataframe\">\n",
       "  <thead>\n",
       "    <tr style=\"text-align: right;\">\n",
       "      <th></th>\n",
       "      <th>longitude</th>\n",
       "      <th>latitude</th>\n",
       "      <th>temperature</th>\n",
       "      <th>pressure</th>\n",
       "      <th>humidity</th>\n",
       "      <th>wind_direction</th>\n",
       "      <th>wind_speed</th>\n",
       "    </tr>\n",
       "  </thead>\n",
       "  <tbody>\n",
       "    <tr>\n",
       "      <td>count</td>\n",
       "      <td>158047.000000</td>\n",
       "      <td>158047.000000</td>\n",
       "      <td>183680.000000</td>\n",
       "      <td>183680.000000</td>\n",
       "      <td>183680.000000</td>\n",
       "      <td>183446.000000</td>\n",
       "      <td>183446.000000</td>\n",
       "    </tr>\n",
       "    <tr>\n",
       "      <td>mean</td>\n",
       "      <td>116.395672</td>\n",
       "      <td>40.047275</td>\n",
       "      <td>33.294884</td>\n",
       "      <td>1023.931712</td>\n",
       "      <td>310.017247</td>\n",
       "      <td>36052.241292</td>\n",
       "      <td>83.678902</td>\n",
       "    </tr>\n",
       "    <tr>\n",
       "      <td>std</td>\n",
       "      <td>0.395223</td>\n",
       "      <td>0.264798</td>\n",
       "      <td>4666.502794</td>\n",
       "      <td>4661.909456</td>\n",
       "      <td>16162.668763</td>\n",
       "      <td>185870.848379</td>\n",
       "      <td>9042.190956</td>\n",
       "    </tr>\n",
       "    <tr>\n",
       "      <td>min</td>\n",
       "      <td>115.692222</td>\n",
       "      <td>39.718611</td>\n",
       "      <td>-21.300000</td>\n",
       "      <td>940.000000</td>\n",
       "      <td>3.000000</td>\n",
       "      <td>0.000000</td>\n",
       "      <td>0.000000</td>\n",
       "    </tr>\n",
       "    <tr>\n",
       "      <td>25%</td>\n",
       "      <td>116.194167</td>\n",
       "      <td>39.847500</td>\n",
       "      <td>1.100000</td>\n",
       "      <td>994.600000</td>\n",
       "      <td>26.000000</td>\n",
       "      <td>78.000000</td>\n",
       "      <td>0.900000</td>\n",
       "    </tr>\n",
       "    <tr>\n",
       "      <td>50%</td>\n",
       "      <td>116.290556</td>\n",
       "      <td>39.973889</td>\n",
       "      <td>11.400000</td>\n",
       "      <td>1006.700000</td>\n",
       "      <td>45.000000</td>\n",
       "      <td>189.000000</td>\n",
       "      <td>1.500000</td>\n",
       "    </tr>\n",
       "    <tr>\n",
       "      <td>75%</td>\n",
       "      <td>116.626944</td>\n",
       "      <td>40.223333</td>\n",
       "      <td>22.000000</td>\n",
       "      <td>1017.500000</td>\n",
       "      <td>70.000000</td>\n",
       "      <td>279.000000</td>\n",
       "      <td>2.500000</td>\n",
       "    </tr>\n",
       "    <tr>\n",
       "      <td>max</td>\n",
       "      <td>117.117778</td>\n",
       "      <td>40.658889</td>\n",
       "      <td>999999.000000</td>\n",
       "      <td>999999.000000</td>\n",
       "      <td>999999.000000</td>\n",
       "      <td>999999.000000</td>\n",
       "      <td>999999.000000</td>\n",
       "    </tr>\n",
       "  </tbody>\n",
       "</table>\n",
       "</div>"
      ],
      "text/plain": [
       "           longitude       latitude    temperature       pressure  \\\n",
       "count  158047.000000  158047.000000  183680.000000  183680.000000   \n",
       "mean      116.395672      40.047275      33.294884    1023.931712   \n",
       "std         0.395223       0.264798    4666.502794    4661.909456   \n",
       "min       115.692222      39.718611     -21.300000     940.000000   \n",
       "25%       116.194167      39.847500       1.100000     994.600000   \n",
       "50%       116.290556      39.973889      11.400000    1006.700000   \n",
       "75%       116.626944      40.223333      22.000000    1017.500000   \n",
       "max       117.117778      40.658889  999999.000000  999999.000000   \n",
       "\n",
       "            humidity  wind_direction     wind_speed  \n",
       "count  183680.000000   183446.000000  183446.000000  \n",
       "mean      310.017247    36052.241292      83.678902  \n",
       "std     16162.668763   185870.848379    9042.190956  \n",
       "min         3.000000        0.000000       0.000000  \n",
       "25%        26.000000       78.000000       0.900000  \n",
       "50%        45.000000      189.000000       1.500000  \n",
       "75%        70.000000      279.000000       2.500000  \n",
       "max    999999.000000   999999.000000  999999.000000  "
      ]
     },
     "execution_count": 34,
     "metadata": {},
     "output_type": "execute_result"
    }
   ],
   "source": [
    "beijing_observed_meo_union.describe()"
   ]
  },
  {
   "cell_type": "code",
   "execution_count": 35,
   "metadata": {
    "scrolled": false
   },
   "outputs": [
    {
     "data": {
      "text/plain": [
       "<matplotlib.axes._subplots.AxesSubplot at 0x10d18ca90>"
      ]
     },
     "execution_count": 35,
     "metadata": {},
     "output_type": "execute_result"
    },
    {
     "data": {
      "image/png": "[encoded data removed]",
      "text/plain": [
       "<Figure size 432x288 with 1 Axes>"
      ]
     },
     "metadata": {
      "needs_background": "light"
     },
     "output_type": "display_data"
    }
   ],
   "source": [
    "# TODO: Show outliers using boxplot of temperature, pressure, humidity, wind_direction and wind_speed\n",
    "beijing_observed_meo_union.temperature.plot.box()"
   ]
  },
  {
   "cell_type": "code",
   "execution_count": 36,
   "metadata": {},
   "outputs": [
    {
     "data": {
      "text/html": [
       "<div>\n",
       "<style scoped>\n",
       "    .dataframe tbody tr th:only-of-type {\n",
       "        vertical-align: middle;\n",
       "    }\n",
       "\n",
       "    .dataframe tbody tr th {\n",
       "        vertical-align: top;\n",
       "    }\n",
       "\n",
       "    .dataframe thead th {\n",
       "        text-align: right;\n",
       "    }\n",
       "</style>\n",
       "<table border=\"1\" class=\"dataframe\">\n",
       "  <thead>\n",
       "    <tr style=\"text-align: right;\">\n",
       "      <th></th>\n",
       "      <th>station_id</th>\n",
       "      <th>longitude</th>\n",
       "      <th>latitude</th>\n",
       "      <th>utc_datetime</th>\n",
       "      <th>temperature</th>\n",
       "      <th>pressure</th>\n",
       "      <th>humidity</th>\n",
       "      <th>wind_direction</th>\n",
       "      <th>wind_speed</th>\n",
       "      <th>weather</th>\n",
       "    </tr>\n",
       "  </thead>\n",
       "  <tbody>\n",
       "    <tr>\n",
       "      <td>83989</td>\n",
       "      <td>pingchang_meo</td>\n",
       "      <td>116.211667</td>\n",
       "      <td>40.223333</td>\n",
       "      <td>2017-08-25 13:00:00</td>\n",
       "      <td>999999.0</td>\n",
       "      <td>999999.0</td>\n",
       "      <td>999999</td>\n",
       "      <td>999999.0</td>\n",
       "      <td>999999.0</td>\n",
       "      <td>Sunny/clear</td>\n",
       "    </tr>\n",
       "    <tr>\n",
       "      <td>106220</td>\n",
       "      <td>beijing_meo</td>\n",
       "      <td>116.469444</td>\n",
       "      <td>39.806111</td>\n",
       "      <td>2017-03-07 07:00:00</td>\n",
       "      <td>999999.0</td>\n",
       "      <td>999999.0</td>\n",
       "      <td>999999</td>\n",
       "      <td>999999.0</td>\n",
       "      <td>999999.0</td>\n",
       "      <td>Sunny/clear</td>\n",
       "    </tr>\n",
       "    <tr>\n",
       "      <td>107196</td>\n",
       "      <td>beijing_meo</td>\n",
       "      <td>116.469444</td>\n",
       "      <td>39.806111</td>\n",
       "      <td>2017-04-17 00:00:00</td>\n",
       "      <td>999999.0</td>\n",
       "      <td>999999.0</td>\n",
       "      <td>999999</td>\n",
       "      <td>999999.0</td>\n",
       "      <td>999999.0</td>\n",
       "      <td>Sunny/clear</td>\n",
       "    </tr>\n",
       "    <tr>\n",
       "      <td>110197</td>\n",
       "      <td>beijing_meo</td>\n",
       "      <td>116.469444</td>\n",
       "      <td>39.806111</td>\n",
       "      <td>2017-08-20 03:00:00</td>\n",
       "      <td>999999.0</td>\n",
       "      <td>999999.0</td>\n",
       "      <td>999999</td>\n",
       "      <td>999999.0</td>\n",
       "      <td>999999.0</td>\n",
       "      <td>Sunny/clear</td>\n",
       "    </tr>\n",
       "  </tbody>\n",
       "</table>\n",
       "</div>"
      ],
      "text/plain": [
       "           station_id   longitude   latitude        utc_datetime  temperature  \\\n",
       "83989   pingchang_meo  116.211667  40.223333 2017-08-25 13:00:00     999999.0   \n",
       "106220    beijing_meo  116.469444  39.806111 2017-03-07 07:00:00     999999.0   \n",
       "107196    beijing_meo  116.469444  39.806111 2017-04-17 00:00:00     999999.0   \n",
       "110197    beijing_meo  116.469444  39.806111 2017-08-20 03:00:00     999999.0   \n",
       "\n",
       "        pressure  humidity  wind_direction  wind_speed      weather  \n",
       "83989   999999.0    999999        999999.0    999999.0  Sunny/clear  \n",
       "106220  999999.0    999999        999999.0    999999.0  Sunny/clear  \n",
       "107196  999999.0    999999        999999.0    999999.0  Sunny/clear  \n",
       "110197  999999.0    999999        999999.0    999999.0  Sunny/clear  "
      ]
     },
     "execution_count": 36,
     "metadata": {},
     "output_type": "execute_result"
    }
   ],
   "source": [
    "beijing_observed_meo_union[beijing_observed_meo_union.temperature > 800000]"
   ]
  },
  {
   "cell_type": "markdown",
   "metadata": {},
   "source": [
    "Wind direction is measured in degrees clockwise from due north and so a wind coming from the south has a wind direction of 180 degrees; one from the east is 90 degrees, etc. **If the wind speed is less than 0.5m/s (nearly no wind), the value of the wind_direction is 999017.**"
   ]
  },
  {
   "cell_type": "code",
   "execution_count": 37,
   "metadata": {
    "scrolled": true
   },
   "outputs": [
    {
     "data": {
      "text/html": [
       "<div>\n",
       "<style scoped>\n",
       "    .dataframe tbody tr th:only-of-type {\n",
       "        vertical-align: middle;\n",
       "    }\n",
       "\n",
       "    .dataframe tbody tr th {\n",
       "        vertical-align: top;\n",
       "    }\n",
       "\n",
       "    .dataframe thead th {\n",
       "        text-align: right;\n",
       "    }\n",
       "</style>\n",
       "<table border=\"1\" class=\"dataframe\">\n",
       "  <thead>\n",
       "    <tr style=\"text-align: right;\">\n",
       "      <th></th>\n",
       "      <th>station_id</th>\n",
       "      <th>longitude</th>\n",
       "      <th>latitude</th>\n",
       "      <th>utc_datetime</th>\n",
       "      <th>temperature</th>\n",
       "      <th>pressure</th>\n",
       "      <th>humidity</th>\n",
       "      <th>wind_direction</th>\n",
       "      <th>wind_speed</th>\n",
       "      <th>weather</th>\n",
       "    </tr>\n",
       "  </thead>\n",
       "  <tbody>\n",
       "    <tr>\n",
       "      <td>19</td>\n",
       "      <td>shunyi_meo</td>\n",
       "      <td>116.615278</td>\n",
       "      <td>40.126667</td>\n",
       "      <td>2017-01-31 11:00:00</td>\n",
       "      <td>-2.2</td>\n",
       "      <td>1024.9</td>\n",
       "      <td>34</td>\n",
       "      <td>999017.0</td>\n",
       "      <td>0.2</td>\n",
       "      <td>Haze</td>\n",
       "    </tr>\n",
       "    <tr>\n",
       "      <td>44</td>\n",
       "      <td>shunyi_meo</td>\n",
       "      <td>116.615278</td>\n",
       "      <td>40.126667</td>\n",
       "      <td>2017-02-01 12:00:00</td>\n",
       "      <td>-2.8</td>\n",
       "      <td>1032.3</td>\n",
       "      <td>41</td>\n",
       "      <td>999017.0</td>\n",
       "      <td>0.1</td>\n",
       "      <td>Sunny/clear</td>\n",
       "    </tr>\n",
       "    <tr>\n",
       "      <td>45</td>\n",
       "      <td>shunyi_meo</td>\n",
       "      <td>116.615278</td>\n",
       "      <td>40.126667</td>\n",
       "      <td>2017-02-01 13:00:00</td>\n",
       "      <td>-4.8</td>\n",
       "      <td>1032.0</td>\n",
       "      <td>52</td>\n",
       "      <td>999017.0</td>\n",
       "      <td>0.0</td>\n",
       "      <td>Sunny/clear</td>\n",
       "    </tr>\n",
       "    <tr>\n",
       "      <td>66</td>\n",
       "      <td>shunyi_meo</td>\n",
       "      <td>116.615278</td>\n",
       "      <td>40.126667</td>\n",
       "      <td>2017-02-02 10:00:00</td>\n",
       "      <td>0.7</td>\n",
       "      <td>1023.6</td>\n",
       "      <td>32</td>\n",
       "      <td>999017.0</td>\n",
       "      <td>0.0</td>\n",
       "      <td>Sunny/clear</td>\n",
       "    </tr>\n",
       "    <tr>\n",
       "      <td>67</td>\n",
       "      <td>shunyi_meo</td>\n",
       "      <td>116.615278</td>\n",
       "      <td>40.126667</td>\n",
       "      <td>2017-02-02 11:00:00</td>\n",
       "      <td>-1.5</td>\n",
       "      <td>1023.9</td>\n",
       "      <td>44</td>\n",
       "      <td>999017.0</td>\n",
       "      <td>0.0</td>\n",
       "      <td>Haze</td>\n",
       "    </tr>\n",
       "  </tbody>\n",
       "</table>\n",
       "</div>"
      ],
      "text/plain": [
       "    station_id   longitude   latitude        utc_datetime  temperature  \\\n",
       "19  shunyi_meo  116.615278  40.126667 2017-01-31 11:00:00         -2.2   \n",
       "44  shunyi_meo  116.615278  40.126667 2017-02-01 12:00:00         -2.8   \n",
       "45  shunyi_meo  116.615278  40.126667 2017-02-01 13:00:00         -4.8   \n",
       "66  shunyi_meo  116.615278  40.126667 2017-02-02 10:00:00          0.7   \n",
       "67  shunyi_meo  116.615278  40.126667 2017-02-02 11:00:00         -1.5   \n",
       "\n",
       "    pressure  humidity  wind_direction  wind_speed      weather  \n",
       "19    1024.9        34        999017.0         0.2         Haze  \n",
       "44    1032.3        41        999017.0         0.1  Sunny/clear  \n",
       "45    1032.0        52        999017.0         0.0  Sunny/clear  \n",
       "66    1023.6        32        999017.0         0.0  Sunny/clear  \n",
       "67    1023.9        44        999017.0         0.0         Haze  "
      ]
     },
     "execution_count": 37,
     "metadata": {},
     "output_type": "execute_result"
    }
   ],
   "source": [
    "beijing_observed_meo_union[beijing_observed_meo_union.wind_direction == 999017].head()"
   ]
  },
  {
   "cell_type": "code",
   "execution_count": 38,
   "metadata": {},
   "outputs": [
    {
     "name": "stderr",
     "output_type": "stream",
     "text": [
      "/Users/mjjim2003/Documents/Eskwelabs/Capstone_Project/Air_Quality/KDD_Air_Quality/kdd_air_quality/env/lib/python3.6/site-packages/pandas/core/indexing.py:494: SettingWithCopyWarning: \n",
      "A value is trying to be set on a copy of a slice from a DataFrame.\n",
      "Try using .loc[row_indexer,col_indexer] = value instead\n",
      "\n",
      "See the caveats in the documentation: http://pandas.pydata.org/pandas-docs/stable/user_guide/indexing.html#returning-a-view-versus-a-copy\n",
      "  self.obj[item] = s\n"
     ]
    }
   ],
   "source": [
    "def process_observed_meo_outliers(df):\n",
    "    df = df[df.temperature < 800000]\n",
    "    df.loc[:, 'wind_direction'] = df.replace(999017, 0)\n",
    "    return df\n",
    "\n",
    "beijing_observed_meo_union = process_observed_meo_outliers(beijing_observed_meo_union)   "
   ]
  },
  {
   "cell_type": "code",
   "execution_count": 39,
   "metadata": {
    "scrolled": false
   },
   "outputs": [
    {
     "data": {
      "text/html": [
       "<div>\n",
       "<style scoped>\n",
       "    .dataframe tbody tr th:only-of-type {\n",
       "        vertical-align: middle;\n",
       "    }\n",
       "\n",
       "    .dataframe tbody tr th {\n",
       "        vertical-align: top;\n",
       "    }\n",
       "\n",
       "    .dataframe thead th {\n",
       "        text-align: right;\n",
       "    }\n",
       "</style>\n",
       "<table border=\"1\" class=\"dataframe\">\n",
       "  <thead>\n",
       "    <tr style=\"text-align: right;\">\n",
       "      <th></th>\n",
       "      <th>longitude</th>\n",
       "      <th>latitude</th>\n",
       "      <th>temperature</th>\n",
       "      <th>pressure</th>\n",
       "      <th>humidity</th>\n",
       "      <th>wind_direction</th>\n",
       "      <th>wind_speed</th>\n",
       "    </tr>\n",
       "  </thead>\n",
       "  <tbody>\n",
       "    <tr>\n",
       "      <td>count</td>\n",
       "      <td>158043.000000</td>\n",
       "      <td>158043.000000</td>\n",
       "      <td>183676.000000</td>\n",
       "      <td>183676.000000</td>\n",
       "      <td>183676.000000</td>\n",
       "      <td>183442.000000</td>\n",
       "      <td>183442.000000</td>\n",
       "    </tr>\n",
       "    <tr>\n",
       "      <td>mean</td>\n",
       "      <td>116.395672</td>\n",
       "      <td>40.047279</td>\n",
       "      <td>11.518153</td>\n",
       "      <td>1002.176555</td>\n",
       "      <td>288.246543</td>\n",
       "      <td>229.509611</td>\n",
       "      <td>61.875491</td>\n",
       "    </tr>\n",
       "    <tr>\n",
       "      <td>std</td>\n",
       "      <td>0.395227</td>\n",
       "      <td>0.264799</td>\n",
       "      <td>12.071890</td>\n",
       "      <td>20.535550</td>\n",
       "      <td>15474.915980</td>\n",
       "      <td>7742.910599</td>\n",
       "      <td>7743.438601</td>\n",
       "    </tr>\n",
       "    <tr>\n",
       "      <td>min</td>\n",
       "      <td>115.692222</td>\n",
       "      <td>39.718611</td>\n",
       "      <td>-21.300000</td>\n",
       "      <td>940.000000</td>\n",
       "      <td>3.000000</td>\n",
       "      <td>0.000000</td>\n",
       "      <td>0.000000</td>\n",
       "    </tr>\n",
       "    <tr>\n",
       "      <td>25%</td>\n",
       "      <td>116.194167</td>\n",
       "      <td>39.847500</td>\n",
       "      <td>1.100000</td>\n",
       "      <td>994.600000</td>\n",
       "      <td>26.000000</td>\n",
       "      <td>67.000000</td>\n",
       "      <td>0.900000</td>\n",
       "    </tr>\n",
       "    <tr>\n",
       "      <td>50%</td>\n",
       "      <td>116.290556</td>\n",
       "      <td>39.973889</td>\n",
       "      <td>11.400000</td>\n",
       "      <td>1006.700000</td>\n",
       "      <td>45.000000</td>\n",
       "      <td>177.000000</td>\n",
       "      <td>1.500000</td>\n",
       "    </tr>\n",
       "    <tr>\n",
       "      <td>75%</td>\n",
       "      <td>116.626944</td>\n",
       "      <td>40.223333</td>\n",
       "      <td>22.000000</td>\n",
       "      <td>1017.500000</td>\n",
       "      <td>70.000000</td>\n",
       "      <td>260.000000</td>\n",
       "      <td>2.500000</td>\n",
       "    </tr>\n",
       "    <tr>\n",
       "      <td>max</td>\n",
       "      <td>117.117778</td>\n",
       "      <td>40.658889</td>\n",
       "      <td>40.300000</td>\n",
       "      <td>1039.700000</td>\n",
       "      <td>999999.000000</td>\n",
       "      <td>999999.000000</td>\n",
       "      <td>999999.000000</td>\n",
       "    </tr>\n",
       "  </tbody>\n",
       "</table>\n",
       "</div>"
      ],
      "text/plain": [
       "           longitude       latitude    temperature       pressure  \\\n",
       "count  158043.000000  158043.000000  183676.000000  183676.000000   \n",
       "mean      116.395672      40.047279      11.518153    1002.176555   \n",
       "std         0.395227       0.264799      12.071890      20.535550   \n",
       "min       115.692222      39.718611     -21.300000     940.000000   \n",
       "25%       116.194167      39.847500       1.100000     994.600000   \n",
       "50%       116.290556      39.973889      11.400000    1006.700000   \n",
       "75%       116.626944      40.223333      22.000000    1017.500000   \n",
       "max       117.117778      40.658889      40.300000    1039.700000   \n",
       "\n",
       "            humidity  wind_direction     wind_speed  \n",
       "count  183676.000000   183442.000000  183442.000000  \n",
       "mean      288.246543      229.509611      61.875491  \n",
       "std     15474.915980     7742.910599    7743.438601  \n",
       "min         3.000000        0.000000       0.000000  \n",
       "25%        26.000000       67.000000       0.900000  \n",
       "50%        45.000000      177.000000       1.500000  \n",
       "75%        70.000000      260.000000       2.500000  \n",
       "max    999999.000000   999999.000000  999999.000000  "
      ]
     },
     "execution_count": 39,
     "metadata": {},
     "output_type": "execute_result"
    }
   ],
   "source": [
    "beijing_observed_meo_union.describe()"
   ]
  },
  {
   "cell_type": "markdown",
   "metadata": {},
   "source": [
    "### Save as interim feather file"
   ]
  },
  {
   "cell_type": "code",
   "execution_count": 40,
   "metadata": {
    "scrolled": false
   },
   "outputs": [],
   "source": [
    "beijing_observed_meo_union.reset_index().drop('index', axis=1).to_feather(DATA_PATH + 'interim/beijing_meo_observed_union.feather')"
   ]
  },
  {
   "cell_type": "code",
   "execution_count": 41,
   "metadata": {
    "scrolled": true
   },
   "outputs": [
    {
     "data": {
      "text/html": [
       "<div>\n",
       "<style scoped>\n",
       "    .dataframe tbody tr th:only-of-type {\n",
       "        vertical-align: middle;\n",
       "    }\n",
       "\n",
       "    .dataframe tbody tr th {\n",
       "        vertical-align: top;\n",
       "    }\n",
       "\n",
       "    .dataframe thead th {\n",
       "        text-align: right;\n",
       "    }\n",
       "</style>\n",
       "<table border=\"1\" class=\"dataframe\">\n",
       "  <thead>\n",
       "    <tr style=\"text-align: right;\">\n",
       "      <th></th>\n",
       "      <th>station_id</th>\n",
       "      <th>longitude</th>\n",
       "      <th>latitude</th>\n",
       "      <th>utc_datetime</th>\n",
       "      <th>temperature</th>\n",
       "      <th>pressure</th>\n",
       "      <th>humidity</th>\n",
       "      <th>wind_direction</th>\n",
       "      <th>wind_speed</th>\n",
       "      <th>weather</th>\n",
       "    </tr>\n",
       "  </thead>\n",
       "  <tbody>\n",
       "    <tr>\n",
       "      <td>0</td>\n",
       "      <td>shunyi_meo</td>\n",
       "      <td>116.615278</td>\n",
       "      <td>40.126667</td>\n",
       "      <td>2017-01-30 16:00:00</td>\n",
       "      <td>-1.7</td>\n",
       "      <td>1028.7</td>\n",
       "      <td>15</td>\n",
       "      <td>215.0</td>\n",
       "      <td>1.6</td>\n",
       "      <td>Sunny/clear</td>\n",
       "    </tr>\n",
       "    <tr>\n",
       "      <td>1</td>\n",
       "      <td>shunyi_meo</td>\n",
       "      <td>116.615278</td>\n",
       "      <td>40.126667</td>\n",
       "      <td>2017-01-30 17:00:00</td>\n",
       "      <td>-3.5</td>\n",
       "      <td>1028.4</td>\n",
       "      <td>24</td>\n",
       "      <td>16.0</td>\n",
       "      <td>1.0</td>\n",
       "      <td>Haze</td>\n",
       "    </tr>\n",
       "    <tr>\n",
       "      <td>2</td>\n",
       "      <td>shunyi_meo</td>\n",
       "      <td>116.615278</td>\n",
       "      <td>40.126667</td>\n",
       "      <td>2017-01-30 18:00:00</td>\n",
       "      <td>-3.7</td>\n",
       "      <td>1028.1</td>\n",
       "      <td>27</td>\n",
       "      <td>32.0</td>\n",
       "      <td>1.1</td>\n",
       "      <td>Haze</td>\n",
       "    </tr>\n",
       "    <tr>\n",
       "      <td>3</td>\n",
       "      <td>shunyi_meo</td>\n",
       "      <td>116.615278</td>\n",
       "      <td>40.126667</td>\n",
       "      <td>2017-01-30 19:00:00</td>\n",
       "      <td>-3.9</td>\n",
       "      <td>1027.6</td>\n",
       "      <td>27</td>\n",
       "      <td>21.0</td>\n",
       "      <td>0.9</td>\n",
       "      <td>Haze</td>\n",
       "    </tr>\n",
       "    <tr>\n",
       "      <td>4</td>\n",
       "      <td>shunyi_meo</td>\n",
       "      <td>116.615278</td>\n",
       "      <td>40.126667</td>\n",
       "      <td>2017-01-30 20:00:00</td>\n",
       "      <td>-4.1</td>\n",
       "      <td>1026.7</td>\n",
       "      <td>26</td>\n",
       "      <td>17.0</td>\n",
       "      <td>1.1</td>\n",
       "      <td>Haze</td>\n",
       "    </tr>\n",
       "  </tbody>\n",
       "</table>\n",
       "</div>"
      ],
      "text/plain": [
       "   station_id   longitude   latitude        utc_datetime  temperature  \\\n",
       "0  shunyi_meo  116.615278  40.126667 2017-01-30 16:00:00         -1.7   \n",
       "1  shunyi_meo  116.615278  40.126667 2017-01-30 17:00:00         -3.5   \n",
       "2  shunyi_meo  116.615278  40.126667 2017-01-30 18:00:00         -3.7   \n",
       "3  shunyi_meo  116.615278  40.126667 2017-01-30 19:00:00         -3.9   \n",
       "4  shunyi_meo  116.615278  40.126667 2017-01-30 20:00:00         -4.1   \n",
       "\n",
       "   pressure  humidity  wind_direction  wind_speed      weather  \n",
       "0    1028.7        15           215.0         1.6  Sunny/clear  \n",
       "1    1028.4        24            16.0         1.0         Haze  \n",
       "2    1028.1        27            32.0         1.1         Haze  \n",
       "3    1027.6        27            21.0         0.9         Haze  \n",
       "4    1026.7        26            17.0         1.1         Haze  "
      ]
     },
     "execution_count": 41,
     "metadata": {},
     "output_type": "execute_result"
    }
   ],
   "source": [
    "beijing_observed_meo_union = pd.read_feather(DATA_PATH + 'interim/beijing_meo_observed_union.feather')\n",
    "beijing_observed_meo_union.head()"
   ]
  },
  {
   "cell_type": "markdown",
   "metadata": {},
   "source": [
    "### Air Quality Outliers"
   ]
  },
  {
   "cell_type": "code",
   "execution_count": 42,
   "metadata": {},
   "outputs": [
    {
     "data": {
      "text/html": [
       "<div>\n",
       "<style scoped>\n",
       "    .dataframe tbody tr th:only-of-type {\n",
       "        vertical-align: middle;\n",
       "    }\n",
       "\n",
       "    .dataframe tbody tr th {\n",
       "        vertical-align: top;\n",
       "    }\n",
       "\n",
       "    .dataframe thead th {\n",
       "        text-align: right;\n",
       "    }\n",
       "</style>\n",
       "<table border=\"1\" class=\"dataframe\">\n",
       "  <thead>\n",
       "    <tr style=\"text-align: right;\">\n",
       "      <th></th>\n",
       "      <th>PM2.5</th>\n",
       "      <th>PM10</th>\n",
       "      <th>NO2</th>\n",
       "      <th>CO</th>\n",
       "      <th>O3</th>\n",
       "      <th>SO2</th>\n",
       "    </tr>\n",
       "  </thead>\n",
       "  <tbody>\n",
       "    <tr>\n",
       "      <td>count</td>\n",
       "      <td>331121.000000</td>\n",
       "      <td>259175.000000</td>\n",
       "      <td>332831.000000</td>\n",
       "      <td>308390.000000</td>\n",
       "      <td>330810.000000</td>\n",
       "      <td>332879.000000</td>\n",
       "    </tr>\n",
       "    <tr>\n",
       "      <td>mean</td>\n",
       "      <td>61.191407</td>\n",
       "      <td>91.342772</td>\n",
       "      <td>46.066382</td>\n",
       "      <td>0.971086</td>\n",
       "      <td>55.052323</td>\n",
       "      <td>9.199598</td>\n",
       "    </tr>\n",
       "    <tr>\n",
       "      <td>std</td>\n",
       "      <td>67.385924</td>\n",
       "      <td>103.024487</td>\n",
       "      <td>32.246534</td>\n",
       "      <td>0.973267</td>\n",
       "      <td>51.610243</td>\n",
       "      <td>11.596243</td>\n",
       "    </tr>\n",
       "    <tr>\n",
       "      <td>min</td>\n",
       "      <td>2.000000</td>\n",
       "      <td>5.000000</td>\n",
       "      <td>1.000000</td>\n",
       "      <td>0.100000</td>\n",
       "      <td>1.000000</td>\n",
       "      <td>1.000000</td>\n",
       "    </tr>\n",
       "    <tr>\n",
       "      <td>25%</td>\n",
       "      <td>16.000000</td>\n",
       "      <td>38.000000</td>\n",
       "      <td>20.000000</td>\n",
       "      <td>0.400000</td>\n",
       "      <td>13.000000</td>\n",
       "      <td>2.000000</td>\n",
       "    </tr>\n",
       "    <tr>\n",
       "      <td>50%</td>\n",
       "      <td>41.000000</td>\n",
       "      <td>71.000000</td>\n",
       "      <td>40.000000</td>\n",
       "      <td>0.700000</td>\n",
       "      <td>46.000000</td>\n",
       "      <td>5.000000</td>\n",
       "    </tr>\n",
       "    <tr>\n",
       "      <td>75%</td>\n",
       "      <td>81.000000</td>\n",
       "      <td>116.000000</td>\n",
       "      <td>66.000000</td>\n",
       "      <td>1.200000</td>\n",
       "      <td>78.000000</td>\n",
       "      <td>12.000000</td>\n",
       "    </tr>\n",
       "    <tr>\n",
       "      <td>max</td>\n",
       "      <td>1574.000000</td>\n",
       "      <td>3280.000000</td>\n",
       "      <td>300.000000</td>\n",
       "      <td>15.000000</td>\n",
       "      <td>504.000000</td>\n",
       "      <td>307.000000</td>\n",
       "    </tr>\n",
       "  </tbody>\n",
       "</table>\n",
       "</div>"
      ],
      "text/plain": [
       "               PM2.5           PM10            NO2             CO  \\\n",
       "count  331121.000000  259175.000000  332831.000000  308390.000000   \n",
       "mean       61.191407      91.342772      46.066382       0.971086   \n",
       "std        67.385924     103.024487      32.246534       0.973267   \n",
       "min         2.000000       5.000000       1.000000       0.100000   \n",
       "25%        16.000000      38.000000      20.000000       0.400000   \n",
       "50%        41.000000      71.000000      40.000000       0.700000   \n",
       "75%        81.000000     116.000000      66.000000       1.200000   \n",
       "max      1574.000000    3280.000000     300.000000      15.000000   \n",
       "\n",
       "                  O3            SO2  \n",
       "count  330810.000000  332879.000000  \n",
       "mean       55.052323       9.199598  \n",
       "std        51.610243      11.596243  \n",
       "min         1.000000       1.000000  \n",
       "25%        13.000000       2.000000  \n",
       "50%        46.000000       5.000000  \n",
       "75%        78.000000      12.000000  \n",
       "max       504.000000     307.000000  "
      ]
     },
     "execution_count": 42,
     "metadata": {},
     "output_type": "execute_result"
    }
   ],
   "source": [
    "beijing_aq_data.describe()"
   ]
  },
  {
   "cell_type": "code",
   "execution_count": 43,
   "metadata": {
    "scrolled": true
   },
   "outputs": [
    {
     "data": {
      "text/plain": [
       "<matplotlib.axes._subplots.AxesSubplot at 0x117541978>"
      ]
     },
     "execution_count": 43,
     "metadata": {},
     "output_type": "execute_result"
    },
    {
     "data": {
      "image/png": "[encoded data removed]",
      "text/plain": [
       "<Figure size 432x288 with 1 Axes>"
      ]
     },
     "metadata": {
      "needs_background": "light"
     },
     "output_type": "display_data"
    }
   ],
   "source": [
    "beijing_aq_data['PM2.5'].plot.box()"
   ]
  },
  {
   "cell_type": "code",
   "execution_count": 44,
   "metadata": {},
   "outputs": [
    {
     "data": {
      "text/plain": [
       "<matplotlib.axes._subplots.AxesSubplot at 0x12eb097b8>"
      ]
     },
     "execution_count": 44,
     "metadata": {},
     "output_type": "execute_result"
    },
    {
     "data": {
      "image/png": "[encoded data removed]",
      "text/plain": [
       "<Figure size 432x288 with 1 Axes>"
      ]
     },
     "metadata": {
      "needs_background": "light"
     },
     "output_type": "display_data"
    }
   ],
   "source": [
    "beijing_aq_data['PM10'].plot.box()"
   ]
  },
  {
   "cell_type": "code",
   "execution_count": 45,
   "metadata": {},
   "outputs": [
    {
     "data": {
      "text/html": [
       "<div>\n",
       "<style scoped>\n",
       "    .dataframe tbody tr th:only-of-type {\n",
       "        vertical-align: middle;\n",
       "    }\n",
       "\n",
       "    .dataframe tbody tr th {\n",
       "        vertical-align: top;\n",
       "    }\n",
       "\n",
       "    .dataframe thead th {\n",
       "        text-align: right;\n",
       "    }\n",
       "</style>\n",
       "<table border=\"1\" class=\"dataframe\">\n",
       "  <thead>\n",
       "    <tr style=\"text-align: right;\">\n",
       "      <th></th>\n",
       "      <th>station_id</th>\n",
       "      <th>utc_datetime</th>\n",
       "      <th>PM2.5</th>\n",
       "      <th>PM10</th>\n",
       "      <th>NO2</th>\n",
       "      <th>CO</th>\n",
       "      <th>O3</th>\n",
       "      <th>SO2</th>\n",
       "    </tr>\n",
       "  </thead>\n",
       "  <tbody>\n",
       "    <tr>\n",
       "      <td>337537</td>\n",
       "      <td>huairou_aq</td>\n",
       "      <td>2018-03-29 14:00:00</td>\n",
       "      <td>1574.0</td>\n",
       "      <td>NaN</td>\n",
       "      <td>32.0</td>\n",
       "      <td>0.5</td>\n",
       "      <td>60.0</td>\n",
       "      <td>5.0</td>\n",
       "    </tr>\n",
       "  </tbody>\n",
       "</table>\n",
       "</div>"
      ],
      "text/plain": [
       "        station_id        utc_datetime   PM2.5  PM10   NO2   CO    O3  SO2\n",
       "337537  huairou_aq 2018-03-29 14:00:00  1574.0   NaN  32.0  0.5  60.0  5.0"
      ]
     },
     "execution_count": 45,
     "metadata": {},
     "output_type": "execute_result"
    }
   ],
   "source": [
    "beijing_aq_data[beijing_aq_data['PM2.5'] > 1400]"
   ]
  },
  {
   "cell_type": "code",
   "execution_count": 46,
   "metadata": {},
   "outputs": [
    {
     "data": {
      "text/html": [
       "<div>\n",
       "<style scoped>\n",
       "    .dataframe tbody tr th:only-of-type {\n",
       "        vertical-align: middle;\n",
       "    }\n",
       "\n",
       "    .dataframe tbody tr th {\n",
       "        vertical-align: top;\n",
       "    }\n",
       "\n",
       "    .dataframe thead th {\n",
       "        text-align: right;\n",
       "    }\n",
       "</style>\n",
       "<table border=\"1\" class=\"dataframe\">\n",
       "  <thead>\n",
       "    <tr style=\"text-align: right;\">\n",
       "      <th></th>\n",
       "      <th>station_id</th>\n",
       "      <th>utc_datetime</th>\n",
       "      <th>PM2.5</th>\n",
       "      <th>PM10</th>\n",
       "      <th>NO2</th>\n",
       "      <th>CO</th>\n",
       "      <th>O3</th>\n",
       "      <th>SO2</th>\n",
       "    </tr>\n",
       "  </thead>\n",
       "  <tbody>\n",
       "    <tr>\n",
       "      <td>328609</td>\n",
       "      <td>aotizhongxin_aq</td>\n",
       "      <td>2018-03-29 14:00:00</td>\n",
       "      <td>23.0</td>\n",
       "      <td>108.0</td>\n",
       "      <td>37.0</td>\n",
       "      <td>0.3</td>\n",
       "      <td>54.0</td>\n",
       "      <td>7.0</td>\n",
       "    </tr>\n",
       "    <tr>\n",
       "      <td>329353</td>\n",
       "      <td>badaling_aq</td>\n",
       "      <td>2018-03-29 14:00:00</td>\n",
       "      <td>24.0</td>\n",
       "      <td>203.0</td>\n",
       "      <td>41.0</td>\n",
       "      <td>0.4</td>\n",
       "      <td>61.0</td>\n",
       "      <td>4.0</td>\n",
       "    </tr>\n",
       "    <tr>\n",
       "      <td>330097</td>\n",
       "      <td>beibuxinqu_aq</td>\n",
       "      <td>2018-03-29 14:00:00</td>\n",
       "      <td>25.0</td>\n",
       "      <td>140.0</td>\n",
       "      <td>27.0</td>\n",
       "      <td>0.4</td>\n",
       "      <td>65.0</td>\n",
       "      <td>5.0</td>\n",
       "    </tr>\n",
       "    <tr>\n",
       "      <td>330841</td>\n",
       "      <td>daxing_aq</td>\n",
       "      <td>2018-03-29 14:00:00</td>\n",
       "      <td>22.0</td>\n",
       "      <td>69.0</td>\n",
       "      <td>40.0</td>\n",
       "      <td>1.4</td>\n",
       "      <td>62.0</td>\n",
       "      <td>5.0</td>\n",
       "    </tr>\n",
       "    <tr>\n",
       "      <td>331585</td>\n",
       "      <td>dingling_aq</td>\n",
       "      <td>2018-03-29 14:00:00</td>\n",
       "      <td>156.0</td>\n",
       "      <td>NaN</td>\n",
       "      <td>27.0</td>\n",
       "      <td>0.5</td>\n",
       "      <td>68.0</td>\n",
       "      <td>7.0</td>\n",
       "    </tr>\n",
       "    <tr>\n",
       "      <td>332329</td>\n",
       "      <td>donggaocun_aq</td>\n",
       "      <td>2018-03-29 14:00:00</td>\n",
       "      <td>25.0</td>\n",
       "      <td>69.0</td>\n",
       "      <td>29.0</td>\n",
       "      <td>0.4</td>\n",
       "      <td>62.0</td>\n",
       "      <td>8.0</td>\n",
       "    </tr>\n",
       "    <tr>\n",
       "      <td>333073</td>\n",
       "      <td>dongsi_aq</td>\n",
       "      <td>2018-03-29 14:00:00</td>\n",
       "      <td>23.0</td>\n",
       "      <td>107.0</td>\n",
       "      <td>37.0</td>\n",
       "      <td>0.3</td>\n",
       "      <td>61.0</td>\n",
       "      <td>11.0</td>\n",
       "    </tr>\n",
       "    <tr>\n",
       "      <td>333817</td>\n",
       "      <td>dongsihuan_aq</td>\n",
       "      <td>2018-03-29 14:00:00</td>\n",
       "      <td>20.0</td>\n",
       "      <td>105.0</td>\n",
       "      <td>50.0</td>\n",
       "      <td>0.5</td>\n",
       "      <td>44.0</td>\n",
       "      <td>7.0</td>\n",
       "    </tr>\n",
       "    <tr>\n",
       "      <td>334561</td>\n",
       "      <td>fangshan_aq</td>\n",
       "      <td>2018-03-29 14:00:00</td>\n",
       "      <td>21.0</td>\n",
       "      <td>114.0</td>\n",
       "      <td>31.0</td>\n",
       "      <td>0.3</td>\n",
       "      <td>70.0</td>\n",
       "      <td>5.0</td>\n",
       "    </tr>\n",
       "    <tr>\n",
       "      <td>335305</td>\n",
       "      <td>fengtaihuayuan_aq</td>\n",
       "      <td>2018-03-29 14:00:00</td>\n",
       "      <td>23.0</td>\n",
       "      <td>77.0</td>\n",
       "      <td>27.0</td>\n",
       "      <td>0.3</td>\n",
       "      <td>78.0</td>\n",
       "      <td>4.0</td>\n",
       "    </tr>\n",
       "  </tbody>\n",
       "</table>\n",
       "</div>"
      ],
      "text/plain": [
       "               station_id        utc_datetime  PM2.5   PM10   NO2   CO    O3  \\\n",
       "328609    aotizhongxin_aq 2018-03-29 14:00:00   23.0  108.0  37.0  0.3  54.0   \n",
       "329353        badaling_aq 2018-03-29 14:00:00   24.0  203.0  41.0  0.4  61.0   \n",
       "330097      beibuxinqu_aq 2018-03-29 14:00:00   25.0  140.0  27.0  0.4  65.0   \n",
       "330841          daxing_aq 2018-03-29 14:00:00   22.0   69.0  40.0  1.4  62.0   \n",
       "331585        dingling_aq 2018-03-29 14:00:00  156.0    NaN  27.0  0.5  68.0   \n",
       "332329      donggaocun_aq 2018-03-29 14:00:00   25.0   69.0  29.0  0.4  62.0   \n",
       "333073          dongsi_aq 2018-03-29 14:00:00   23.0  107.0  37.0  0.3  61.0   \n",
       "333817      dongsihuan_aq 2018-03-29 14:00:00   20.0  105.0  50.0  0.5  44.0   \n",
       "334561        fangshan_aq 2018-03-29 14:00:00   21.0  114.0  31.0  0.3  70.0   \n",
       "335305  fengtaihuayuan_aq 2018-03-29 14:00:00   23.0   77.0  27.0  0.3  78.0   \n",
       "\n",
       "         SO2  \n",
       "328609   7.0  \n",
       "329353   4.0  \n",
       "330097   5.0  \n",
       "330841   5.0  \n",
       "331585   7.0  \n",
       "332329   8.0  \n",
       "333073  11.0  \n",
       "333817   7.0  \n",
       "334561   5.0  \n",
       "335305   4.0  "
      ]
     },
     "execution_count": 46,
     "metadata": {},
     "output_type": "execute_result"
    }
   ],
   "source": [
    "## PM2.5 reading for this day seems to be an outlier. We will drop it\n",
    "\n",
    "beijing_aq_data.loc[beijing_aq_data[beijing_aq_data.utc_datetime == '2018-3-29 14:00:00'].index].head(10)"
   ]
  },
  {
   "cell_type": "code",
   "execution_count": 47,
   "metadata": {
    "scrolled": true
   },
   "outputs": [
    {
     "data": {
      "text/html": [
       "<div>\n",
       "<style scoped>\n",
       "    .dataframe tbody tr th:only-of-type {\n",
       "        vertical-align: middle;\n",
       "    }\n",
       "\n",
       "    .dataframe tbody tr th {\n",
       "        vertical-align: top;\n",
       "    }\n",
       "\n",
       "    .dataframe thead th {\n",
       "        text-align: right;\n",
       "    }\n",
       "</style>\n",
       "<table border=\"1\" class=\"dataframe\">\n",
       "  <thead>\n",
       "    <tr style=\"text-align: right;\">\n",
       "      <th></th>\n",
       "      <th>station_id</th>\n",
       "      <th>utc_datetime</th>\n",
       "      <th>PM2.5</th>\n",
       "      <th>PM10</th>\n",
       "      <th>NO2</th>\n",
       "      <th>CO</th>\n",
       "      <th>O3</th>\n",
       "      <th>SO2</th>\n",
       "    </tr>\n",
       "  </thead>\n",
       "  <tbody>\n",
       "    <tr>\n",
       "      <td>329317</td>\n",
       "      <td>badaling_aq</td>\n",
       "      <td>2018-03-28 02:00:00</td>\n",
       "      <td>327.0</td>\n",
       "      <td>3280.0</td>\n",
       "      <td>37.0</td>\n",
       "      <td>0.7</td>\n",
       "      <td>39.0</td>\n",
       "      <td>2.0</td>\n",
       "    </tr>\n",
       "  </tbody>\n",
       "</table>\n",
       "</div>"
      ],
      "text/plain": [
       "         station_id        utc_datetime  PM2.5    PM10   NO2   CO    O3  SO2\n",
       "329317  badaling_aq 2018-03-28 02:00:00  327.0  3280.0  37.0  0.7  39.0  2.0"
      ]
     },
     "execution_count": 47,
     "metadata": {},
     "output_type": "execute_result"
    }
   ],
   "source": [
    "beijing_aq_data[beijing_aq_data['PM10'] > 3000]"
   ]
  },
  {
   "cell_type": "code",
   "execution_count": 48,
   "metadata": {},
   "outputs": [
    {
     "data": {
      "text/html": [
       "<div>\n",
       "<style scoped>\n",
       "    .dataframe tbody tr th:only-of-type {\n",
       "        vertical-align: middle;\n",
       "    }\n",
       "\n",
       "    .dataframe tbody tr th {\n",
       "        vertical-align: top;\n",
       "    }\n",
       "\n",
       "    .dataframe thead th {\n",
       "        text-align: right;\n",
       "    }\n",
       "</style>\n",
       "<table border=\"1\" class=\"dataframe\">\n",
       "  <thead>\n",
       "    <tr style=\"text-align: right;\">\n",
       "      <th></th>\n",
       "      <th>station_id</th>\n",
       "      <th>utc_datetime</th>\n",
       "      <th>PM2.5</th>\n",
       "      <th>PM10</th>\n",
       "      <th>NO2</th>\n",
       "      <th>CO</th>\n",
       "      <th>O3</th>\n",
       "      <th>SO2</th>\n",
       "    </tr>\n",
       "  </thead>\n",
       "  <tbody>\n",
       "    <tr>\n",
       "      <td>328571</td>\n",
       "      <td>aotizhongxin_aq</td>\n",
       "      <td>2018-03-28</td>\n",
       "      <td>224.0</td>\n",
       "      <td>2178.0</td>\n",
       "      <td>51.0</td>\n",
       "      <td>0.4</td>\n",
       "      <td>28.0</td>\n",
       "      <td>2.0</td>\n",
       "    </tr>\n",
       "    <tr>\n",
       "      <td>329315</td>\n",
       "      <td>badaling_aq</td>\n",
       "      <td>2018-03-28</td>\n",
       "      <td>208.0</td>\n",
       "      <td>1795.0</td>\n",
       "      <td>71.0</td>\n",
       "      <td>1.0</td>\n",
       "      <td>2.0</td>\n",
       "      <td>8.0</td>\n",
       "    </tr>\n",
       "    <tr>\n",
       "      <td>330059</td>\n",
       "      <td>beibuxinqu_aq</td>\n",
       "      <td>2018-03-28</td>\n",
       "      <td>237.0</td>\n",
       "      <td>499.0</td>\n",
       "      <td>101.0</td>\n",
       "      <td>1.5</td>\n",
       "      <td>2.0</td>\n",
       "      <td>5.0</td>\n",
       "    </tr>\n",
       "    <tr>\n",
       "      <td>330803</td>\n",
       "      <td>daxing_aq</td>\n",
       "      <td>2018-03-28</td>\n",
       "      <td>198.0</td>\n",
       "      <td>2486.0</td>\n",
       "      <td>52.0</td>\n",
       "      <td>1.5</td>\n",
       "      <td>35.0</td>\n",
       "      <td>3.0</td>\n",
       "    </tr>\n",
       "    <tr>\n",
       "      <td>331547</td>\n",
       "      <td>dingling_aq</td>\n",
       "      <td>2018-03-28</td>\n",
       "      <td>316.0</td>\n",
       "      <td>2835.0</td>\n",
       "      <td>8.0</td>\n",
       "      <td>0.3</td>\n",
       "      <td>65.0</td>\n",
       "      <td>2.0</td>\n",
       "    </tr>\n",
       "    <tr>\n",
       "      <td>332291</td>\n",
       "      <td>donggaocun_aq</td>\n",
       "      <td>2018-03-28</td>\n",
       "      <td>131.0</td>\n",
       "      <td>827.0</td>\n",
       "      <td>42.0</td>\n",
       "      <td>1.5</td>\n",
       "      <td>67.0</td>\n",
       "      <td>16.0</td>\n",
       "    </tr>\n",
       "    <tr>\n",
       "      <td>333035</td>\n",
       "      <td>dongsi_aq</td>\n",
       "      <td>2018-03-28</td>\n",
       "      <td>213.0</td>\n",
       "      <td>2327.0</td>\n",
       "      <td>47.0</td>\n",
       "      <td>0.6</td>\n",
       "      <td>44.0</td>\n",
       "      <td>2.0</td>\n",
       "    </tr>\n",
       "    <tr>\n",
       "      <td>333779</td>\n",
       "      <td>dongsihuan_aq</td>\n",
       "      <td>2018-03-28</td>\n",
       "      <td>87.0</td>\n",
       "      <td>1933.0</td>\n",
       "      <td>82.0</td>\n",
       "      <td>0.7</td>\n",
       "      <td>18.0</td>\n",
       "      <td>4.0</td>\n",
       "    </tr>\n",
       "    <tr>\n",
       "      <td>334523</td>\n",
       "      <td>fangshan_aq</td>\n",
       "      <td>2018-03-28</td>\n",
       "      <td>NaN</td>\n",
       "      <td>1785.0</td>\n",
       "      <td>79.0</td>\n",
       "      <td>0.7</td>\n",
       "      <td>29.0</td>\n",
       "      <td>8.0</td>\n",
       "    </tr>\n",
       "    <tr>\n",
       "      <td>335267</td>\n",
       "      <td>fengtaihuayuan_aq</td>\n",
       "      <td>2018-03-28</td>\n",
       "      <td>245.0</td>\n",
       "      <td>2465.0</td>\n",
       "      <td>43.0</td>\n",
       "      <td>0.5</td>\n",
       "      <td>50.0</td>\n",
       "      <td>2.0</td>\n",
       "    </tr>\n",
       "  </tbody>\n",
       "</table>\n",
       "</div>"
      ],
      "text/plain": [
       "               station_id utc_datetime  PM2.5    PM10    NO2   CO    O3   SO2\n",
       "328571    aotizhongxin_aq   2018-03-28  224.0  2178.0   51.0  0.4  28.0   2.0\n",
       "329315        badaling_aq   2018-03-28  208.0  1795.0   71.0  1.0   2.0   8.0\n",
       "330059      beibuxinqu_aq   2018-03-28  237.0   499.0  101.0  1.5   2.0   5.0\n",
       "330803          daxing_aq   2018-03-28  198.0  2486.0   52.0  1.5  35.0   3.0\n",
       "331547        dingling_aq   2018-03-28  316.0  2835.0    8.0  0.3  65.0   2.0\n",
       "332291      donggaocun_aq   2018-03-28  131.0   827.0   42.0  1.5  67.0  16.0\n",
       "333035          dongsi_aq   2018-03-28  213.0  2327.0   47.0  0.6  44.0   2.0\n",
       "333779      dongsihuan_aq   2018-03-28   87.0  1933.0   82.0  0.7  18.0   4.0\n",
       "334523        fangshan_aq   2018-03-28    NaN  1785.0   79.0  0.7  29.0   8.0\n",
       "335267  fengtaihuayuan_aq   2018-03-28  245.0  2465.0   43.0  0.5  50.0   2.0"
      ]
     },
     "execution_count": 48,
     "metadata": {},
     "output_type": "execute_result"
    }
   ],
   "source": [
    "# PM10 is high for that day so we don't drop it.\n",
    "\n",
    "beijing_aq_data.loc[beijing_aq_data[beijing_aq_data.utc_datetime == '2018-3-28'].index].head(10)"
   ]
  },
  {
   "cell_type": "code",
   "execution_count": 49,
   "metadata": {},
   "outputs": [],
   "source": [
    "def process_air_quality_outliers(df):\n",
    "    outliers_index = df[beijing_aq_data['PM2.5'] > 1400].index\n",
    "    df = df.drop(outliers_index)\n",
    "    return df\n",
    "\n",
    "beijing_aq_data = process_air_quality_outliers(beijing_aq_data)"
   ]
  },
  {
   "cell_type": "markdown",
   "metadata": {},
   "source": [
    "### Save as interim feather file"
   ]
  },
  {
   "cell_type": "code",
   "execution_count": 50,
   "metadata": {
    "scrolled": false
   },
   "outputs": [],
   "source": [
    "beijing_aq_data.reset_index().drop('index', axis=1).to_feather(DATA_PATH + 'interim/beijing_aq_union.feather')"
   ]
  },
  {
   "cell_type": "code",
   "execution_count": 51,
   "metadata": {
    "scrolled": true
   },
   "outputs": [
    {
     "data": {
      "text/html": [
       "<div>\n",
       "<style scoped>\n",
       "    .dataframe tbody tr th:only-of-type {\n",
       "        vertical-align: middle;\n",
       "    }\n",
       "\n",
       "    .dataframe tbody tr th {\n",
       "        vertical-align: top;\n",
       "    }\n",
       "\n",
       "    .dataframe thead th {\n",
       "        text-align: right;\n",
       "    }\n",
       "</style>\n",
       "<table border=\"1\" class=\"dataframe\">\n",
       "  <thead>\n",
       "    <tr style=\"text-align: right;\">\n",
       "      <th></th>\n",
       "      <th>station_id</th>\n",
       "      <th>utc_datetime</th>\n",
       "      <th>PM2.5</th>\n",
       "      <th>PM10</th>\n",
       "      <th>NO2</th>\n",
       "      <th>CO</th>\n",
       "      <th>O3</th>\n",
       "      <th>SO2</th>\n",
       "    </tr>\n",
       "  </thead>\n",
       "  <tbody>\n",
       "    <tr>\n",
       "      <td>0</td>\n",
       "      <td>aotizhongxin_aq</td>\n",
       "      <td>2017-01-01 14:00:00</td>\n",
       "      <td>453.0</td>\n",
       "      <td>467.0</td>\n",
       "      <td>156.0</td>\n",
       "      <td>7.2</td>\n",
       "      <td>3.0</td>\n",
       "      <td>9.0</td>\n",
       "    </tr>\n",
       "    <tr>\n",
       "      <td>1</td>\n",
       "      <td>aotizhongxin_aq</td>\n",
       "      <td>2017-01-01 15:00:00</td>\n",
       "      <td>417.0</td>\n",
       "      <td>443.0</td>\n",
       "      <td>143.0</td>\n",
       "      <td>6.8</td>\n",
       "      <td>2.0</td>\n",
       "      <td>8.0</td>\n",
       "    </tr>\n",
       "    <tr>\n",
       "      <td>2</td>\n",
       "      <td>aotizhongxin_aq</td>\n",
       "      <td>2017-01-01 16:00:00</td>\n",
       "      <td>395.0</td>\n",
       "      <td>467.0</td>\n",
       "      <td>141.0</td>\n",
       "      <td>6.9</td>\n",
       "      <td>3.0</td>\n",
       "      <td>8.0</td>\n",
       "    </tr>\n",
       "    <tr>\n",
       "      <td>3</td>\n",
       "      <td>aotizhongxin_aq</td>\n",
       "      <td>2017-01-01 17:00:00</td>\n",
       "      <td>420.0</td>\n",
       "      <td>484.0</td>\n",
       "      <td>139.0</td>\n",
       "      <td>7.4</td>\n",
       "      <td>3.0</td>\n",
       "      <td>9.0</td>\n",
       "    </tr>\n",
       "    <tr>\n",
       "      <td>4</td>\n",
       "      <td>aotizhongxin_aq</td>\n",
       "      <td>2017-01-01 18:00:00</td>\n",
       "      <td>453.0</td>\n",
       "      <td>520.0</td>\n",
       "      <td>157.0</td>\n",
       "      <td>7.6</td>\n",
       "      <td>4.0</td>\n",
       "      <td>9.0</td>\n",
       "    </tr>\n",
       "  </tbody>\n",
       "</table>\n",
       "</div>"
      ],
      "text/plain": [
       "        station_id        utc_datetime  PM2.5   PM10    NO2   CO   O3  SO2\n",
       "0  aotizhongxin_aq 2017-01-01 14:00:00  453.0  467.0  156.0  7.2  3.0  9.0\n",
       "1  aotizhongxin_aq 2017-01-01 15:00:00  417.0  443.0  143.0  6.8  2.0  8.0\n",
       "2  aotizhongxin_aq 2017-01-01 16:00:00  395.0  467.0  141.0  6.9  3.0  8.0\n",
       "3  aotizhongxin_aq 2017-01-01 17:00:00  420.0  484.0  139.0  7.4  3.0  9.0\n",
       "4  aotizhongxin_aq 2017-01-01 18:00:00  453.0  520.0  157.0  7.6  4.0  9.0"
      ]
     },
     "execution_count": 51,
     "metadata": {},
     "output_type": "execute_result"
    }
   ],
   "source": [
    "beijing_aq_data = pd.read_feather(DATA_PATH + 'interim/beijing_aq_union.feather')\n",
    "beijing_aq_data.head()"
   ]
  },
  {
   "cell_type": "markdown",
   "metadata": {},
   "source": [
    "## Merge Air Quality and Weather Data"
   ]
  },
  {
   "cell_type": "markdown",
   "metadata": {},
   "source": [
    "### Load and process air quality stations excel file"
   ]
  },
  {
   "cell_type": "code",
   "execution_count": 52,
   "metadata": {},
   "outputs": [],
   "source": [
    "beijing_aq_stations = pd.read_excel(DATA_PATH + '/raw/Beijing/Beijing_AirQuality_Stations_en.xlsx', names=['station_id', 'longitude', 'latitude'])"
   ]
  },
  {
   "cell_type": "code",
   "execution_count": 53,
   "metadata": {
    "scrolled": true
   },
   "outputs": [],
   "source": [
    "def process_aq_stations(df):\n",
    "    df = df.loc[11:].dropna().reset_index().drop('index', axis=1)\n",
    "    return df\n",
    "\n",
    "beijing_aq_stations = process_aq_stations(beijing_aq_stations)"
   ]
  },
  {
   "cell_type": "code",
   "execution_count": 54,
   "metadata": {},
   "outputs": [],
   "source": [
    "beijing_aq_stations.to_feather(DATA_PATH + 'interim/beijing_aq_stations.feather')"
   ]
  },
  {
   "cell_type": "code",
   "execution_count": 10,
   "metadata": {},
   "outputs": [],
   "source": [
    "beijing_aq_stations = pd.read_feather(DATA_PATH + 'interim/beijing_aq_stations.feather')"
   ]
  },
  {
   "cell_type": "code",
   "execution_count": 11,
   "metadata": {},
   "outputs": [
    {
     "data": {
      "text/html": [
       "<div>\n",
       "<style scoped>\n",
       "    .dataframe tbody tr th:only-of-type {\n",
       "        vertical-align: middle;\n",
       "    }\n",
       "\n",
       "    .dataframe tbody tr th {\n",
       "        vertical-align: top;\n",
       "    }\n",
       "\n",
       "    .dataframe thead th {\n",
       "        text-align: right;\n",
       "    }\n",
       "</style>\n",
       "<table border=\"1\" class=\"dataframe\">\n",
       "  <thead>\n",
       "    <tr style=\"text-align: right;\">\n",
       "      <th></th>\n",
       "      <th>station_id</th>\n",
       "      <th>longitude</th>\n",
       "      <th>latitude</th>\n",
       "    </tr>\n",
       "  </thead>\n",
       "  <tbody>\n",
       "    <tr>\n",
       "      <td>0</td>\n",
       "      <td>dongsi_aq</td>\n",
       "      <td>116.417</td>\n",
       "      <td>39.929</td>\n",
       "    </tr>\n",
       "    <tr>\n",
       "      <td>1</td>\n",
       "      <td>tiantan_aq</td>\n",
       "      <td>116.407</td>\n",
       "      <td>39.886</td>\n",
       "    </tr>\n",
       "    <tr>\n",
       "      <td>2</td>\n",
       "      <td>guanyuan_aq</td>\n",
       "      <td>116.339</td>\n",
       "      <td>39.929</td>\n",
       "    </tr>\n",
       "    <tr>\n",
       "      <td>3</td>\n",
       "      <td>wanshouxigong_aq</td>\n",
       "      <td>116.352</td>\n",
       "      <td>39.878</td>\n",
       "    </tr>\n",
       "    <tr>\n",
       "      <td>4</td>\n",
       "      <td>aotizhongxin_aq</td>\n",
       "      <td>116.397</td>\n",
       "      <td>39.982</td>\n",
       "    </tr>\n",
       "  </tbody>\n",
       "</table>\n",
       "</div>"
      ],
      "text/plain": [
       "         station_id  longitude  latitude\n",
       "0         dongsi_aq    116.417    39.929\n",
       "1        tiantan_aq    116.407    39.886\n",
       "2       guanyuan_aq    116.339    39.929\n",
       "3  wanshouxigong_aq    116.352    39.878\n",
       "4   aotizhongxin_aq    116.397    39.982"
      ]
     },
     "execution_count": 11,
     "metadata": {},
     "output_type": "execute_result"
    }
   ],
   "source": [
    "beijing_aq_stations.head()"
   ]
  },
  {
   "cell_type": "markdown",
   "metadata": {},
   "source": [
    "### Load and process weather grid stations"
   ]
  },
  {
   "cell_type": "code",
   "execution_count": 57,
   "metadata": {},
   "outputs": [],
   "source": [
    "beijing_meo_grid_stations = pd.read_csv(DATA_PATH + 'raw/Beijing/Beijing_grid_weather_station.csv', names=['station_id', 'latitude', 'longitude'])"
   ]
  },
  {
   "cell_type": "code",
   "execution_count": 58,
   "metadata": {},
   "outputs": [
    {
     "data": {
      "text/html": [
       "<div>\n",
       "<style scoped>\n",
       "    .dataframe tbody tr th:only-of-type {\n",
       "        vertical-align: middle;\n",
       "    }\n",
       "\n",
       "    .dataframe tbody tr th {\n",
       "        vertical-align: top;\n",
       "    }\n",
       "\n",
       "    .dataframe thead th {\n",
       "        text-align: right;\n",
       "    }\n",
       "</style>\n",
       "<table border=\"1\" class=\"dataframe\">\n",
       "  <thead>\n",
       "    <tr style=\"text-align: right;\">\n",
       "      <th></th>\n",
       "      <th>station_id</th>\n",
       "      <th>latitude</th>\n",
       "      <th>longitude</th>\n",
       "    </tr>\n",
       "  </thead>\n",
       "  <tbody>\n",
       "    <tr>\n",
       "      <td>0</td>\n",
       "      <td>beijing_grid_000</td>\n",
       "      <td>39.0</td>\n",
       "      <td>115.0</td>\n",
       "    </tr>\n",
       "    <tr>\n",
       "      <td>1</td>\n",
       "      <td>beijing_grid_001</td>\n",
       "      <td>39.1</td>\n",
       "      <td>115.0</td>\n",
       "    </tr>\n",
       "    <tr>\n",
       "      <td>2</td>\n",
       "      <td>beijing_grid_002</td>\n",
       "      <td>39.2</td>\n",
       "      <td>115.0</td>\n",
       "    </tr>\n",
       "    <tr>\n",
       "      <td>3</td>\n",
       "      <td>beijing_grid_003</td>\n",
       "      <td>39.3</td>\n",
       "      <td>115.0</td>\n",
       "    </tr>\n",
       "    <tr>\n",
       "      <td>4</td>\n",
       "      <td>beijing_grid_004</td>\n",
       "      <td>39.4</td>\n",
       "      <td>115.0</td>\n",
       "    </tr>\n",
       "  </tbody>\n",
       "</table>\n",
       "</div>"
      ],
      "text/plain": [
       "         station_id  latitude  longitude\n",
       "0  beijing_grid_000      39.0      115.0\n",
       "1  beijing_grid_001      39.1      115.0\n",
       "2  beijing_grid_002      39.2      115.0\n",
       "3  beijing_grid_003      39.3      115.0\n",
       "4  beijing_grid_004      39.4      115.0"
      ]
     },
     "execution_count": 58,
     "metadata": {},
     "output_type": "execute_result"
    }
   ],
   "source": [
    "beijing_meo_grid_stations.head()"
   ]
  },
  {
   "cell_type": "markdown",
   "metadata": {},
   "source": [
    "### Create weather observed stations list"
   ]
  },
  {
   "cell_type": "code",
   "execution_count": 59,
   "metadata": {},
   "outputs": [
    {
     "data": {
      "text/html": [
       "<div>\n",
       "<style scoped>\n",
       "    .dataframe tbody tr th:only-of-type {\n",
       "        vertical-align: middle;\n",
       "    }\n",
       "\n",
       "    .dataframe tbody tr th {\n",
       "        vertical-align: top;\n",
       "    }\n",
       "\n",
       "    .dataframe thead th {\n",
       "        text-align: right;\n",
       "    }\n",
       "</style>\n",
       "<table border=\"1\" class=\"dataframe\">\n",
       "  <thead>\n",
       "    <tr style=\"text-align: right;\">\n",
       "      <th></th>\n",
       "      <th>station_id</th>\n",
       "      <th>longitude</th>\n",
       "      <th>latitude</th>\n",
       "      <th>utc_datetime</th>\n",
       "      <th>temperature</th>\n",
       "      <th>pressure</th>\n",
       "      <th>humidity</th>\n",
       "      <th>wind_direction</th>\n",
       "      <th>wind_speed</th>\n",
       "      <th>weather</th>\n",
       "    </tr>\n",
       "  </thead>\n",
       "  <tbody>\n",
       "    <tr>\n",
       "      <td>0</td>\n",
       "      <td>shunyi_meo</td>\n",
       "      <td>116.615278</td>\n",
       "      <td>40.126667</td>\n",
       "      <td>2017-01-30 16:00:00</td>\n",
       "      <td>-1.7</td>\n",
       "      <td>1028.7</td>\n",
       "      <td>15</td>\n",
       "      <td>215.0</td>\n",
       "      <td>1.6</td>\n",
       "      <td>Sunny/clear</td>\n",
       "    </tr>\n",
       "    <tr>\n",
       "      <td>1</td>\n",
       "      <td>shunyi_meo</td>\n",
       "      <td>116.615278</td>\n",
       "      <td>40.126667</td>\n",
       "      <td>2017-01-30 17:00:00</td>\n",
       "      <td>-3.5</td>\n",
       "      <td>1028.4</td>\n",
       "      <td>24</td>\n",
       "      <td>16.0</td>\n",
       "      <td>1.0</td>\n",
       "      <td>Haze</td>\n",
       "    </tr>\n",
       "    <tr>\n",
       "      <td>2</td>\n",
       "      <td>shunyi_meo</td>\n",
       "      <td>116.615278</td>\n",
       "      <td>40.126667</td>\n",
       "      <td>2017-01-30 18:00:00</td>\n",
       "      <td>-3.7</td>\n",
       "      <td>1028.1</td>\n",
       "      <td>27</td>\n",
       "      <td>32.0</td>\n",
       "      <td>1.1</td>\n",
       "      <td>Haze</td>\n",
       "    </tr>\n",
       "    <tr>\n",
       "      <td>3</td>\n",
       "      <td>shunyi_meo</td>\n",
       "      <td>116.615278</td>\n",
       "      <td>40.126667</td>\n",
       "      <td>2017-01-30 19:00:00</td>\n",
       "      <td>-3.9</td>\n",
       "      <td>1027.6</td>\n",
       "      <td>27</td>\n",
       "      <td>21.0</td>\n",
       "      <td>0.9</td>\n",
       "      <td>Haze</td>\n",
       "    </tr>\n",
       "    <tr>\n",
       "      <td>4</td>\n",
       "      <td>shunyi_meo</td>\n",
       "      <td>116.615278</td>\n",
       "      <td>40.126667</td>\n",
       "      <td>2017-01-30 20:00:00</td>\n",
       "      <td>-4.1</td>\n",
       "      <td>1026.7</td>\n",
       "      <td>26</td>\n",
       "      <td>17.0</td>\n",
       "      <td>1.1</td>\n",
       "      <td>Haze</td>\n",
       "    </tr>\n",
       "  </tbody>\n",
       "</table>\n",
       "</div>"
      ],
      "text/plain": [
       "   station_id   longitude   latitude        utc_datetime  temperature  \\\n",
       "0  shunyi_meo  116.615278  40.126667 2017-01-30 16:00:00         -1.7   \n",
       "1  shunyi_meo  116.615278  40.126667 2017-01-30 17:00:00         -3.5   \n",
       "2  shunyi_meo  116.615278  40.126667 2017-01-30 18:00:00         -3.7   \n",
       "3  shunyi_meo  116.615278  40.126667 2017-01-30 19:00:00         -3.9   \n",
       "4  shunyi_meo  116.615278  40.126667 2017-01-30 20:00:00         -4.1   \n",
       "\n",
       "   pressure  humidity  wind_direction  wind_speed      weather  \n",
       "0    1028.7        15           215.0         1.6  Sunny/clear  \n",
       "1    1028.4        24            16.0         1.0         Haze  \n",
       "2    1028.1        27            32.0         1.1         Haze  \n",
       "3    1027.6        27            21.0         0.9         Haze  \n",
       "4    1026.7        26            17.0         1.1         Haze  "
      ]
     },
     "execution_count": 59,
     "metadata": {},
     "output_type": "execute_result"
    }
   ],
   "source": [
    "beijing_observed_meo_union = pd.read_feather(DATA_PATH + 'interim/beijing_meo_observed_union.feather')\n",
    "beijing_observed_meo_union.head()"
   ]
  },
  {
   "cell_type": "code",
   "execution_count": 60,
   "metadata": {},
   "outputs": [
    {
     "data": {
      "text/html": [
       "<div>\n",
       "<style scoped>\n",
       "    .dataframe tbody tr th:only-of-type {\n",
       "        vertical-align: middle;\n",
       "    }\n",
       "\n",
       "    .dataframe tbody tr th {\n",
       "        vertical-align: top;\n",
       "    }\n",
       "\n",
       "    .dataframe thead th {\n",
       "        text-align: right;\n",
       "    }\n",
       "</style>\n",
       "<table border=\"1\" class=\"dataframe\">\n",
       "  <thead>\n",
       "    <tr style=\"text-align: right;\">\n",
       "      <th></th>\n",
       "      <th>station_id</th>\n",
       "      <th>latitude</th>\n",
       "      <th>longitude</th>\n",
       "    </tr>\n",
       "  </thead>\n",
       "  <tbody>\n",
       "    <tr>\n",
       "      <td>0</td>\n",
       "      <td>shunyi_meo</td>\n",
       "      <td>40.126667</td>\n",
       "      <td>116.615278</td>\n",
       "    </tr>\n",
       "    <tr>\n",
       "      <td>1</td>\n",
       "      <td>hadian_meo</td>\n",
       "      <td>39.986944</td>\n",
       "      <td>116.290556</td>\n",
       "    </tr>\n",
       "    <tr>\n",
       "      <td>2</td>\n",
       "      <td>yanqing_meo</td>\n",
       "      <td>40.449444</td>\n",
       "      <td>115.968889</td>\n",
       "    </tr>\n",
       "    <tr>\n",
       "      <td>3</td>\n",
       "      <td>miyun_meo</td>\n",
       "      <td>40.377500</td>\n",
       "      <td>116.864167</td>\n",
       "    </tr>\n",
       "    <tr>\n",
       "      <td>4</td>\n",
       "      <td>huairou_meo</td>\n",
       "      <td>40.357778</td>\n",
       "      <td>116.626944</td>\n",
       "    </tr>\n",
       "  </tbody>\n",
       "</table>\n",
       "</div>"
      ],
      "text/plain": [
       "    station_id   latitude   longitude\n",
       "0   shunyi_meo  40.126667  116.615278\n",
       "1   hadian_meo  39.986944  116.290556\n",
       "2  yanqing_meo  40.449444  115.968889\n",
       "3    miyun_meo  40.377500  116.864167\n",
       "4  huairou_meo  40.357778  116.626944"
      ]
     },
     "execution_count": 60,
     "metadata": {},
     "output_type": "execute_result"
    }
   ],
   "source": [
    "beijing_meo_observed_stations = beijing_observed_meo_union[['station_id', 'latitude', 'longitude']].drop_duplicates().dropna().reset_index().drop('index', axis=1)\n",
    "beijing_meo_observed_stations.head()"
   ]
  },
  {
   "cell_type": "markdown",
   "metadata": {},
   "source": [
    "### Save observed weather stations list"
   ]
  },
  {
   "cell_type": "code",
   "execution_count": 61,
   "metadata": {},
   "outputs": [],
   "source": [
    "beijing_meo_observed_stations.to_feather(DATA_PATH + 'interim/beijing_meo_observed_stations.feather')"
   ]
  },
  {
   "cell_type": "code",
   "execution_count": 15,
   "metadata": {},
   "outputs": [],
   "source": [
    "beijing_meo_observed_stations = pd.read_feather(DATA_PATH + 'interim/beijing_meo_observed_stations.feather')"
   ]
  },
  {
   "cell_type": "code",
   "execution_count": 16,
   "metadata": {
    "scrolled": true
   },
   "outputs": [
    {
     "data": {
      "text/html": [
       "<div>\n",
       "<style scoped>\n",
       "    .dataframe tbody tr th:only-of-type {\n",
       "        vertical-align: middle;\n",
       "    }\n",
       "\n",
       "    .dataframe tbody tr th {\n",
       "        vertical-align: top;\n",
       "    }\n",
       "\n",
       "    .dataframe thead th {\n",
       "        text-align: right;\n",
       "    }\n",
       "</style>\n",
       "<table border=\"1\" class=\"dataframe\">\n",
       "  <thead>\n",
       "    <tr style=\"text-align: right;\">\n",
       "      <th></th>\n",
       "      <th>station_id</th>\n",
       "      <th>latitude</th>\n",
       "      <th>longitude</th>\n",
       "    </tr>\n",
       "  </thead>\n",
       "  <tbody>\n",
       "    <tr>\n",
       "      <td>0</td>\n",
       "      <td>shunyi_meo</td>\n",
       "      <td>40.126667</td>\n",
       "      <td>116.615278</td>\n",
       "    </tr>\n",
       "    <tr>\n",
       "      <td>1</td>\n",
       "      <td>hadian_meo</td>\n",
       "      <td>39.986944</td>\n",
       "      <td>116.290556</td>\n",
       "    </tr>\n",
       "    <tr>\n",
       "      <td>2</td>\n",
       "      <td>yanqing_meo</td>\n",
       "      <td>40.449444</td>\n",
       "      <td>115.968889</td>\n",
       "    </tr>\n",
       "    <tr>\n",
       "      <td>3</td>\n",
       "      <td>miyun_meo</td>\n",
       "      <td>40.377500</td>\n",
       "      <td>116.864167</td>\n",
       "    </tr>\n",
       "    <tr>\n",
       "      <td>4</td>\n",
       "      <td>huairou_meo</td>\n",
       "      <td>40.357778</td>\n",
       "      <td>116.626944</td>\n",
       "    </tr>\n",
       "  </tbody>\n",
       "</table>\n",
       "</div>"
      ],
      "text/plain": [
       "    station_id   latitude   longitude\n",
       "0   shunyi_meo  40.126667  116.615278\n",
       "1   hadian_meo  39.986944  116.290556\n",
       "2  yanqing_meo  40.449444  115.968889\n",
       "3    miyun_meo  40.377500  116.864167\n",
       "4  huairou_meo  40.357778  116.626944"
      ]
     },
     "execution_count": 16,
     "metadata": {},
     "output_type": "execute_result"
    }
   ],
   "source": [
    "beijing_meo_observed_stations.head()"
   ]
  },
  {
   "cell_type": "markdown",
   "metadata": {},
   "source": [
    "### Merge air quality station data with it's nearest neighbor weather station data"
   ]
  },
  {
   "cell_type": "code",
   "execution_count": 63,
   "metadata": {},
   "outputs": [],
   "source": [
    "from sklearn.neighbors import NearestNeighbors\n",
    "import itertools\n",
    "import os\n",
    "\n",
    "# Create directory to save merged air quality and weather data\n",
    "\n",
    "os.makedirs(DATA_PATH + 'interim/aq_station_merged', exist_ok=True)\n",
    "\n",
    "# Load beijing air quality, grid and observed weather stations.\n",
    "\n",
    "beijing_aq_stations = pd.read_feather(DATA_PATH + 'interim/beijing_aq_stations.feather')\n",
    "\n",
    "grid_weather_stations = pd.read_csv(DATA_PATH + 'raw/Beijing/Beijing_grid_weather_station.csv', names=['station_id', 'latitude', 'longitude'])\n",
    "grid_weather_data = pd.read_feather(DATA_PATH + 'interim/beijing_meo_grid.feather')\n",
    "\n",
    "observed_weather_stations = pd.read_feather(DATA_PATH + 'interim/beijing_meo_observed_stations.feather')\n",
    "observed_weather_data = pd.read_feather(DATA_PATH + 'interim/beijing_meo_observed_union.feather')\n",
    "\n",
    "beijing_aq_data = pd.read_feather(DATA_PATH + 'interim/beijing_aq_union.feather')\n",
    "\n",
    "## Fit NearestNeighbor model to grid and observed weather station's coordinates\n",
    "\n",
    "grid_nn_model = NearestNeighbors(n_neighbors=2, metric='haversine', n_jobs=-1)\n",
    "grid_nn_model.fit(grid_weather_stations.set_index('station_id'))\n",
    "\n",
    "observed_nn_model = NearestNeighbors(n_neighbors=1, metric='haversine', n_jobs=-1)\n",
    "observed_nn_model.fit(observed_weather_stations.set_index('station_id'))\n",
    "\n",
    "def process_weather_station_data(df, station_name):\n",
    "    df = df.iloc[:, 3:].copy()\n",
    "    new_names = [(i,f\"{station_name}_{i}\") for i in df.iloc[:, 1:].columns.values]\n",
    "    return df.rename(columns = dict(new_names))\n",
    "\n",
    "def output_nn_weather_data(aq_station, latitude, longitude, nn_model, weather_stations, weather_data):\n",
    "        \n",
    "    nn_result = nn_model.kneighbors([[latitude, longitude]], return_distance=False)\n",
    "    \n",
    "    nn_index = nn_result[0]\n",
    "    nn_station_names = weather_stations.iloc[nn_index].station_id\n",
    "    \n",
    "    weather_data_dfs = [weather_data[weather_data.station_id == weather_station_id] for weather_station_id in nn_station_names]\n",
    "    weather_data_dfs = [process_weather_station_data(df, station_name) for station_name, df in zip(nn_station_names, weather_data_dfs)]\n",
    "    \n",
    "    return weather_data_dfs\n"
   ]
  },
  {
   "cell_type": "code",
   "execution_count": 64,
   "metadata": {
    "scrolled": false
   },
   "outputs": [
    {
     "ename": "KeyError",
     "evalue": "\"['station_id'] not found in axis\"",
     "output_type": "error",
     "traceback": [
      "\u001b[0;31m---------------------------------------------------------------------------\u001b[0m",
      "\u001b[0;31mKeyError\u001b[0m                                  Traceback (most recent call last)",
      "\u001b[0;32m<ipython-input-64-6a3269c17dce>\u001b[0m in \u001b[0;36m<module>\u001b[0;34m\u001b[0m\n\u001b[1;32m     38\u001b[0m \u001b[0;34m\u001b[0m\u001b[0m\n\u001b[1;32m     39\u001b[0m     \u001b[0;31m# Save to interim feather file\u001b[0m\u001b[0;34m\u001b[0m\u001b[0;34m\u001b[0m\u001b[0m\n\u001b[0;32m---> 40\u001b[0;31m     \u001b[0mstation_aq_data\u001b[0m \u001b[0;34m=\u001b[0m \u001b[0mstation_aq_data\u001b[0m\u001b[0;34m.\u001b[0m\u001b[0mdrop\u001b[0m\u001b[0;34m(\u001b[0m\u001b[0;34m'station_id'\u001b[0m\u001b[0;34m,\u001b[0m \u001b[0maxis\u001b[0m\u001b[0;34m=\u001b[0m\u001b[0;36m1\u001b[0m\u001b[0;34m)\u001b[0m\u001b[0;34m.\u001b[0m\u001b[0mreset_index\u001b[0m\u001b[0;34m(\u001b[0m\u001b[0;34m)\u001b[0m\u001b[0;34m.\u001b[0m\u001b[0mrename\u001b[0m\u001b[0;34m(\u001b[0m\u001b[0mcolumns\u001b[0m\u001b[0;34m=\u001b[0m\u001b[0;34m{\u001b[0m\u001b[0;34m'index'\u001b[0m\u001b[0;34m:\u001b[0m \u001b[0;34m'utc_datetime'\u001b[0m\u001b[0;34m}\u001b[0m\u001b[0;34m)\u001b[0m\u001b[0;34m\u001b[0m\u001b[0m\n\u001b[0m\u001b[1;32m     41\u001b[0m     \u001b[0mstation_name\u001b[0m \u001b[0;34m=\u001b[0m \u001b[0maq_station_info\u001b[0m\u001b[0;34m[\u001b[0m\u001b[0;34m'station_id'\u001b[0m\u001b[0;34m]\u001b[0m\u001b[0;34m\u001b[0m\u001b[0m\n\u001b[1;32m     42\u001b[0m     \u001b[0mstation_aq_data\u001b[0m\u001b[0;34m.\u001b[0m\u001b[0mto_feather\u001b[0m\u001b[0;34m(\u001b[0m\u001b[0mDATA_PATH\u001b[0m \u001b[0;34m+\u001b[0m \u001b[0;34mf\"interim/aq_station_merged/{station_name}_merged_weather.feather\"\u001b[0m\u001b[0;34m)\u001b[0m\u001b[0;34m\u001b[0m\u001b[0m\n",
      "\u001b[0;32m~/Documents/Eskwelabs/Capstone_Project/Air_Quality/KDD_Air_Quality/kdd_air_quality/env/lib/python3.6/site-packages/pandas/core/frame.py\u001b[0m in \u001b[0;36mdrop\u001b[0;34m(self, labels, axis, index, columns, level, inplace, errors)\u001b[0m\n\u001b[1;32m   4100\u001b[0m             \u001b[0mlevel\u001b[0m\u001b[0;34m=\u001b[0m\u001b[0mlevel\u001b[0m\u001b[0;34m,\u001b[0m\u001b[0;34m\u001b[0m\u001b[0m\n\u001b[1;32m   4101\u001b[0m             \u001b[0minplace\u001b[0m\u001b[0;34m=\u001b[0m\u001b[0minplace\u001b[0m\u001b[0;34m,\u001b[0m\u001b[0;34m\u001b[0m\u001b[0m\n\u001b[0;32m-> 4102\u001b[0;31m             \u001b[0merrors\u001b[0m\u001b[0;34m=\u001b[0m\u001b[0merrors\u001b[0m\u001b[0;34m,\u001b[0m\u001b[0;34m\u001b[0m\u001b[0m\n\u001b[0m\u001b[1;32m   4103\u001b[0m         )\n\u001b[1;32m   4104\u001b[0m \u001b[0;34m\u001b[0m\u001b[0m\n",
      "\u001b[0;32m~/Documents/Eskwelabs/Capstone_Project/Air_Quality/KDD_Air_Quality/kdd_air_quality/env/lib/python3.6/site-packages/pandas/core/generic.py\u001b[0m in \u001b[0;36mdrop\u001b[0;34m(self, labels, axis, index, columns, level, inplace, errors)\u001b[0m\n\u001b[1;32m   3912\u001b[0m         \u001b[0;32mfor\u001b[0m \u001b[0maxis\u001b[0m\u001b[0;34m,\u001b[0m \u001b[0mlabels\u001b[0m \u001b[0;32min\u001b[0m \u001b[0maxes\u001b[0m\u001b[0;34m.\u001b[0m\u001b[0mitems\u001b[0m\u001b[0;34m(\u001b[0m\u001b[0;34m)\u001b[0m\u001b[0;34m:\u001b[0m\u001b[0;34m\u001b[0m\u001b[0m\n\u001b[1;32m   3913\u001b[0m             \u001b[0;32mif\u001b[0m \u001b[0mlabels\u001b[0m \u001b[0;32mis\u001b[0m \u001b[0;32mnot\u001b[0m \u001b[0;32mNone\u001b[0m\u001b[0;34m:\u001b[0m\u001b[0;34m\u001b[0m\u001b[0m\n\u001b[0;32m-> 3914\u001b[0;31m                 \u001b[0mobj\u001b[0m \u001b[0;34m=\u001b[0m \u001b[0mobj\u001b[0m\u001b[0;34m.\u001b[0m\u001b[0m_drop_axis\u001b[0m\u001b[0;34m(\u001b[0m\u001b[0mlabels\u001b[0m\u001b[0;34m,\u001b[0m \u001b[0maxis\u001b[0m\u001b[0;34m,\u001b[0m \u001b[0mlevel\u001b[0m\u001b[0;34m=\u001b[0m\u001b[0mlevel\u001b[0m\u001b[0;34m,\u001b[0m \u001b[0merrors\u001b[0m\u001b[0;34m=\u001b[0m\u001b[0merrors\u001b[0m\u001b[0;34m)\u001b[0m\u001b[0;34m\u001b[0m\u001b[0m\n\u001b[0m\u001b[1;32m   3915\u001b[0m \u001b[0;34m\u001b[0m\u001b[0m\n\u001b[1;32m   3916\u001b[0m         \u001b[0;32mif\u001b[0m \u001b[0minplace\u001b[0m\u001b[0;34m:\u001b[0m\u001b[0;34m\u001b[0m\u001b[0m\n",
      "\u001b[0;32m~/Documents/Eskwelabs/Capstone_Project/Air_Quality/KDD_Air_Quality/kdd_air_quality/env/lib/python3.6/site-packages/pandas/core/generic.py\u001b[0m in \u001b[0;36m_drop_axis\u001b[0;34m(self, labels, axis, level, errors)\u001b[0m\n\u001b[1;32m   3944\u001b[0m                 \u001b[0mnew_axis\u001b[0m \u001b[0;34m=\u001b[0m \u001b[0maxis\u001b[0m\u001b[0;34m.\u001b[0m\u001b[0mdrop\u001b[0m\u001b[0;34m(\u001b[0m\u001b[0mlabels\u001b[0m\u001b[0;34m,\u001b[0m \u001b[0mlevel\u001b[0m\u001b[0;34m=\u001b[0m\u001b[0mlevel\u001b[0m\u001b[0;34m,\u001b[0m \u001b[0merrors\u001b[0m\u001b[0;34m=\u001b[0m\u001b[0merrors\u001b[0m\u001b[0;34m)\u001b[0m\u001b[0;34m\u001b[0m\u001b[0m\n\u001b[1;32m   3945\u001b[0m             \u001b[0;32melse\u001b[0m\u001b[0;34m:\u001b[0m\u001b[0;34m\u001b[0m\u001b[0m\n\u001b[0;32m-> 3946\u001b[0;31m                 \u001b[0mnew_axis\u001b[0m \u001b[0;34m=\u001b[0m \u001b[0maxis\u001b[0m\u001b[0;34m.\u001b[0m\u001b[0mdrop\u001b[0m\u001b[0;34m(\u001b[0m\u001b[0mlabels\u001b[0m\u001b[0;34m,\u001b[0m \u001b[0merrors\u001b[0m\u001b[0;34m=\u001b[0m\u001b[0merrors\u001b[0m\u001b[0;34m)\u001b[0m\u001b[0;34m\u001b[0m\u001b[0m\n\u001b[0m\u001b[1;32m   3947\u001b[0m             \u001b[0mresult\u001b[0m \u001b[0;34m=\u001b[0m \u001b[0mself\u001b[0m\u001b[0;34m.\u001b[0m\u001b[0mreindex\u001b[0m\u001b[0;34m(\u001b[0m\u001b[0;34m**\u001b[0m\u001b[0;34m{\u001b[0m\u001b[0maxis_name\u001b[0m\u001b[0;34m:\u001b[0m \u001b[0mnew_axis\u001b[0m\u001b[0;34m}\u001b[0m\u001b[0;34m)\u001b[0m\u001b[0;34m\u001b[0m\u001b[0m\n\u001b[1;32m   3948\u001b[0m \u001b[0;34m\u001b[0m\u001b[0m\n",
      "\u001b[0;32m~/Documents/Eskwelabs/Capstone_Project/Air_Quality/KDD_Air_Quality/kdd_air_quality/env/lib/python3.6/site-packages/pandas/core/indexes/base.py\u001b[0m in \u001b[0;36mdrop\u001b[0;34m(self, labels, errors)\u001b[0m\n\u001b[1;32m   5338\u001b[0m         \u001b[0;32mif\u001b[0m \u001b[0mmask\u001b[0m\u001b[0;34m.\u001b[0m\u001b[0many\u001b[0m\u001b[0;34m(\u001b[0m\u001b[0;34m)\u001b[0m\u001b[0;34m:\u001b[0m\u001b[0;34m\u001b[0m\u001b[0m\n\u001b[1;32m   5339\u001b[0m             \u001b[0;32mif\u001b[0m \u001b[0merrors\u001b[0m \u001b[0;34m!=\u001b[0m \u001b[0;34m\"ignore\"\u001b[0m\u001b[0;34m:\u001b[0m\u001b[0;34m\u001b[0m\u001b[0m\n\u001b[0;32m-> 5340\u001b[0;31m                 \u001b[0;32mraise\u001b[0m \u001b[0mKeyError\u001b[0m\u001b[0;34m(\u001b[0m\u001b[0;34m\"{} not found in axis\"\u001b[0m\u001b[0;34m.\u001b[0m\u001b[0mformat\u001b[0m\u001b[0;34m(\u001b[0m\u001b[0mlabels\u001b[0m\u001b[0;34m[\u001b[0m\u001b[0mmask\u001b[0m\u001b[0;34m]\u001b[0m\u001b[0;34m)\u001b[0m\u001b[0;34m)\u001b[0m\u001b[0;34m\u001b[0m\u001b[0m\n\u001b[0m\u001b[1;32m   5341\u001b[0m             \u001b[0mindexer\u001b[0m \u001b[0;34m=\u001b[0m \u001b[0mindexer\u001b[0m\u001b[0;34m[\u001b[0m\u001b[0;34m~\u001b[0m\u001b[0mmask\u001b[0m\u001b[0;34m]\u001b[0m\u001b[0;34m\u001b[0m\u001b[0m\n\u001b[1;32m   5342\u001b[0m         \u001b[0;32mreturn\u001b[0m \u001b[0mself\u001b[0m\u001b[0;34m.\u001b[0m\u001b[0mdelete\u001b[0m\u001b[0;34m(\u001b[0m\u001b[0mindexer\u001b[0m\u001b[0;34m)\u001b[0m\u001b[0;34m\u001b[0m\u001b[0m\n",
      "\u001b[0;31mKeyError\u001b[0m: \"['station_id'] not found in axis\""
     ]
    }
   ],
   "source": [
    "# Iterate through each air quality station\n",
    "for index, aq_station_info in beijing_aq_stations.iterrows():\n",
    "    \n",
    "    # Fetch KNN grid station weather data\n",
    "        \n",
    "    nn_grid_weather_data = output_nn_weather_data(aq_station_info['station_id'], \n",
    "                                                  aq_station_info['latitude'], \n",
    "                                                  aq_station_info['longitude'], \n",
    "                                                  grid_nn_model,\n",
    "                                                  grid_weather_stations,\n",
    "                                                  grid_weather_data)\n",
    "    \n",
    "    # Fetch KNN observed station weather data\n",
    "    \n",
    "    nn_observed_weather_data = output_nn_weather_data(aq_station_info['station_id'], \n",
    "                                                     aq_station_info['latitude'], \n",
    "                                                     aq_station_info['longitude'], \n",
    "                                                     observed_nn_model,\n",
    "                                                     observed_weather_stations,\n",
    "                                                     observed_weather_data)\n",
    "    \n",
    "    \n",
    "    \n",
    "    # Merge to air station air quality data\n",
    "    station_aq_data = beijing_aq_data[beijing_aq_data.station_id == aq_station_info['station_id']]\n",
    "    \n",
    "    for weather_df in itertools.chain(nn_grid_weather_data, nn_observed_weather_data):\n",
    "        station_aq_data = station_aq_data.merge(weather_df, on='utc_datetime', how='inner')\n",
    "        \n",
    "        \n",
    "    # Fill-in missing hourly values to impute later.\n",
    "    date_range_index = pd.date_range(start=station_aq_data.utc_datetime.min(), end=station_aq_data.utc_datetime.max(), freq='H')\n",
    "    station_aq_data = station_aq_data.set_index('utc_datetime').reindex(date_range_index)\n",
    "    \n",
    "    # TODO: Add imputation method here\n",
    "        \n",
    "    # Save to interim feather file\n",
    "    station_aq_data = station_aq_data.drop('station_id', axis=1).reset_index().rename(columns={'index': 'utc_datetime'})\n",
    "    station_name = aq_station_info['station_id']\n",
    "    station_aq_data.to_feather(DATA_PATH + f\"interim/aq_station_merged/{station_name}_merged_weather.feather\")\n",
    "    "
   ]
  }
 ],
 "metadata": {
  "kernelspec": {
   "display_name": "Python 3",
   "language": "python",
   "name": "python3"
  },
  "language_info": {
   "codemirror_mode": {
    "name": "ipython",
    "version": 3
   },
   "file_extension": ".py",
   "mimetype": "text/x-python",
   "name": "python",
   "nbconvert_exporter": "python",
   "pygments_lexer": "ipython3",
   "version": "3.6.5"
  }
 },
 "nbformat": 4,
 "nbformat_minor": 2
}
